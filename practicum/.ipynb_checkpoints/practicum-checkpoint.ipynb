{
 "cells": [
  {
   "cell_type": "markdown",
   "metadata": {},
   "source": [
    "# CSCI 4622 - Spring 2018 - Practicum \n",
    "***\n",
    "\n",
    "\n",
    "This practicum is due on Moodle by **11:59pm on Thursday May 3rd**. \n",
    "\n",
    "**Here are the rules:** \n",
    "\n",
    "4. Your work must be done entirely on your own. You may **NOT** collaborate with classmates or anyone else.  \n",
    "3. You may **NOT** post to message boards or other online resources asking for help. \n",
    "5. You may **NOT** use late days on the practicum nor can you drop your practicum grade. \n",
    "1. You may use your course notes, posted lecture slides, in-class notebooks, and homework solutions as resources. \n",
    "2. You may consult alternate sources like blog posts or technical papers, but you may **NOT** copy code from these sources. \n",
    "3. Any additional non-course sources that you use should be clearly cited (with links) in the **References** section at the bottom of this notebook. \n",
    "7. Submit only this Jupyter notebook to Moodle.  Do not compress it using tar, rar, zip, etc. \n",
    "\n",
    "Violation of the above rules will result in an **F** in the course and a trip to **Honor Council** \n",
    "\n",
    "***\n",
    "\n",
    "**By writing your name below you agree to abide by the given rules:**\n",
    "\n",
    "**Name**: $Brennon Lee$\n",
    "\n",
    "**Kaggle Username**: $<$insert username here$>$\n",
    "\n",
    "***\n",
    "\n",
    "\n",
    "**NOTES**: \n",
    "\n",
    "- You do not need to implement everything from scratch.  At this point you should be leveraging Sklearn as much as you can. \n",
    "- If you have a clarifying question, please post it as a **PRIVATE** message to me on Piazza. \n",
    "- Part of the goal of this assignment is to see if you can stand on your own.  Please do not ask me to help you debug code or check if your answers are correct. Most of the implementation details necessary to complete this practicum can be found in the Hands-On notebooks or the Sklearn documentation.  \n",
    "- You'll notice that the point totals below do not add up to 100.  This is because 10 out of the 100 points will be attributed to **style**.  To earn full credit for style your analysis should be concise and well-organized, your code should be readable and well-commented, and you should use plots and graphics to support your conclusions whenever appropriate.  "
   ]
  },
  {
   "cell_type": "code",
   "execution_count": 2,
   "metadata": {
    "ExecuteTime": {
     "end_time": "2018-04-19T11:17:37.900418Z",
     "start_time": "2018-04-19T11:17:37.897826Z"
    }
   },
   "outputs": [],
   "source": [
    "import pickle, gzip \n",
    "import numpy as np\n",
    "import pandas as pd\n",
    "import matplotlib.pylab as plt\n",
    "from sklearn.model_selection import train_test_split # To split data into TRAIN & VALID"
   ]
  },
  {
   "cell_type": "markdown",
   "metadata": {},
   "source": [
    "### [35 points] Problem 1: Building Classifiers for Fashion MNIST \n",
    "***\n",
    "\n",
    "The classic MNIST Handwritten Digit data set has been a staple in the machine learning literature since the beginning of time (i.e. the late 90's).  However, machine learning practitioners have grown tired of the rusty digits and have recently begun to create and explore new, more interesting data sets. Some popular alternatives to emerge recently are [EMNIST](https://www.kaggle.com/crawford/emnist), [Sign Language MNIST](https://www.kaggle.com/datamunge/sign-language-mnist), and [Fashion MNIST](https://github.com/zalandoresearch/fashion-mnist). In this problem you will explore the latter. \n",
    "\n",
    "Fashion MNIST is comprised of $28 \\times 28$ pixel gray-scale images of clothing, with classes corresponding to things like tops, trousers, coats, dresses, and various types of shoes.  The data set that we'll work with corresponds to a small subset of Fashion MNIST with 1500 examples from each of five distinct classes (tops, trousers, coats, sneakers, and ankle boots). \n",
    "\n",
    "Execute the following cell to load the data. "
   ]
  },
  {
   "cell_type": "code",
   "execution_count": 3,
   "metadata": {
    "ExecuteTime": {
     "end_time": "2018-04-19T11:16:40.004587Z",
     "start_time": "2018-04-19T11:16:39.285472Z"
    }
   },
   "outputs": [],
   "source": [
    "f = gzip.open('data/fashion_mnist_subset.pklz', 'rb')\n",
    "X_all, y_all = pickle.load(f)\n",
    "X_train, X_valid, y_train, y_valid = train_test_split(X_all, y_all, test_size=0.33, random_state=42)\n",
    "f.close()"
   ]
  },
  {
   "cell_type": "markdown",
   "metadata": {},
   "source": [
    "In **Parts A-C** you will construct various tuned classifiers for making predictions on Fashion MNIST.  For each classifier you should: \n",
    "- Describe and motivate any transformations on the pixel data that you found helpful/necessary to make your model work well. \n",
    "- Describe and justify your process for determining optimal hyperparameters for each model. Support your decisions with validation studies and associated graphics.  Do **NOT** just report the hyperparameters that worked best.  \n",
    "- Describe how you evaluated your models during your process (i.e. did you use a validation set, did you do cross-validation, etc). \n",
    "- Report the final optimal hyperparameters that you used as well as the accuracy of your final model. "
   ]
  },
  {
   "cell_type": "markdown",
   "metadata": {},
   "source": [
    "**Part A**: Construct a K-Nearest Neighbors classifier to make predictions on the data. "
   ]
  },
  {
   "cell_type": "code",
   "execution_count": 87,
   "metadata": {},
   "outputs": [
    {
     "data": {
      "image/png": "[encoded data removed]",
      "text/plain": [
       "<matplotlib.figure.Figure at 0x11ebf05c0>"
      ]
     },
     "metadata": {},
     "output_type": "display_data"
    }
   ],
   "source": [
    "def view_item(x, label=None):\n",
    "    fig = plt.figure(figsize=(3,3))\n",
    "    plt.imshow(x.reshape(28,28), cmap='gray');\n",
    "    plt.xticks([]); plt.yticks([]);\n",
    "    if label: plt.xlabel(\"true: {}\".format(label), fontsize=16)\n",
    "                \n",
    "training_index = 5\n",
    "view_item(X_all[training_index], y_all[training_index])"
   ]
  },
  {
   "cell_type": "markdown",
   "metadata": {},
   "source": [
    "<Center><h3>Analysis of Given Data Set</h3></Center>"
   ]
  },
  {
   "cell_type": "code",
   "execution_count": 22,
   "metadata": {},
   "outputs": [
    {
     "name": "stdout",
     "output_type": "stream",
     "text": [
      "Based on the given data set, we can see that there are 784 pixels in each image. \n",
      "Which can be divided into images of size 28.0 x 28.0\n",
      "Unigue labels on our true labels are the following set: {0, 1, 4, 7, 9}\n",
      "Where: \n",
      " 0 correlates to tops \n",
      " 1 correlates to trousers \n",
      " 4 correlates to shirts \n",
      " 7 correlates to sneakers \n",
      " 9 correlates to ankle boots\n",
      "\n",
      "Training set consists of 5025 examples\n",
      "In X_train, there are 984 examples of 0\n",
      "In X_train, there are 1012 examples of 1\n",
      "In X_train, there are 1019 examples of 4\n",
      "In X_train, there are 1001 examples of 7\n",
      "In X_train, there are 1009 examples of 9\n"
     ]
    }
   ],
   "source": [
    "pixel_size = X_all[0].shape[0]\n",
    "print('Based on the given data set, we can see that there are ' + str(pixel_size) + ' pixels in each image. \\nWhich can be divided into images of size ' + str(np.sqrt(pixel_size)) + ' x ' + str(np.sqrt(pixel_size)))\n",
    "print('Unigue labels on our true labels are the following set: ' + str(set(y_all)))\n",
    "print('Where: \\n 0 correlates to tops \\n 1 correlates to trousers \\n 4 correlates to shirts \\n 7 correlates to sneakers \\n 9 correlates to ankle boots\\n')\n",
    "print('Training set consists of ' + str(len(X_train)) + ' examples')\n",
    "for k in [0,1,4,7,9]:\n",
    "    print(\"In X_train, there are {:d} examples of {}\".format(len(X_train[y_train==k]), k))\n"
   ]
  },
  {
   "cell_type": "markdown",
   "metadata": {},
   "source": [
    "For a KNN model, the two big parameters we need to tune is whether or not the distance should be weighted or unweighted and then the find the optimal amount of nearest neighbors that yield the highest accuracy. Below, shows an array of nearest neighbors from 1 to 14 where we create a KNN instance, train on our training data and then find the accuracy of this model against our validation set. Then we will graph both models (weighted and unweighted) with their associated accuracies against the number of neighbors we are analysing."
   ]
  },
  {
   "cell_type": "code",
   "execution_count": 16,
   "metadata": {},
   "outputs": [
    {
     "name": "stdout",
     "output_type": "stream",
     "text": [
      "on k value: 1\n",
      "on k value: 2\n",
      "on k value: 3\n",
      "on k value: 4\n",
      "on k value: 5\n",
      "on k value: 6\n",
      "on k value: 7\n",
      "on k value: 8\n",
      "on k value: 9\n",
      "on k value: 10\n",
      "on k value: 11\n",
      "on k value: 12\n",
      "on k value: 13\n",
      "on k value: 14\n"
     ]
    },
    {
     "data": {
      "image/png": "[encoded data removed]",
      "text/plain": [
       "<matplotlib.figure.Figure at 0x126806ac8>"
      ]
     },
     "metadata": {},
     "output_type": "display_data"
    }
   ],
   "source": [
    "from sklearn.neighbors import KNeighborsClassifier\n",
    "k_vals = range(1,15) # Array from 1 to 14 of the nearest neighbors\n",
    "\n",
    "knn_accuracies = []\n",
    "w_knn_accuracies = []\n",
    "for k in k_vals:\n",
    "    print('on k value: ' + str(k))\n",
    "    knn = KNeighborsClassifier(k).fit(X_train, y_train)\n",
    "    w_knn = KNeighborsClassifier(k, weights=\"distance\").fit(X_train, y_train)\n",
    "    knn_accuracies.append(knn.score(X_valid, y_valid))\n",
    "    w_knn_accuracies.append(w_knn.score(X_valid, y_valid))\n",
    "\n",
    "plt.plot(k_vals, knn_accuracies, label='unweighted')\n",
    "plt.plot(k_vals, w_knn_accuracies, label='weighted')\n",
    "plt.xlabel(\"Neighbors\")\n",
    "plt.ylabel(\"Accuracuy\")\n",
    "plt.title(\"Kth Nearest Neighbors vs. Accuracies\")\n",
    "plt.legend()\n",
    "plt.show()\n"
   ]
  },
  {
   "cell_type": "markdown",
   "metadata": {},
   "source": [
    "From the graph above, we can see that the optimal parameters that yield the highest accuracy on the data set is a Weighted KNN model looking at the 4 nearest neighbors."
   ]
  },
  {
   "cell_type": "code",
   "execution_count": 33,
   "metadata": {},
   "outputs": [
    {
     "name": "stdout",
     "output_type": "stream",
     "text": [
      "Here is the confusion matrix for our best fit weighted model which shows the that the most commonly confused item is sneakers with ankle boots.\n",
      "[[502   2  11   1   0]\n",
      " [  9 474   5   0   0]\n",
      " [  3   0 476   2   0]\n",
      " [  0   0   0 463  36]\n",
      " [  0   0   0  17 474]]\n"
     ]
    }
   ],
   "source": [
    "from sklearn.metrics import confusion_matrix\n",
    "\n",
    "best_knn = KNeighborsClassifier(4, weights=\"distance\").fit(X_train, y_train)\n",
    "\n",
    "yHat_valid = best_knn.predict(X_valid)\n",
    "C = confusion_matrix(y_valid, yHat_valid)\n",
    "print('Here is the confusion matrix for our best fit weighted model which shows the that the most commonly confused item is sneakers with ankle boots.')\n",
    "print(C)\n",
    "\n"
   ]
  },
  {
   "cell_type": "code",
   "execution_count": 34,
   "metadata": {},
   "outputs": [
    {
     "name": "stdout",
     "output_type": "stream",
     "text": [
      "The best accuracy of the weighted KNN model is 96.53%.\n"
     ]
    }
   ],
   "source": [
    "print('The best accuracy of the weighted KNN model is ' + str(round(best_knn.score(X_valid, y_valid) * 100, 3)) + '%.')"
   ]
  },
  {
   "cell_type": "markdown",
   "metadata": {},
   "source": [
    "**Part B**: Construct a Linear Support Vector Machine classifier to make predictions on the data. "
   ]
  },
  {
   "cell_type": "markdown",
   "metadata": {},
   "source": [
    "For a Linear Support Vector Machine classifier, there are two parameters to look at. The hyperparameter that weights the slackness contribution to the primal objective function, and then the loss which is the exponent on the slack variables in the sum"
   ]
  },
  {
   "cell_type": "code",
   "execution_count": 60,
   "metadata": {},
   "outputs": [
    {
     "name": "stdout",
     "output_type": "stream",
     "text": [
      "on c value: 1\n",
      "on c value: 2\n",
      "on c value: 3\n",
      "on c value: 4\n",
      "on c value: 5\n",
      "on c value: 6\n",
      "on c value: 7\n",
      "on c value: 8\n",
      "on c value: 9\n",
      "on c value: 10\n",
      "on c value: 11\n",
      "on c value: 12\n",
      "on c value: 13\n",
      "on c value: 14\n",
      "on c value: 15\n",
      "on c value: 16\n",
      "on c value: 17\n",
      "on c value: 18\n",
      "on c value: 19\n",
      "on c value: 20\n"
     ]
    },
    {
     "data": {
      "image/png": "[encoded data removed]",
      "text/plain": [
       "<matplotlib.figure.Figure at 0x1264d9e80>"
      ]
     },
     "metadata": {},
     "output_type": "display_data"
    }
   ],
   "source": [
    "from sklearn.svm import LinearSVC\n",
    "\n",
    "hinge_accuracy = []\n",
    "sq_hinge_accuracy =[]\n",
    "c_vals = range(1,21)\n",
    "\n",
    "for c in c_vals: # hyperparameter weighting the slackness contribution to the primal objective function\n",
    "    print('on c value: ' + str(c))\n",
    "    svc = LinearSVC(C=c, loss=\"hinge\")\n",
    "    sq_svc = LinearSVC(C=c, loss=\"squared_hinge\")\n",
    "    \n",
    "    svc.fit(X_train, y_train)\n",
    "    sq_svc.fit(X_train, y_train)\n",
    "    \n",
    "    hinge_accuracy.append(svc.score(X_valid, y_valid))\n",
    "    sq_hinge_accuracy.append(sq_svc.score(X_valid, y_valid))\n",
    "    \n",
    "plt.plot(c_vals, hinge_accuracy, label='loss=hinge')\n",
    "plt.plot(c_vals, sq_hinge_accuracy, label='loss=squared_hinge')\n",
    "plt.xlabel(\"Hyperparameter C\")\n",
    "plt.ylabel(\"Accuracuy\")\n",
    "plt.title(\"hyperparameter C vs. Accuracies\")\n",
    "plt.legend()\n",
    "plt.show()"
   ]
  },
  {
   "cell_type": "markdown",
   "metadata": {},
   "source": [
    "**Part C**: Construct a Feed-Forward Neural Network classifier to make predictions on the data. We recommend using Sklearn's [MLPClassifier](http://scikit-learn.org/stable/modules/generated/sklearn.neural_network.MLPClassifier.html#sklearn.neural_network.MLPClassifier) rather than the code you wrote in Homework 4. In our experiments we found training an MLPClassifier to take no more than a minute for reasonable choices of architectures. "
   ]
  },
  {
   "cell_type": "markdown",
   "metadata": {},
   "source": [
    "For Neural Network, want to tune parameters: alpha (regularization term) and learning_rate_init."
   ]
  },
  {
   "cell_type": "code",
   "execution_count": 72,
   "metadata": {},
   "outputs": [
    {
     "name": "stdout",
     "output_type": "stream",
     "text": [
      "on rate: 0.0001\n",
      "on rate: 0.002311111111111111\n",
      "on rate: 0.004522222222222223\n",
      "on rate: 0.006733333333333333\n",
      "on rate: 0.008944444444444444\n",
      "on rate: 0.011155555555555556\n",
      "on rate: 0.013366666666666666\n",
      "on rate: 0.015577777777777777\n",
      "on rate: 0.01778888888888889\n",
      "on rate: 0.02\n"
     ]
    },
    {
     "data": {
      "image/png": "[encoded data removed]",
      "text/plain": [
       "<matplotlib.figure.Figure at 0x120a2aa20>"
      ]
     },
     "metadata": {},
     "output_type": "display_data"
    }
   ],
   "source": [
    "from sklearn.neural_network import MLPClassifier\n",
    "\n",
    "learning_rates = np.linspace(0.0001, .02, 10)\n",
    "learning_rate_acc = []\n",
    "\n",
    "for ee in learning_rates:\n",
    "    print('on rate: ' + str(ee))\n",
    "    mlp = MLPClassifier(learning_rate_init=ee)\n",
    "    mlp.fit(X_train, y_train)\n",
    "    learning_rate_acc.append(mlp.score(X_valid, y_valid))\n",
    "    \n",
    "plt.plot(learning_rates, learning_rate_acc)\n",
    "plt.xlabel(\"Learning Rate\")\n",
    "plt.ylabel(\"Accuracy\")\n",
    "plt.title(\"Learning Rate vs. Accuracy\")\n",
    "plt.show()"
   ]
  },
  {
   "cell_type": "raw",
   "metadata": {},
   "source": [
    "From the graph above, we can see that the best learning rate param"
   ]
  },
  {
   "cell_type": "markdown",
   "metadata": {},
   "source": [
    "**Part D**: Which of the three models above performed the best on the data set?  Were you surprised or not surprised by your results?  Discuss. "
   ]
  },
  {
   "cell_type": "code",
   "execution_count": null,
   "metadata": {
    "collapsed": true
   },
   "outputs": [],
   "source": []
  },
  {
   "cell_type": "markdown",
   "metadata": {},
   "source": [
    "**Part E**: For the best model you identified in **Part D**, perform a train-validation split and construct a confusion matrix based on predictions on the validation set.  Which classes tend to get confused with each other the most? Are there any classes for which your model performs exceptionally well?  Plot at least one misclassified example from each of the often-confused classes and suggests reasons why this behavior might occur.   "
   ]
  },
  {
   "cell_type": "code",
   "execution_count": null,
   "metadata": {
    "collapsed": true
   },
   "outputs": [],
   "source": []
  },
  {
   "cell_type": "markdown",
   "metadata": {},
   "source": [
    "### Helper Functions for 1"
   ]
  },
  {
   "cell_type": "code",
   "execution_count": 52,
   "metadata": {},
   "outputs": [],
   "source": [
    "def plot_clothing(X, y):\n",
    "    fig, ax = plt.subplots(nrows=1, ncols=1, figsize=(8,8))\n",
    "    name_color_dict = {0: (\"steelblue\", \"setosa\"), 1:(\"#a76c6e\", \"versicolor\"), 4:(\"#6a9373\", \"virginica\"), 7:(\"#6a9323\", \"sneakers\"), 9:(\"#6a2423\", \"ankle boots\")}\n",
    "    for k in [1,4,7,9]:\n",
    "        ax.scatter(X[y==k,0], X[y==k,1], color=name_color_dict[k][0], s=100, label=name_color_dict[k][1])\n",
    "    ax.grid(alpha=0.25)\n",
    "    ax.legend(loc=\"upper right\", fontsize=16)\n",
    "    ax.set_xlabel(\"sepal length (cm)\", fontsize=16)\n",
    "    ax.set_ylabel(\"sepal width (cm)\", fontsize=16)\n",
    "\n",
    "def plot_knn_boundary(X, y, model):\n",
    "    \n",
    "    from matplotlib import colors\n",
    "    \n",
    "    fig, ax = plt.subplots(nrows=1, ncols=1, figsize=(8,8))\n",
    "    \n",
    "    name_color_dict = {0: (\"steelblue\", \"tops\"), 1:(\"#a76c6e\", \"trousers\"), 4:(\"#6a9373\", \"shirts\"), 7:(\"#6a9323\", \"sneakers\"), 9:(\"#6a2423\", \"ankle boots\") }\n",
    "    for k in [0,1,4,7,9]:\n",
    "        ax.scatter(X[y==k,0], X[y==k,1], color=name_color_dict[k][0], s=100, label=name_color_dict[k][1], edgecolors=\"white\", zorder=2)\n",
    "    \n",
    "    # Plot the decision boundary. \n",
    "    x_min, x_max = X[:,0].min() - .5, X[:,0].max() + .5\n",
    "    y_min, y_max = X[:,1].min() - .5, X[:,1].max() + .5\n",
    "    xx, yy = np.meshgrid(np.arange(x_min, x_max, 0.025), np.arange(y_min, y_max, 0.025))\n",
    "    print(model.predict(np.c_[xx.ravel(), yy.ravel()]))\n",
    "    Z = model.predict(np.c_[xx.ravel(), yy.ravel()])\n",
    "    \n",
    "    # Define custom colormap \n",
    "    cmap = colors.ListedColormap(['steelblue', '#a76c6e', '#6a9373', '#6a9323', '#6a2423'])\n",
    "\n",
    "    # Put the result into a color plot\n",
    "    Z = Z.reshape(xx.shape)\n",
    "    ax.pcolormesh(xx, yy, Z, cmap=cmap, alpha=0.5, zorder=1)\n",
    "\n",
    "    ax.legend(loc=\"upper right\", fontsize=16)\n",
    "    ax.set_xlabel(\"sepal length (cm)\", fontsize=16)\n",
    "    ax.set_ylabel(\"sepal width (cm)\", fontsize=16)\n",
    "\n",
    "    \n",
    "def linear_plot(X, y, w=None, b=None):\n",
    "    \n",
    "    mycolors = {\"blue\": \"steelblue\", \"red\": \"#a76c6e\", \"green\": \"#6a9373\"}\n",
    "    colors = [mycolors[\"red\"] if yi==1 else mycolors[\"blue\"] for yi in y]\n",
    "    \n",
    "    # Plot data \n",
    "    fig, ax = plt.subplots(nrows=1, ncols=1, figsize=(8,8))\n",
    "    ax.scatter(X[:,0], X[:,1], color=colors, s=150, alpha=0.95, zorder=2)\n",
    "    \n",
    "    # Plot boundaries \n",
    "    lower_left = np.min([np.min(X[:,0]), np.min(X[:,1])])\n",
    "    upper_right = np.max([np.max(X[:,0]), np.max(X[:,1])])\n",
    "    gap = .1*(upper_right-lower_left)\n",
    "    xplot = np.linspace(lower_left-gap, upper_right+gap, 20)\n",
    "    if w is not None and b is not None: \n",
    "        ax.plot(xplot, (-b - w[0]*xplot)/w[1], color=\"gray\", lw=2, zorder=1)\n",
    "        ax.plot(xplot, ( 1 -b - w[0]*xplot)/w[1], color=\"gray\", lw=2, ls=\"--\", zorder=1)\n",
    "        ax.plot(xplot, (-1 -b - w[0]*xplot)/w[1], color=\"gray\", lw=2, ls=\"--\", zorder=1)\n",
    "        \n",
    "    \n",
    "    ax.set_xlim([lower_left-gap, upper_right+gap])\n",
    "    ax.set_ylim([lower_left-gap, upper_right+gap])\n",
    "    \n",
    "    ax.grid(alpha=0.25)\n",
    "    "
   ]
  },
  {
   "cell_type": "markdown",
   "metadata": {},
   "source": [
    "### [30 points] Problem 2: Predicting Authors of Presidential Election Tweets \n",
    "***\n",
    "\n",
    "For the first time in history, the run-up to the 2016 presidential election saw candidates move a large portion of their campaigns from the traditional debating lectern to the Twitterverse. In this problem you will construct various classifiers to predict whether a tweet was sent by @HillaryClinton ($y=0$) or @realDonaldTrump ($y=1$). \n",
    "\n",
    "The data set contains $4000$ tweets that have been cleaned by converting all text to lowercase, removing punctuation, and removing hypertext links. In order to preserve hashtags we've replaced the typical # with the string `hashtag` (e.g. `#GiantMeteor` would be converted to `hashtaggiantmeteor`).  \n",
    "\n",
    "Execute the following cell to load the data. "
   ]
  },
  {
   "cell_type": "code",
   "execution_count": 173,
   "metadata": {
    "ExecuteTime": {
     "end_time": "2018-04-19T11:16:43.620382Z",
     "start_time": "2018-04-19T11:16:43.607739Z"
    }
   },
   "outputs": [],
   "source": [
    "f = gzip.open('data/clean_tweets.pklz','rb')\n",
    "text_all, y_all = pickle.load(f)\n",
    "text_train, text_valid, y_train, y_valid = train_test_split(text_all, y_all, test_size=0.33, random_state=42)\n",
    "f.close()"
   ]
  },
  {
   "cell_type": "markdown",
   "metadata": {},
   "source": [
    "**Part A**: Vectorize the text features using the Bag-of-Words text model **while removing stop words**.  Then answer the following questions: \n",
    "\n",
    "- How many distinct text features are there in the data after stop words are removed? \n",
    "- How many distinct **HashTags** are there in the data? \n",
    "- Which candidate uses HashTags the most frequently? "
   ]
  },
  {
   "cell_type": "code",
   "execution_count": 167,
   "metadata": {},
   "outputs": [],
   "source": [
    "from sklearn.feature_extraction.text import TfidfVectorizer \n",
    "\n",
    "bagofwords = TfidfVectorizer(stop_words=\"english\")           # initialize the vectorizer\n",
    "Xbw_train = bagofwords.fit_transform(text_train)             # fit to training data and transform to matrix \n",
    "vocab = bagofwords.vocabulary_"
   ]
  },
  {
   "cell_type": "code",
   "execution_count": 168,
   "metadata": {},
   "outputs": [
    {
     "name": "stdout",
     "output_type": "stream",
     "text": [
      "There are 5981 terms in the vocabulary\n"
     ]
    }
   ],
   "source": [
    "print(\"There are {:d} terms in the vocabulary\".format(Xbw_train.shape[1]))"
   ]
  },
  {
   "cell_type": "code",
   "execution_count": 135,
   "metadata": {},
   "outputs": [
    {
     "name": "stdout",
     "output_type": "stream",
     "text": [
      "There are 186 distinct hashtags in the data\n"
     ]
    }
   ],
   "source": [
    "import re\n",
    "\n",
    "def get_hashtags(vocab, num_common=20):\n",
    "    hashtag_count = 0\n",
    "    for word in vocab:\n",
    "        match = re.search(\"hashtag.*\", word)     # regex match on hashtag followed by any other characters\n",
    "        if match:\n",
    "#             print(match.group())\n",
    "            hashtag_count += 1\n",
    "    return hashtag_count\n",
    "\n",
    "print(\"There are {:d} distinct hashtags in the data\".format(get_hashtags(bagofwords.vocabulary_)))"
   ]
  },
  {
   "cell_type": "markdown",
   "metadata": {},
   "source": [
    "#### Who hashtags most?"
   ]
  },
  {
   "cell_type": "markdown",
   "metadata": {},
   "source": [
    "**Part B**: Construct a Logistic Regression classifier with L2 regularization to make predictions on the data. Exactly as in **Problem 1**, you should clearly detail your process for picking optimal hyperparameters and evaluating your model, and report the details of your best model along with final validation accuracy. "
   ]
  },
  {
   "cell_type": "code",
   "execution_count": 209,
   "metadata": {},
   "outputs": [
    {
     "name": "stdout",
     "output_type": "stream",
     "text": [
      "Best Inverse regularization value is: 5.800000000000004 with accuracy 92.73%\n"
     ]
    },
    {
     "data": {
      "image/png": "[encoded data removed]",
      "text/plain": [
       "<matplotlib.figure.Figure at 0x11e4bb5f8>"
      ]
     },
     "metadata": {},
     "output_type": "display_data"
    }
   ],
   "source": [
    "from sklearn.pipeline import Pipeline \n",
    "from sklearn.linear_model import LogisticRegression\n",
    "\n",
    "# bagofwords = TfidfVectorizer(stop_words=\"english\")\n",
    "# logreg = LogisticRegression(C=1)\n",
    "\n",
    "# bagofwords_steps = [\n",
    "#     (\"bagofwords\", bagofwords),\n",
    "#     (\"logreg\", logreg)\n",
    "# ]\n",
    "# bagofwords_pipe = Pipeline(bagofwords_steps)\n",
    "# bagofwords_pipe.fit(text_train, y_train)\n",
    "\n",
    "# train_acc = bagofwords_pipe.score(text_train, y_train)\n",
    "# valid_acc = bagofwords_pipe.score(text_valid, y_valid)\n",
    "# print(\"Accuracy on Training Set:   {:.3f}\".format(train_acc))\n",
    "# print(\"Accuracy on Validation Set: {:.3f}\".format(valid_acc))\n",
    "\n",
    "c_vals = np.arange(1, 60, .1)\n",
    "best_c = 0\n",
    "best_c_acc = 0.0\n",
    "valid_acc = []\n",
    "\n",
    "for c in c_vals:\n",
    "    bagofwords = TfidfVectorizer(stop_words=\"english\")\n",
    "    logreg = LogisticRegression(C=c, penalty = 'l2')\n",
    "\n",
    "    bagofwords_steps = [\n",
    "        (\"bagofwords\", bagofwords),\n",
    "        (\"logreg\", logreg)\n",
    "    ]\n",
    "    bagofwords_pipe = Pipeline(bagofwords_steps)\n",
    "    bagofwords_pipe.fit(text_train, y_train)\n",
    "    acc = bagofwords_pipe.score(text_valid, y_valid)\n",
    "    valid_acc.append(acc)\n",
    "    if acc > best_c_acc:\n",
    "        best_c = c\n",
    "        best_c_acc = acc\n",
    "\n",
    "print('Best Inverse regularization value is: ' + str(best_c) + ' with accuracy '+ str(round(best_c_acc * 100, 2)) + '%')  \n",
    "plt.plot(c_vals, valid_acc)\n",
    "plt.xlabel('Inverse of regularization strength')\n",
    "plt.ylabel('Accuracy')\n",
    "plt.title('Inverse of regularization strength vs Validation Accuracy')\n",
    "plt.show()"
   ]
  },
  {
   "cell_type": "code",
   "execution_count": null,
   "metadata": {},
   "outputs": [],
   "source": []
  },
  {
   "cell_type": "code",
   "execution_count": 210,
   "metadata": {},
   "outputs": [
    {
     "name": "stdout",
     "output_type": "stream",
     "text": [
      "Accuracy on Training Set:   0.996\n",
      "Accuracy on Validation Set: 0.927\n"
     ]
    }
   ],
   "source": [
    "bagofwords = TfidfVectorizer(stop_words=\"english\")\n",
    "logreg = LogisticRegression(C=5.8, penalty = 'l2')\n",
    "\n",
    "bagofwords_steps = [\n",
    "    (\"bagofwords\", bagofwords),\n",
    "    (\"logreg\", logreg)\n",
    "]\n",
    "bagofwords_pipe = Pipeline(bagofwords_steps)\n",
    "bagofwords_pipe.fit(text_train, y_train)\n",
    "\n",
    "\n",
    "train_acc = bagofwords_pipe.score(text_train, y_train)\n",
    "valid_acc = bagofwords_pipe.score(text_valid, y_valid)\n",
    "print(\"Accuracy on Training Set:   {:.3f}\".format(train_acc))\n",
    "print(\"Accuracy on Validation Set: {:.3f}\".format(valid_acc))"
   ]
  },
  {
   "cell_type": "markdown",
   "metadata": {},
   "source": [
    "**Part C**: Determine and report the 10 words that are the best predictors for @HillaryClinton and the 10 words that are the best predictors for @realDonaldTrump in your Logistic Regression model. In addition, you should briefly discuss how you found these best features mathematically. "
   ]
  },
  {
   "cell_type": "code",
   "execution_count": 212,
   "metadata": {},
   "outputs": [
    {
     "name": "stdout",
     "output_type": "stream",
     "text": [
      "\n",
      "Top Words for @HillaryClinton\n",
      "-------------------------------\n",
      "potus\n",
      "rt\n",
      "joebiden\n",
      "trump\n",
      "timkaine\n",
      "hillary\n",
      "trumps\n",
      "donald\n",
      "hillarys\n",
      "hashtagdemsinphilly\n",
      "\n",
      "Top Words for @realDonaldTrump\n",
      "-------------------------------\n",
      "thank\n",
      "hashtagtrump2016\n",
      "clinton\n",
      "cnn\n",
      "realdonaldtrump\n",
      "media\n",
      "crooked\n",
      "great\n",
      "hashtagamericafirst\n",
      "hashtagmakeamericagreatagain\n"
     ]
    }
   ],
   "source": [
    "coefs = bagofwords_pipe.named_steps['logreg'].coef_[0]\n",
    "top_clintons = np.argpartition(coefs, 10)[:10]\n",
    "top_trumps = np.argpartition(coefs, -10)[-10:]\n",
    "print('\\nTop Words for @HillaryClinton')\n",
    "print('-------------------------------')\n",
    "for ii in top_clintons:\n",
    "    word = list(vocab.keys())[list(vocab.values()).index(ii)] \n",
    "    print(word)\n",
    "print('\\nTop Words for @realDonaldTrump')\n",
    "print('-------------------------------')\n",
    "for ii in top_trumps:\n",
    "    word = list(vocab.keys())[list(vocab.values()).index(ii)] \n",
    "    print(word)"
   ]
  },
  {
   "cell_type": "markdown",
   "metadata": {},
   "source": [
    "**Part D**: Construct a Naive Bayes classifier to make predictions on the data. Again, you should clearly detail your process for picking optimal hyperparameters and evaluating your model, and report the details of your best model along with final validation accuracy. **Hint**: Since text features are discrete, you'll want to use Sklearn's [MultinomialNB](http://scikit-learn.org/stable/modules/generated/sklearn.naive_bayes.MultinomialNB.html) classifier. "
   ]
  },
  {
   "cell_type": "code",
   "execution_count": null,
   "metadata": {
    "collapsed": true
   },
   "outputs": [],
   "source": []
  },
  {
   "cell_type": "markdown",
   "metadata": {},
   "source": [
    "**Part E**: Determine and report the 10 words that are the best predictors for @HillaryClinton and the 10 words that are the best predictors for @realDonaldTrump in your Naive Bayes model. In addition, you should briefly discuss how you found these best features mathematically. "
   ]
  },
  {
   "cell_type": "code",
   "execution_count": null,
   "metadata": {
    "collapsed": true
   },
   "outputs": [],
   "source": []
  },
  {
   "cell_type": "markdown",
   "metadata": {},
   "source": [
    "**Part F**: Which of the two models above performed the best on the data set?  Were you surprised or not surprised by your results?  Discuss. "
   ]
  },
  {
   "cell_type": "code",
   "execution_count": null,
   "metadata": {
    "collapsed": true
   },
   "outputs": [],
   "source": []
  },
  {
   "cell_type": "markdown",
   "metadata": {},
   "source": [
    "### [25 points] Problem 3: Feature Engineering and Presidential Tweets \n",
    "***\n",
    "\n",
    "In this problem you will again work with the Twitter election data from **Problem 2**, but this time in its unadulterated raw form. Unlike in **Problem 2**, you will only be allowed to use Logistic Regression as your classifier.  Instead of using a fancier model, you will attempt to improve performance by crafting better features.  One way you might do this is to explore text models that are more sophisticated that simple Bag-of-Words. Alternatively, you might explore the training data and identify characteristics of tweets by a particular author that you can then turn into a feature. \n",
    "\n",
    "The class `TweetFeaturizer` shown below is already fully functional.  Your goal in this problem is to make it better.  In it's current state, the class reads in the training and test data, fits a Logistic Regression model using Bag-of-Words, makes predictions on the test set, and then dumps the predictions to a csv file that can be uploaded to Kaggle. You are free to modify this class is any way that you see fit, but we've given you some helpful functionality that will prove sufficient for most of you.  The `add_text_features` method currently loops over each tweet in the data set, copies it to a new array, and then passes that array into the text vectorizer.  One way to create new features is to append distinct word-indicators onto the string representing the tweet.  These will then be turned into features by the vectorizer. \n",
    "\n",
    "As an example (that is intentionally silly and probably unhelpful): Suppose you think a potentially helpful feature is whether or not the tweet contains more than 10 instances of the letter `z`.  In `add_text_features` you could count the number of `z`'s in a tweet and if there are more than 10, you could append the word `MoreThanTenZs` to the tweet.  Then, when the tweet is passed into the vectorizer, this will turn into a numerical feature.  \n",
    "\n",
    "In addition to competing against yourself to craft the best features that you can, you'll also compete against your classmates in a Kaggle competition.  The competition page can be found here: \n",
    "\n",
    "https://www.kaggle.com/c/4622-election-tweet-authorship\n",
    "\n",
    "A private invite link will be available on Piazza which will get you into the competition. Note that the test data has been partitioned into a public leaderboard set and a private leaderboard set.  While the competition is open, submitting to Kaggle will tell you your score on the public leaderboard.  Your scores on the private leaderboard will become available at the end of the competition.   The top **THREE** students on the **Private** leaderboard at the end of the competition will earn 10 extra credit points on the Practicum. Note that to prevent the machine learning-equivalent of button mashing, we've limited you to **10** submissions per day.  You should be evaluating your features locally with cross-validation and then submitting to Kaggle when you think you have something that works.  "
   ]
  },
  {
   "cell_type": "markdown",
   "metadata": {},
   "source": [
    "**Part A**: **Feature Engineering**:  What you need to do: \n",
    "\n",
    "- Explore and experiment with the data to try to find good features \n",
    "- Implement these features in the `TweetFeaturizer` class  \n",
    "- Implement some evaluation methods to see how well your features improve your model (*cough* cross-validation *cough*) \n",
    "- Make submissions to the Kaggle competition and see how you compared to your classmates "
   ]
  },
  {
   "cell_type": "code",
   "execution_count": null,
   "metadata": {
    "collapsed": true
   },
   "outputs": [],
   "source": []
  },
  {
   "cell_type": "markdown",
   "metadata": {},
   "source": [
    "**Part B**: **Motivation and Analysis**: What you need to do: \n",
    "\n",
    "Convince me that:\n",
    "\n",
    "- Your new features work\n",
    "- You understand what the new features are doing\n",
    "- You had a clear methodology for incorporating the new features\n"
   ]
  },
  {
   "cell_type": "code",
   "execution_count": null,
   "metadata": {
    "collapsed": true
   },
   "outputs": [],
   "source": []
  },
  {
   "cell_type": "code",
   "execution_count": null,
   "metadata": {
    "ExecuteTime": {
     "end_time": "2018-04-19T11:17:43.721148Z",
     "start_time": "2018-04-19T11:17:43.346867Z"
    }
   },
   "outputs": [],
   "source": [
    "class TweetFeaturizer:\n",
    "    def __init__(self):\n",
    "        \n",
    "        from sklearn.feature_extraction.text import CountVectorizer\n",
    "        \n",
    "        self.vectorizer = CountVectorizer()\n",
    "        \n",
    "    def add_text_features(self, examples):\n",
    "        \"\"\"\n",
    "        Method for looping over original text and adding new text \n",
    "        features. \n",
    "        :param examples: the list of raw tweets \n",
    "        \"\"\"\n",
    "        \n",
    "        new_examples = [] \n",
    "        for ex in examples:\n",
    "            # here is where you might try to add new features \n",
    "            # currently this does nothing.  \n",
    "            new_examples.append(ex)\n",
    "            \n",
    "        return new_examples\n",
    "\n",
    "    def build_train_features(self, examples):\n",
    "        \"\"\"\n",
    "        Method to take in training text features and do further feature engineering \n",
    "        Most of the work in this homework will go here, or in similar functions  \n",
    "        :param examples: the list of raw tweets \n",
    "        \"\"\"\n",
    "        \n",
    "        new_examples = self.add_text_features(examples)\n",
    "        return self.vectorizer.fit_transform(new_examples)\n",
    "\n",
    "    def get_test_features(self, examples):\n",
    "        \"\"\"\n",
    "        Method to take in test text features and transform the same way as train features \n",
    "        :param examples: the list of raw tweets\n",
    "        \"\"\"\n",
    "        new_examples = self.add_text_features(examples)\n",
    "        return self.vectorizer.transform(new_examples)\n",
    "\n",
    "    def show_top10(self):\n",
    "        \"\"\"\n",
    "        prints the top 10 features for the positive class and the \n",
    "        top 10 features for the negative class. \n",
    "        \"\"\"\n",
    "        feature_names = np.asarray(self.vectorizer.get_feature_names())\n",
    "        top10 = np.argsort(self.logreg.coef_[0])[-10:]\n",
    "        bottom10 = np.argsort(self.logreg.coef_[0])[:10]\n",
    "        print(\"DT: %s\" % \" \".join(feature_names[top10]))\n",
    "        print(\"HC: %s\" % \" \".join(feature_names[bottom10]))\n",
    "                \n",
    "    def train_model(self, random_state=1234):\n",
    "        \"\"\"\n",
    "        Method to read in training data from file, and \n",
    "        train Logistic Regression classifier. \n",
    "        \n",
    "        :param random_state: seed for random number generator \n",
    "        \"\"\"\n",
    "        \n",
    "        from sklearn.linear_model import LogisticRegression \n",
    "        \n",
    "        # load data \n",
    "        f = gzip.open('data/raw_tweets_train.pklz','rb')\n",
    "        text_train, y_train = pickle.load(f)\n",
    "        f.close()\n",
    "        \n",
    "        # get training features and labels \n",
    "        self.X_train = self.build_train_features(text_train)\n",
    "        self.y_train = y_train\n",
    "        \n",
    "        # train logistic regression model.  !!MUST USE LogisticRegression!! \n",
    "        self.logreg = LogisticRegression(random_state=random_state)\n",
    "        self.logreg.fit(self.X_train, self.y_train)\n",
    "        \n",
    "    def model_predict(self):\n",
    "        \"\"\"\n",
    "        Method to read in test data from file, make predictions\n",
    "        using trained model, and dump results to file \n",
    "        \"\"\"\n",
    "        \n",
    "        # read in test data \n",
    "        f = gzip.open('data/raw_tweets_test.pklz','rb')\n",
    "        text_valid = pickle.load(f)\n",
    "        f.close()\n",
    "        \n",
    "        # featurize test data \n",
    "        self.X_test = self.get_test_features(text_valid)\n",
    "        \n",
    "        # make predictions on test data \n",
    "        pred = self.logreg.predict(self.X_test)\n",
    "        \n",
    "        # dump predictions to file for submission to Kaggle  \n",
    "        pd.DataFrame({\"realDonaldTrump\": np.array(pred, dtype=bool)}).to_csv(\"prediction.csv\", index=True, index_label=\"Id\")\n",
    "        \n",
    "\n",
    "# Instantiate the class \n",
    "feat = TweetFeaturizer()\n",
    "\n",
    "# Train your Logistic Regression classifier \n",
    "feat.train_model(random_state=1234)\n",
    "\n",
    "# Show the top 10 features for each class \n",
    "feat.show_top10()\n",
    "\n",
    "# Make prediction on test data and produce Kaggle submission file \n",
    "feat.model_predict()"
   ]
  },
  {
   "cell_type": "code",
   "execution_count": null,
   "metadata": {
    "collapsed": true
   },
   "outputs": [],
   "source": []
  },
  {
   "cell_type": "markdown",
   "metadata": {},
   "source": [
    "### References\n",
    "***\n",
    "\n"
   ]
  },
  {
   "cell_type": "code",
   "execution_count": null,
   "metadata": {
    "collapsed": true
   },
   "outputs": [],
   "source": []
  }
 ],
 "metadata": {
  "kernelspec": {
   "display_name": "Python 3",
   "language": "python",
   "name": "python3"
  },
  "language_info": {
   "codemirror_mode": {
    "name": "ipython",
    "version": 3
   },
   "file_extension": ".py",
   "mimetype": "text/x-python",
   "name": "python",
   "nbconvert_exporter": "python",
   "pygments_lexer": "ipython3",
   "version": "3.6.0"
  }
 },
 "nbformat": 4,
 "nbformat_minor": 2
}
