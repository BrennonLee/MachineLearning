{
 "cells": [
  {
   "cell_type": "markdown",
   "metadata": {},
   "source": [
    "# CSCI 4622 - Spring 2018 - Practicum \n",
    "***\n",
    "\n",
    "\n",
    "This practicum is due on Moodle by **11:59pm on Thursday May 3rd**. \n",
    "\n",
    "**Here are the rules:** \n",
    "\n",
    "4. Your work must be done entirely on your own. You may **NOT** collaborate with classmates or anyone else.  \n",
    "3. You may **NOT** post to message boards or other online resources asking for help. \n",
    "5. You may **NOT** use late days on the practicum nor can you drop your practicum grade. \n",
    "1. You may use your course notes, posted lecture slides, in-class notebooks, and homework solutions as resources. \n",
    "2. You may consult alternate sources like blog posts or technical papers, but you may **NOT** copy code from these sources. \n",
    "3. Any additional non-course sources that you use should be clearly cited (with links) in the **References** section at the bottom of this notebook. \n",
    "7. Submit only this Jupyter notebook to Moodle.  Do not compress it using tar, rar, zip, etc. \n",
    "\n",
    "Violation of the above rules will result in an **F** in the course and a trip to **Honor Council** \n",
    "\n",
    "***\n",
    "\n",
    "**By writing your name below you agree to abide by the given rules:**\n",
    "\n",
    "**Name**: Brennon Lee\n",
    "\n",
    "**Kaggle Username**: BrennonLee34\n",
    "\n",
    "***\n",
    "\n",
    "\n",
    "**NOTES**: \n",
    "\n",
    "- You do not need to implement everything from scratch.  At this point you should be leveraging Sklearn as much as you can. \n",
    "- If you have a clarifying question, please post it as a **PRIVATE** message to me on Piazza. \n",
    "- Part of the goal of this assignment is to see if you can stand on your own.  Please do not ask me to help you debug code or check if your answers are correct. Most of the implementation details necessary to complete this practicum can be found in the Hands-On notebooks or the Sklearn documentation.  \n",
    "- You'll notice that the point totals below do not add up to 100.  This is because 10 out of the 100 points will be attributed to **style**.  To earn full credit for style your analysis should be concise and well-organized, your code should be readable and well-commented, and you should use plots and graphics to support your conclusions whenever appropriate.  "
   ]
  },
  {
   "cell_type": "code",
   "execution_count": 1,
   "metadata": {
    "ExecuteTime": {
     "end_time": "2018-04-19T11:17:37.900418Z",
     "start_time": "2018-04-19T11:17:37.897826Z"
    }
   },
   "outputs": [],
   "source": [
    "import pickle, gzip \n",
    "import numpy as np\n",
    "import pandas as pd\n",
    "import matplotlib.pylab as plt\n",
    "from sklearn.model_selection import train_test_split # To split data into TRAIN & VALID\n",
    "from sklearn.model_selection import cross_val_score \n",
    "from sklearn.preprocessing import normalize\n",
    "from sklearn.model_selection import GridSearchCV\n",
    "from sklearn.neural_network import MLPClassifier"
   ]
  },
  {
   "cell_type": "markdown",
   "metadata": {},
   "source": [
    "### [35 points] Problem 1: Building Classifiers for Fashion MNIST \n",
    "***\n",
    "\n",
    "The classic MNIST Handwritten Digit data set has been a staple in the machine learning literature since the beginning of time (i.e. the late 90's).  However, machine learning practitioners have grown tired of the rusty digits and have recently begun to create and explore new, more interesting data sets. Some popular alternatives to emerge recently are [EMNIST](https://www.kaggle.com/crawford/emnist), [Sign Language MNIST](https://www.kaggle.com/datamunge/sign-language-mnist), and [Fashion MNIST](https://github.com/zalandoresearch/fashion-mnist). In this problem you will explore the latter. \n",
    "\n",
    "Fashion MNIST is comprised of $28 \\times 28$ pixel gray-scale images of clothing, with classes corresponding to things like tops, trousers, coats, dresses, and various types of shoes.  The data set that we'll work with corresponds to a small subset of Fashion MNIST with 1500 examples from each of five distinct classes (tops, trousers, coats, sneakers, and ankle boots). \n",
    "\n",
    "Execute the following cell to load the data. "
   ]
  },
  {
   "cell_type": "code",
   "execution_count": 2,
   "metadata": {
    "ExecuteTime": {
     "end_time": "2018-04-19T11:16:40.004587Z",
     "start_time": "2018-04-19T11:16:39.285472Z"
    }
   },
   "outputs": [],
   "source": [
    "f = gzip.open('data/fashion_mnist_subset.pklz', 'rb')\n",
    "X_all, y_all = pickle.load(f)\n",
    "X_train, X_valid, y_train, y_valid = train_test_split(X_all, y_all, test_size=0.33, random_state=42)\n",
    "f.close()"
   ]
  },
  {
   "cell_type": "markdown",
   "metadata": {},
   "source": [
    "In **Parts A-C** you will construct various tuned classifiers for making predictions on Fashion MNIST.  For each classifier you should: \n",
    "- Describe and motivate any transformations on the pixel data that you found helpful/necessary to make your model work well. \n",
    "- Describe and justify your process for determining optimal hyperparameters for each model. Support your decisions with validation studies and associated graphics.  Do **NOT** just report the hyperparameters that worked best.  \n",
    "- Describe how you evaluated your models during your process (i.e. did you use a validation set, did you do cross-validation, etc). \n",
    "- Report the final optimal hyperparameters that you used as well as the accuracy of your final model. "
   ]
  },
  {
   "cell_type": "markdown",
   "metadata": {},
   "source": [
    "<Center><h3>Analysis of Given Data Set</h3></Center>"
   ]
  },
  {
   "cell_type": "code",
   "execution_count": 3,
   "metadata": {},
   "outputs": [
    {
     "name": "stdout",
     "output_type": "stream",
     "text": [
      "Based on the given data set, we can see that there are 784 pixels in each image. \n",
      "Which can be divided into images of size 28.0 x 28.0\n",
      "Unigue labels on our true labels are the following set: {0, 1, 4, 7, 9}\n",
      "Where: \n",
      " 0 correlates to tops \n",
      " 1 correlates to trousers \n",
      " 4 correlates to shirts \n",
      " 7 correlates to sneakers \n",
      " 9 correlates to ankle boots\n",
      "\n",
      "Training set consists of 5025 examples\n",
      "In X_train, there are 984 examples of 0\n",
      "In X_train, there are 1012 examples of 1\n",
      "In X_train, there are 1019 examples of 4\n",
      "In X_train, there are 1001 examples of 7\n",
      "In X_train, there are 1009 examples of 9\n"
     ]
    }
   ],
   "source": [
    "pixel_size = X_all[0].shape[0]\n",
    "print('Based on the given data set, we can see that there are ' + str(pixel_size) + ' pixels in each image. \\nWhich can be divided into images of size ' + str(np.sqrt(pixel_size)) + ' x ' + str(np.sqrt(pixel_size)))\n",
    "print('Unigue labels on our true labels are the following set: ' + str(set(y_all)))\n",
    "print('Where: \\n 0 correlates to tops \\n 1 correlates to trousers \\n 4 correlates to shirts \\n 7 correlates to sneakers \\n 9 correlates to ankle boots\\n')\n",
    "print('Training set consists of ' + str(len(X_train)) + ' examples')\n",
    "for k in [0,1,4,7,9]:\n",
    "    print(\"In X_train, there are {:d} examples of {}\".format(len(X_train[y_train==k]), k))\n"
   ]
  },
  {
   "cell_type": "code",
   "execution_count": 4,
   "metadata": {},
   "outputs": [
    {
     "data": {
      "image/png": "[encoded data removed]",
      "text/plain": [
       "<matplotlib.figure.Figure at 0x115685e10>"
      ]
     },
     "metadata": {},
     "output_type": "display_data"
    }
   ],
   "source": [
    "def view_item(x, label=None):\n",
    "    fig = plt.figure(figsize=(3,3))\n",
    "    plt.imshow(x.reshape(28,28), cmap='gray');\n",
    "    plt.xticks([]); plt.yticks([]);\n",
    "    if label: plt.xlabel(\"true: {}\".format(label), fontsize=16)\n",
    "                \n",
    "training_index = 5\n",
    "view_item(X_all[training_index], y_all[training_index])"
   ]
  },
  {
   "cell_type": "markdown",
   "metadata": {},
   "source": [
    "**Part A**: Construct a K-Nearest Neighbors classifier to make predictions on the data. "
   ]
  },
  {
   "cell_type": "markdown",
   "metadata": {},
   "source": [
    "<Center><h3>KNeighbors Classifier</h3></Center>"
   ]
  },
  {
   "cell_type": "markdown",
   "metadata": {},
   "source": [
    "For a KNN model, the two big parameters we need to tune is whether or not the distance should be weighted or unweighted and then the find the optimal amount of nearest neighbors that yield the highest accuracy. Below, shows an array of nearest neighbors from 1 to 14 where we create a KNN instance, train on our training data and then find the accuracy of this model against our validation set. Then we will graph both models (weighted and unweighted) with their associated accuracies against the number of neighbors we are analysing."
   ]
  },
  {
   "cell_type": "code",
   "execution_count": 10,
   "metadata": {},
   "outputs": [
    {
     "name": "stdout",
     "output_type": "stream",
     "text": [
      "on k value: 1\n",
      "on k value: 2\n",
      "on k value: 3\n",
      "on k value: 4\n",
      "on k value: 5\n",
      "on k value: 6\n",
      "on k value: 7\n",
      "on k value: 8\n",
      "on k value: 9\n",
      "on k value: 10\n",
      "on k value: 11\n",
      "on k value: 12\n",
      "on k value: 13\n",
      "on k value: 14\n"
     ]
    },
    {
     "data": {
      "image/png": "[encoded data removed]",
      "text/plain": [
       "<matplotlib.figure.Figure at 0x1089fc588>"
      ]
     },
     "metadata": {},
     "output_type": "display_data"
    }
   ],
   "source": [
    "from sklearn.neighbors import KNeighborsClassifier\n",
    "k_vals = range(1,15) # Array from 1 to 14 of the nearest neighbors\n",
    "\n",
    "knn_accuracies = []\n",
    "w_knn_accuracies = []\n",
    "for k in k_vals:\n",
    "    print('on k value: ' + str(k))\n",
    "    knn = KNeighborsClassifier(n_neighbors=k)\n",
    "    w_knn = KNeighborsClassifier(n_neighbors=k, weights=\"distance\")\n",
    "    \n",
    "    unweighted_scores = cross_val_score(knn, X_train, y_train, cv=5, scoring='accuracy')\n",
    "    weighted_scores = cross_val_score(w_knn, X_train, y_train, cv=5, scoring='accuracy')\n",
    "    \n",
    "    knn_accuracies.append(unweighted_scores.mean())\n",
    "    w_knn_accuracies.append(weighted_scores.mean())\n",
    "\n",
    "plt.plot(k_vals, knn_accuracies, label='unweighted')\n",
    "plt.plot(k_vals, w_knn_accuracies, label='weighted')\n",
    "plt.xlabel(\"Neighbors\")\n",
    "plt.ylabel(\"Accuracuy\")\n",
    "plt.title(\"Kth Nearest Neighbors vs. Accuracies\")\n",
    "plt.legend()\n",
    "plt.show()\n"
   ]
  },
  {
   "cell_type": "code",
   "execution_count": 26,
   "metadata": {},
   "outputs": [
    {
     "name": "stdout",
     "output_type": "stream",
     "text": [
      "The best accuracy of the unweighted KNN model is 96.56%\n"
     ]
    }
   ],
   "source": [
    "print(\"The best accuracy of the unweighted KNN model is \" + str(round(max(knn_accuracies) * 100, 2)) + '%')"
   ]
  },
  {
   "cell_type": "markdown",
   "metadata": {},
   "source": [
    "From the graph above, we can see that the optimal parameters that yield the highest accuracy on the data set is a Weighted KNN model looking at the 4 nearest neighbors."
   ]
  },
  {
   "cell_type": "code",
   "execution_count": 8,
   "metadata": {},
   "outputs": [
    {
     "name": "stdout",
     "output_type": "stream",
     "text": [
      "Here is the confusion matrix for our best fit weighted model which shows the that the most commonly confused item is sneakers with ankle boots.\n",
      "[[503   1  11   1   0]\n",
      " [ 12 472   4   0   0]\n",
      " [  7   0 472   2   0]\n",
      " [  0   0   0 468  31]\n",
      " [  0   0   0  21 470]]\n"
     ]
    }
   ],
   "source": [
    "from sklearn.metrics import confusion_matrix\n",
    "\n",
    "best_knn = KNeighborsClassifier(4).fit(X_train, y_train)\n",
    "\n",
    "yHat_valid = best_knn.predict(X_valid)\n",
    "C = confusion_matrix(y_valid, yHat_valid)\n",
    "print('Here is the confusion matrix for our best fit unweighted model which shows the that the most commonly confused item is sneakers with ankle boots.')\n",
    "print(C)\n",
    "\n"
   ]
  },
  {
   "cell_type": "markdown",
   "metadata": {},
   "source": [
    "**Part B**: Construct a Linear Support Vector Machine classifier to make predictions on the data. "
   ]
  },
  {
   "cell_type": "markdown",
   "metadata": {},
   "source": [
    "<Center><h3>Linear Support Vector Machine Classifier</h3></Center>"
   ]
  },
  {
   "cell_type": "markdown",
   "metadata": {},
   "source": [
    "For a Linear Support Vector Machine classifier, there are two parameters to look at. The hyperparameter ($C$) that weights the slackness contribution to the primal objective function, and then the loss ($p$) which is the exponent on the slack variables in the sum. To do some parameter searching, we can use GridSearch to find the optimal parameters for this model. Below does just that but also loops over loss functions **Hinge** and **Squared Hinge** to see which performs better."
   ]
  },
  {
   "cell_type": "code",
   "execution_count": 4,
   "metadata": {},
   "outputs": [],
   "source": [
    "normalized_all = normalize(X_all)  # Normalize the data"
   ]
  },
  {
   "cell_type": "code",
   "execution_count": 29,
   "metadata": {},
   "outputs": [
    {
     "name": "stdout",
     "output_type": "stream",
     "text": [
      "\n",
      "best parameters with loss=hinge is : {'C': 10.0}\n",
      "best accuracy with loss=hinge is : 0.9694666666666667\n",
      "\n",
      "best parameters with loss=squared_hinge is : {'C': 10.0}\n",
      "best accuracy with loss=squared_hinge is : 0.9678666666666667\n"
     ]
    }
   ],
   "source": [
    "from sklearn.svm import LinearSVC\n",
    "\n",
    "c_range = np.logspace(-2,10,13)\n",
    "param_grid = dict(C=c_range)\n",
    "\n",
    "for loss_func in [\"hinge\", \"squared_hinge\"]:\n",
    "    svc = LinearSVC(loss=loss_func)\n",
    "    grid = GridSearchCV(svc, param_grid=param_grid, cv=5)\n",
    "    grid.fit(normalized_all, y_all)\n",
    "    \n",
    "    print(\"\\nbest parameters with loss=\" + loss_func + \" is : \" + str(grid.best_params_))\n",
    "    print(\"best accuracy with loss=\"+ loss_func + \" is : \"+ str(grid.best_score_))"
   ]
  },
  {
   "cell_type": "markdown",
   "metadata": {},
   "source": [
    "Notice from the output above that the loss function had little to no effect on the outcome of the best parameters and best accuracy respectively. But we did find that our most optimal value for the $C$ parameter is the value $10$ with our best accuracy score of ~$96.79$%."
   ]
  },
  {
   "cell_type": "markdown",
   "metadata": {},
   "source": [
    "**Part C**: Construct a Feed-Forward Neural Network classifier to make predictions on the data. We recommend using Sklearn's [MLPClassifier](http://scikit-learn.org/stable/modules/generated/sklearn.neural_network.MLPClassifier.html#sklearn.neural_network.MLPClassifier) rather than the code you wrote in Homework 4. In our experiments we found training an MLPClassifier to take no more than a minute for reasonable choices of architectures. "
   ]
  },
  {
   "cell_type": "markdown",
   "metadata": {},
   "source": [
    "<Center><h3>Feed-Forwared Neural Network Classifier</h3></Center>"
   ]
  },
  {
   "cell_type": "markdown",
   "metadata": {},
   "source": [
    "For Neural Network, the hyperparameters we are going to want to tune will be alpha (L2 penalty/ Regularization term), our hidden layer sizes $(i_{1}, i_{2},..., i_{n})$ where $i_{k}$ is the number of neurons and $n$ is number of hidden layers. Lastly, we can tune our activation function to see which performs the best."
   ]
  },
  {
   "cell_type": "code",
   "execution_count": 18,
   "metadata": {},
   "outputs": [
    {
     "name": "stdout",
     "output_type": "stream",
     "text": [
      "On alpha: 1e-07\n",
      "On alpha: 0.0034483724137931034\n",
      "On alpha: 0.006896644827586207\n",
      "On alpha: 0.010344917241379311\n",
      "On alpha: 0.013793189655172414\n",
      "On alpha: 0.017241462068965516\n",
      "On alpha: 0.020689734482758623\n",
      "On alpha: 0.024138006896551725\n",
      "On alpha: 0.027586279310344828\n",
      "On alpha: 0.03103455172413793\n",
      "On alpha: 0.03448282413793104\n",
      "On alpha: 0.03793109655172414\n",
      "On alpha: 0.04137936896551725\n",
      "On alpha: 0.04482764137931035\n",
      "On alpha: 0.048275913793103455\n",
      "On alpha: 0.051724186206896554\n",
      "On alpha: 0.05517245862068966\n",
      "On alpha: 0.058620731034482766\n",
      "On alpha: 0.062069003448275865\n",
      "On alpha: 0.06551727586206897\n",
      "On alpha: 0.06896554827586207\n",
      "On alpha: 0.07241382068965518\n",
      "On alpha: 0.07586209310344828\n",
      "On alpha: 0.07931036551724138\n",
      "On alpha: 0.0827586379310345\n",
      "On alpha: 0.0862069103448276\n",
      "On alpha: 0.0896551827586207\n",
      "On alpha: 0.0931034551724138\n",
      "On alpha: 0.0965517275862069\n",
      "On alpha: 0.1\n",
      "Best alpha was 0.006896644827586207 with accuracy 0.9713131313131314\n"
     ]
    },
    {
     "data": {
      "image/png": "[encoded data removed]",
      "text/plain": [
       "<matplotlib.figure.Figure at 0x106e044e0>"
      ]
     },
     "metadata": {},
     "output_type": "display_data"
    }
   ],
   "source": [
    "from sklearn.neural_network import MLPClassifier\n",
    "\n",
    "alphas = np.linspace(1e-7, .1, 30)\n",
    "alphas_acc = []\n",
    "\n",
    "normed_train = normalize(X_train)\n",
    "normed_valid = normalize(X_valid)\n",
    "\n",
    "best_alpha = 0\n",
    "best_alpha_acc = 0\n",
    "\n",
    "for aa in alphas:\n",
    "    print('On alpha:', aa)\n",
    "    mlp = MLPClassifier(alpha=aa)\n",
    "    mlp.fit(normed_train, y_train)\n",
    "    score = mlp.score(normed_valid, y_valid)\n",
    "    alphas_acc.append(score)\n",
    "    if score > best_alpha_acc:\n",
    "        best_alpha_acc = score\n",
    "        best_alpha = aa\n",
    "    \n",
    "print('Best alpha was ' + str(best_alpha) + ' with accuracy ' + str(best_alpha_acc))\n",
    "plt.plot(alphas, alphas_acc)\n",
    "plt.xlabel(\"Regularization Term\")\n",
    "plt.ylabel(\"Accuracy\")\n",
    "plt.title(\"Regularization Term vs. Accuracy\")\n",
    "plt.show()"
   ]
  },
  {
   "cell_type": "markdown",
   "metadata": {},
   "source": [
    "Taking our best alpha value of $0.00689$ from above, we can now try to tune for the best combination of architectures "
   ]
  },
  {
   "cell_type": "code",
   "execution_count": 21,
   "metadata": {},
   "outputs": [
    {
     "name": "stdout",
     "output_type": "stream",
     "text": [
      "On architecture (10, 30, 20)\n",
      "On architecture (10, 800, 10)\n",
      "On architecture (1000,)\n",
      "On architecture (200, 10, 10, 10, 300)\n",
      "On architecture (100, 300, 300, 200)\n",
      "On architecture (700,)\n"
     ]
    },
    {
     "data": {
      "image/png": "[encoded data removed]",
      "text/plain": [
       "<matplotlib.figure.Figure at 0x11573ca20>"
      ]
     },
     "metadata": {},
     "output_type": "display_data"
    },
    {
     "name": "stdout",
     "output_type": "stream",
     "text": [
      "Best Accuracy was 0.9701010101010101\n",
      "Best Architecture was (700,)\n"
     ]
    }
   ],
   "source": [
    "architectures = [(10,30,20), (10, 800, 10), (1000,), (200, 10, 10, 10, 300), (100, 300, 300, 200), (700,)]\n",
    "\n",
    "arch_acc = []\n",
    "best_arch = []\n",
    "best_arch_acc = 0\n",
    "\n",
    "for arch in architectures:\n",
    "    print('On architecture ' + str(arch))\n",
    "    mlp = MLPClassifier(hidden_layer_sizes=arch, alpha=best_alpha, random_state=0)\n",
    "    mlp.fit(normed_train, y_train)\n",
    "    acc = mlp.score(normed_valid, y_valid)\n",
    "    arch_acc.append(acc)\n",
    "    if acc >= best_arch_acc:\n",
    "        best_arch_acc = acc\n",
    "        best_arch.append(arch)\n",
    "        \n",
    "\n",
    "index = np.arange(len(architectures))\n",
    "plt.bar(index, arch_acc)\n",
    "plt.xlabel('Architecture Index', fontsize=5)\n",
    "plt.ylabel('Accuracy %', fontsize=5)\n",
    "plt.title('Accuracies for different Architectures')\n",
    "plt.show()\n",
    "    \n",
    "print('Best Accuracy was ' + str(best_arch_acc))\n",
    "print('Best Architecture was ' + str(best_arch[-1]))"
   ]
  },
  {
   "cell_type": "markdown",
   "metadata": {},
   "source": [
    "Now that we have a good idea for the ranges that our best hyperparameters (alpha and hidden layers) live in, we can define a more specific set of ranges to iterate over and use GridSearchCV to find the most optimal parameters possible while also looking at the different activation functions."
   ]
  },
  {
   "cell_type": "code",
   "execution_count": 15,
   "metadata": {},
   "outputs": [
    {
     "name": "stdout",
     "output_type": "stream",
     "text": [
      "Fitting 3 folds for each of 36 candidates, totalling 108 fits\n",
      "[CV] activation=logistic, alpha=0.0055, hidden_layer_sizes=(600,) ....\n",
      "[CV]  activation=logistic, alpha=0.0055, hidden_layer_sizes=(600,), score=0.9664, total=  22.5s\n",
      "[CV] activation=logistic, alpha=0.0055, hidden_layer_sizes=(600,) ....\n"
     ]
    },
    {
     "name": "stderr",
     "output_type": "stream",
     "text": [
      "[Parallel(n_jobs=1)]: Done   1 out of   1 | elapsed:   22.6s remaining:    0.0s\n"
     ]
    },
    {
     "name": "stdout",
     "output_type": "stream",
     "text": [
      "[CV]  activation=logistic, alpha=0.0055, hidden_layer_sizes=(600,), score=0.968, total=  25.8s\n",
      "[CV] activation=logistic, alpha=0.0055, hidden_layer_sizes=(600,) ....\n"
     ]
    },
    {
     "name": "stderr",
     "output_type": "stream",
     "text": [
      "[Parallel(n_jobs=1)]: Done   2 out of   2 | elapsed:   48.5s remaining:    0.0s\n"
     ]
    },
    {
     "name": "stdout",
     "output_type": "stream",
     "text": [
      "[CV]  activation=logistic, alpha=0.0055, hidden_layer_sizes=(600,), score=0.9632, total=  28.5s\n",
      "[CV] activation=logistic, alpha=0.0055, hidden_layer_sizes=(700,) ....\n"
     ]
    },
    {
     "name": "stderr",
     "output_type": "stream",
     "text": [
      "[Parallel(n_jobs=1)]: Done   3 out of   3 | elapsed:  1.3min remaining:    0.0s\n"
     ]
    },
    {
     "name": "stdout",
     "output_type": "stream",
     "text": [
      "[CV]  activation=logistic, alpha=0.0055, hidden_layer_sizes=(700,), score=0.9616, total=  18.7s\n",
      "[CV] activation=logistic, alpha=0.0055, hidden_layer_sizes=(700,) ....\n"
     ]
    },
    {
     "name": "stderr",
     "output_type": "stream",
     "text": [
      "[Parallel(n_jobs=1)]: Done   4 out of   4 | elapsed:  1.6min remaining:    0.0s\n"
     ]
    },
    {
     "name": "stdout",
     "output_type": "stream",
     "text": [
      "[CV]  activation=logistic, alpha=0.0055, hidden_layer_sizes=(700,), score=0.964, total=  20.6s\n",
      "[CV] activation=logistic, alpha=0.0055, hidden_layer_sizes=(700,) ....\n"
     ]
    },
    {
     "name": "stderr",
     "output_type": "stream",
     "text": [
      "[Parallel(n_jobs=1)]: Done   5 out of   5 | elapsed:  1.9min remaining:    0.0s\n"
     ]
    },
    {
     "name": "stdout",
     "output_type": "stream",
     "text": [
      "[CV]  activation=logistic, alpha=0.0055, hidden_layer_sizes=(700,), score=0.9644, total=  33.1s\n",
      "[CV] activation=logistic, alpha=0.0055, hidden_layer_sizes=(800,) ....\n"
     ]
    },
    {
     "name": "stderr",
     "output_type": "stream",
     "text": [
      "[Parallel(n_jobs=1)]: Done   6 out of   6 | elapsed:  2.5min remaining:    0.0s\n"
     ]
    },
    {
     "name": "stdout",
     "output_type": "stream",
     "text": [
      "[CV]  activation=logistic, alpha=0.0055, hidden_layer_sizes=(800,), score=0.964, total=  37.1s\n",
      "[CV] activation=logistic, alpha=0.0055, hidden_layer_sizes=(800,) ....\n"
     ]
    },
    {
     "name": "stderr",
     "output_type": "stream",
     "text": [
      "[Parallel(n_jobs=1)]: Done   7 out of   7 | elapsed:  3.1min remaining:    0.0s\n"
     ]
    },
    {
     "name": "stdout",
     "output_type": "stream",
     "text": [
      "[CV]  activation=logistic, alpha=0.0055, hidden_layer_sizes=(800,), score=0.9652, total=  33.4s\n",
      "[CV] activation=logistic, alpha=0.0055, hidden_layer_sizes=(800,) ....\n"
     ]
    },
    {
     "name": "stderr",
     "output_type": "stream",
     "text": [
      "[Parallel(n_jobs=1)]: Done   8 out of   8 | elapsed:  3.7min remaining:    0.0s\n"
     ]
    },
    {
     "name": "stdout",
     "output_type": "stream",
     "text": [
      "[CV]  activation=logistic, alpha=0.0055, hidden_layer_sizes=(800,), score=0.9624, total=  30.2s\n",
      "[CV] activation=logistic, alpha=0.006166666666666667, hidden_layer_sizes=(600,) \n"
     ]
    },
    {
     "name": "stderr",
     "output_type": "stream",
     "text": [
      "[Parallel(n_jobs=1)]: Done   9 out of   9 | elapsed:  4.2min remaining:    0.0s\n"
     ]
    },
    {
     "name": "stdout",
     "output_type": "stream",
     "text": [
      "[CV]  activation=logistic, alpha=0.006166666666666667, hidden_layer_sizes=(600,), score=0.9632, total=  20.9s\n",
      "[CV] activation=logistic, alpha=0.006166666666666667, hidden_layer_sizes=(600,) \n",
      "[CV]  activation=logistic, alpha=0.006166666666666667, hidden_layer_sizes=(600,), score=0.9644, total=  21.7s\n",
      "[CV] activation=logistic, alpha=0.006166666666666667, hidden_layer_sizes=(600,) \n",
      "[CV]  activation=logistic, alpha=0.006166666666666667, hidden_layer_sizes=(600,), score=0.9596, total=  20.5s\n",
      "[CV] activation=logistic, alpha=0.006166666666666667, hidden_layer_sizes=(700,) \n",
      "[CV]  activation=logistic, alpha=0.006166666666666667, hidden_layer_sizes=(700,), score=0.9676, total=  32.7s\n",
      "[CV] activation=logistic, alpha=0.006166666666666667, hidden_layer_sizes=(700,) \n",
      "[CV]  activation=logistic, alpha=0.006166666666666667, hidden_layer_sizes=(700,), score=0.9652, total=  28.6s\n",
      "[CV] activation=logistic, alpha=0.006166666666666667, hidden_layer_sizes=(700,) \n",
      "[CV]  activation=logistic, alpha=0.006166666666666667, hidden_layer_sizes=(700,), score=0.9612, total=  25.1s\n",
      "[CV] activation=logistic, alpha=0.006166666666666667, hidden_layer_sizes=(800,) \n",
      "[CV]  activation=logistic, alpha=0.006166666666666667, hidden_layer_sizes=(800,), score=0.9616, total=  16.1s\n",
      "[CV] activation=logistic, alpha=0.006166666666666667, hidden_layer_sizes=(800,) \n",
      "[CV]  activation=logistic, alpha=0.006166666666666667, hidden_layer_sizes=(800,), score=0.9556, total=  14.2s\n",
      "[CV] activation=logistic, alpha=0.006166666666666667, hidden_layer_sizes=(800,) \n",
      "[CV]  activation=logistic, alpha=0.006166666666666667, hidden_layer_sizes=(800,), score=0.9612, total=  43.3s\n",
      "[CV] activation=logistic, alpha=0.006833333333333333, hidden_layer_sizes=(600,) \n",
      "[CV]  activation=logistic, alpha=0.006833333333333333, hidden_layer_sizes=(600,), score=0.9708, total=  35.0s\n",
      "[CV] activation=logistic, alpha=0.006833333333333333, hidden_layer_sizes=(600,) \n",
      "[CV]  activation=logistic, alpha=0.006833333333333333, hidden_layer_sizes=(600,), score=0.966, total=  32.7s\n",
      "[CV] activation=logistic, alpha=0.006833333333333333, hidden_layer_sizes=(600,) \n",
      "[CV]  activation=logistic, alpha=0.006833333333333333, hidden_layer_sizes=(600,), score=0.9552, total=  23.3s\n",
      "[CV] activation=logistic, alpha=0.006833333333333333, hidden_layer_sizes=(700,) \n",
      "[CV]  activation=logistic, alpha=0.006833333333333333, hidden_layer_sizes=(700,), score=0.9692, total=  27.9s\n",
      "[CV] activation=logistic, alpha=0.006833333333333333, hidden_layer_sizes=(700,) \n",
      "[CV]  activation=logistic, alpha=0.006833333333333333, hidden_layer_sizes=(700,), score=0.9628, total=  28.2s\n",
      "[CV] activation=logistic, alpha=0.006833333333333333, hidden_layer_sizes=(700,) \n",
      "[CV]  activation=logistic, alpha=0.006833333333333333, hidden_layer_sizes=(700,), score=0.9576, total=  36.2s\n",
      "[CV] activation=logistic, alpha=0.006833333333333333, hidden_layer_sizes=(800,) \n",
      "[CV]  activation=logistic, alpha=0.006833333333333333, hidden_layer_sizes=(800,), score=0.968, total=  31.6s\n",
      "[CV] activation=logistic, alpha=0.006833333333333333, hidden_layer_sizes=(800,) \n",
      "[CV]  activation=logistic, alpha=0.006833333333333333, hidden_layer_sizes=(800,), score=0.9688, total=  40.7s\n",
      "[CV] activation=logistic, alpha=0.006833333333333333, hidden_layer_sizes=(800,) \n",
      "[CV]  activation=logistic, alpha=0.006833333333333333, hidden_layer_sizes=(800,), score=0.952, total=  19.9s\n",
      "[CV] activation=logistic, alpha=0.0075, hidden_layer_sizes=(600,) ....\n",
      "[CV]  activation=logistic, alpha=0.0075, hidden_layer_sizes=(600,), score=0.9664, total=  20.9s\n",
      "[CV] activation=logistic, alpha=0.0075, hidden_layer_sizes=(600,) ....\n",
      "[CV]  activation=logistic, alpha=0.0075, hidden_layer_sizes=(600,), score=0.9636, total=  24.3s\n",
      "[CV] activation=logistic, alpha=0.0075, hidden_layer_sizes=(600,) ....\n",
      "[CV]  activation=logistic, alpha=0.0075, hidden_layer_sizes=(600,), score=0.9608, total=  22.1s\n",
      "[CV] activation=logistic, alpha=0.0075, hidden_layer_sizes=(700,) ....\n",
      "[CV]  activation=logistic, alpha=0.0075, hidden_layer_sizes=(700,), score=0.9652, total=  20.6s\n",
      "[CV] activation=logistic, alpha=0.0075, hidden_layer_sizes=(700,) ....\n",
      "[CV]  activation=logistic, alpha=0.0075, hidden_layer_sizes=(700,), score=0.9604, total=  28.5s\n",
      "[CV] activation=logistic, alpha=0.0075, hidden_layer_sizes=(700,) ....\n",
      "[CV]  activation=logistic, alpha=0.0075, hidden_layer_sizes=(700,), score=0.9604, total=  26.3s\n",
      "[CV] activation=logistic, alpha=0.0075, hidden_layer_sizes=(800,) ....\n",
      "[CV]  activation=logistic, alpha=0.0075, hidden_layer_sizes=(800,), score=0.9664, total=  30.2s\n",
      "[CV] activation=logistic, alpha=0.0075, hidden_layer_sizes=(800,) ....\n",
      "[CV]  activation=logistic, alpha=0.0075, hidden_layer_sizes=(800,), score=0.9632, total=  36.8s\n",
      "[CV] activation=logistic, alpha=0.0075, hidden_layer_sizes=(800,) ....\n",
      "[CV]  activation=logistic, alpha=0.0075, hidden_layer_sizes=(800,), score=0.9544, total=  33.0s\n",
      "[CV] activation=relu, alpha=0.0055, hidden_layer_sizes=(600,) ........\n",
      "[CV]  activation=relu, alpha=0.0055, hidden_layer_sizes=(600,), score=0.974, total=  13.8s\n",
      "[CV] activation=relu, alpha=0.0055, hidden_layer_sizes=(600,) ........\n",
      "[CV]  activation=relu, alpha=0.0055, hidden_layer_sizes=(600,), score=0.9712, total=  18.8s\n",
      "[CV] activation=relu, alpha=0.0055, hidden_layer_sizes=(600,) ........\n",
      "[CV]  activation=relu, alpha=0.0055, hidden_layer_sizes=(600,), score=0.9632, total=  16.0s\n",
      "[CV] activation=relu, alpha=0.0055, hidden_layer_sizes=(700,) ........\n",
      "[CV]  activation=relu, alpha=0.0055, hidden_layer_sizes=(700,), score=0.978, total=  21.6s\n",
      "[CV] activation=relu, alpha=0.0055, hidden_layer_sizes=(700,) ........\n",
      "[CV]  activation=relu, alpha=0.0055, hidden_layer_sizes=(700,), score=0.9692, total=  28.4s\n",
      "[CV] activation=relu, alpha=0.0055, hidden_layer_sizes=(700,) ........\n",
      "[CV]  activation=relu, alpha=0.0055, hidden_layer_sizes=(700,), score=0.964, total=  17.5s\n",
      "[CV] activation=relu, alpha=0.0055, hidden_layer_sizes=(800,) ........\n",
      "[CV]  activation=relu, alpha=0.0055, hidden_layer_sizes=(800,), score=0.9728, total=  16.1s\n",
      "[CV] activation=relu, alpha=0.0055, hidden_layer_sizes=(800,) ........\n",
      "[CV]  activation=relu, alpha=0.0055, hidden_layer_sizes=(800,), score=0.9716, total=  17.9s\n",
      "[CV] activation=relu, alpha=0.0055, hidden_layer_sizes=(800,) ........\n",
      "[CV]  activation=relu, alpha=0.0055, hidden_layer_sizes=(800,), score=0.9648, total=  25.1s\n",
      "[CV] activation=relu, alpha=0.006166666666666667, hidden_layer_sizes=(600,) \n",
      "[CV]  activation=relu, alpha=0.006166666666666667, hidden_layer_sizes=(600,), score=0.9748, total=  22.8s\n",
      "[CV] activation=relu, alpha=0.006166666666666667, hidden_layer_sizes=(600,) \n",
      "[CV]  activation=relu, alpha=0.006166666666666667, hidden_layer_sizes=(600,), score=0.9692, total=  14.1s\n",
      "[CV] activation=relu, alpha=0.006166666666666667, hidden_layer_sizes=(600,) \n",
      "[CV]  activation=relu, alpha=0.006166666666666667, hidden_layer_sizes=(600,), score=0.96, total=  12.9s\n",
      "[CV] activation=relu, alpha=0.006166666666666667, hidden_layer_sizes=(700,) \n",
      "[CV]  activation=relu, alpha=0.006166666666666667, hidden_layer_sizes=(700,), score=0.9744, total=  20.3s\n",
      "[CV] activation=relu, alpha=0.006166666666666667, hidden_layer_sizes=(700,) \n",
      "[CV]  activation=relu, alpha=0.006166666666666667, hidden_layer_sizes=(700,), score=0.9712, total=  18.5s\n",
      "[CV] activation=relu, alpha=0.006166666666666667, hidden_layer_sizes=(700,) \n",
      "[CV]  activation=relu, alpha=0.006166666666666667, hidden_layer_sizes=(700,), score=0.9604, total=  15.6s\n",
      "[CV] activation=relu, alpha=0.006166666666666667, hidden_layer_sizes=(800,) \n",
      "[CV]  activation=relu, alpha=0.006166666666666667, hidden_layer_sizes=(800,), score=0.9752, total=  13.7s\n",
      "[CV] activation=relu, alpha=0.006166666666666667, hidden_layer_sizes=(800,) \n",
      "[CV]  activation=relu, alpha=0.006166666666666667, hidden_layer_sizes=(800,), score=0.9728, total=  29.0s\n",
      "[CV] activation=relu, alpha=0.006166666666666667, hidden_layer_sizes=(800,) \n",
      "[CV]  activation=relu, alpha=0.006166666666666667, hidden_layer_sizes=(800,), score=0.968, total=  16.4s\n",
      "[CV] activation=relu, alpha=0.006833333333333333, hidden_layer_sizes=(600,) \n",
      "[CV]  activation=relu, alpha=0.006833333333333333, hidden_layer_sizes=(600,), score=0.974, total=  19.2s\n",
      "[CV] activation=relu, alpha=0.006833333333333333, hidden_layer_sizes=(600,) \n"
     ]
    },
    {
     "name": "stdout",
     "output_type": "stream",
     "text": [
      "[CV]  activation=relu, alpha=0.006833333333333333, hidden_layer_sizes=(600,), score=0.9692, total=  15.1s\n",
      "[CV] activation=relu, alpha=0.006833333333333333, hidden_layer_sizes=(600,) \n",
      "[CV]  activation=relu, alpha=0.006833333333333333, hidden_layer_sizes=(600,), score=0.96, total=  13.3s\n",
      "[CV] activation=relu, alpha=0.006833333333333333, hidden_layer_sizes=(700,) \n",
      "[CV]  activation=relu, alpha=0.006833333333333333, hidden_layer_sizes=(700,), score=0.9728, total=  18.4s\n",
      "[CV] activation=relu, alpha=0.006833333333333333, hidden_layer_sizes=(700,) \n",
      "[CV]  activation=relu, alpha=0.006833333333333333, hidden_layer_sizes=(700,), score=0.9696, total=  24.3s\n",
      "[CV] activation=relu, alpha=0.006833333333333333, hidden_layer_sizes=(700,) \n",
      "[CV]  activation=relu, alpha=0.006833333333333333, hidden_layer_sizes=(700,), score=0.9612, total=  17.5s\n",
      "[CV] activation=relu, alpha=0.006833333333333333, hidden_layer_sizes=(800,) \n",
      "[CV]  activation=relu, alpha=0.006833333333333333, hidden_layer_sizes=(800,), score=0.9784, total=  29.6s\n",
      "[CV] activation=relu, alpha=0.006833333333333333, hidden_layer_sizes=(800,) \n",
      "[CV]  activation=relu, alpha=0.006833333333333333, hidden_layer_sizes=(800,), score=0.9692, total=  17.4s\n",
      "[CV] activation=relu, alpha=0.006833333333333333, hidden_layer_sizes=(800,) \n",
      "[CV]  activation=relu, alpha=0.006833333333333333, hidden_layer_sizes=(800,), score=0.9644, total=  15.6s\n",
      "[CV] activation=relu, alpha=0.0075, hidden_layer_sizes=(600,) ........\n",
      "[CV]  activation=relu, alpha=0.0075, hidden_layer_sizes=(600,), score=0.9716, total=  16.3s\n",
      "[CV] activation=relu, alpha=0.0075, hidden_layer_sizes=(600,) ........\n",
      "[CV]  activation=relu, alpha=0.0075, hidden_layer_sizes=(600,), score=0.97, total=  14.1s\n",
      "[CV] activation=relu, alpha=0.0075, hidden_layer_sizes=(600,) ........\n",
      "[CV]  activation=relu, alpha=0.0075, hidden_layer_sizes=(600,), score=0.9644, total=  20.1s\n",
      "[CV] activation=relu, alpha=0.0075, hidden_layer_sizes=(700,) ........\n",
      "[CV]  activation=relu, alpha=0.0075, hidden_layer_sizes=(700,), score=0.9768, total=  27.3s\n",
      "[CV] activation=relu, alpha=0.0075, hidden_layer_sizes=(700,) ........\n",
      "[CV]  activation=relu, alpha=0.0075, hidden_layer_sizes=(700,), score=0.97, total=  21.5s\n",
      "[CV] activation=relu, alpha=0.0075, hidden_layer_sizes=(700,) ........\n",
      "[CV]  activation=relu, alpha=0.0075, hidden_layer_sizes=(700,), score=0.9616, total=  25.6s\n",
      "[CV] activation=relu, alpha=0.0075, hidden_layer_sizes=(800,) ........\n",
      "[CV]  activation=relu, alpha=0.0075, hidden_layer_sizes=(800,), score=0.9764, total=  30.6s\n",
      "[CV] activation=relu, alpha=0.0075, hidden_layer_sizes=(800,) ........\n",
      "[CV]  activation=relu, alpha=0.0075, hidden_layer_sizes=(800,), score=0.9684, total=  23.5s\n",
      "[CV] activation=relu, alpha=0.0075, hidden_layer_sizes=(800,) ........\n",
      "[CV]  activation=relu, alpha=0.0075, hidden_layer_sizes=(800,), score=0.9616, total=  24.0s\n",
      "[CV] activation=tanh, alpha=0.0055, hidden_layer_sizes=(600,) ........\n",
      "[CV]  activation=tanh, alpha=0.0055, hidden_layer_sizes=(600,), score=0.9672, total=  17.5s\n",
      "[CV] activation=tanh, alpha=0.0055, hidden_layer_sizes=(600,) ........\n",
      "[CV]  activation=tanh, alpha=0.0055, hidden_layer_sizes=(600,), score=0.9676, total=  15.4s\n",
      "[CV] activation=tanh, alpha=0.0055, hidden_layer_sizes=(600,) ........\n",
      "[CV]  activation=tanh, alpha=0.0055, hidden_layer_sizes=(600,), score=0.9612, total=  15.1s\n",
      "[CV] activation=tanh, alpha=0.0055, hidden_layer_sizes=(700,) ........\n",
      "[CV]  activation=tanh, alpha=0.0055, hidden_layer_sizes=(700,), score=0.9664, total=  12.1s\n",
      "[CV] activation=tanh, alpha=0.0055, hidden_layer_sizes=(700,) ........\n",
      "[CV]  activation=tanh, alpha=0.0055, hidden_layer_sizes=(700,), score=0.966, total=  16.0s\n",
      "[CV] activation=tanh, alpha=0.0055, hidden_layer_sizes=(700,) ........\n",
      "[CV]  activation=tanh, alpha=0.0055, hidden_layer_sizes=(700,), score=0.9612, total=  12.1s\n",
      "[CV] activation=tanh, alpha=0.0055, hidden_layer_sizes=(800,) ........\n",
      "[CV]  activation=tanh, alpha=0.0055, hidden_layer_sizes=(800,), score=0.9712, total=  21.8s\n",
      "[CV] activation=tanh, alpha=0.0055, hidden_layer_sizes=(800,) ........\n",
      "[CV]  activation=tanh, alpha=0.0055, hidden_layer_sizes=(800,), score=0.9676, total=  18.9s\n",
      "[CV] activation=tanh, alpha=0.0055, hidden_layer_sizes=(800,) ........\n",
      "[CV]  activation=tanh, alpha=0.0055, hidden_layer_sizes=(800,), score=0.9608, total=  22.9s\n",
      "[CV] activation=tanh, alpha=0.006166666666666667, hidden_layer_sizes=(600,) \n",
      "[CV]  activation=tanh, alpha=0.006166666666666667, hidden_layer_sizes=(600,), score=0.9752, total=  11.7s\n",
      "[CV] activation=tanh, alpha=0.006166666666666667, hidden_layer_sizes=(600,) \n",
      "[CV]  activation=tanh, alpha=0.006166666666666667, hidden_layer_sizes=(600,), score=0.9692, total=  21.3s\n",
      "[CV] activation=tanh, alpha=0.006166666666666667, hidden_layer_sizes=(600,) \n",
      "[CV]  activation=tanh, alpha=0.006166666666666667, hidden_layer_sizes=(600,), score=0.9572, total=  21.2s\n",
      "[CV] activation=tanh, alpha=0.006166666666666667, hidden_layer_sizes=(700,) \n",
      "[CV]  activation=tanh, alpha=0.006166666666666667, hidden_layer_sizes=(700,), score=0.9664, total=  15.9s\n",
      "[CV] activation=tanh, alpha=0.006166666666666667, hidden_layer_sizes=(700,) \n",
      "[CV]  activation=tanh, alpha=0.006166666666666667, hidden_layer_sizes=(700,), score=0.9676, total=  26.4s\n",
      "[CV] activation=tanh, alpha=0.006166666666666667, hidden_layer_sizes=(700,) \n",
      "[CV]  activation=tanh, alpha=0.006166666666666667, hidden_layer_sizes=(700,), score=0.964, total=  11.5s\n",
      "[CV] activation=tanh, alpha=0.006166666666666667, hidden_layer_sizes=(800,) \n",
      "[CV]  activation=tanh, alpha=0.006166666666666667, hidden_layer_sizes=(800,), score=0.9744, total=  19.8s\n",
      "[CV] activation=tanh, alpha=0.006166666666666667, hidden_layer_sizes=(800,) \n",
      "[CV]  activation=tanh, alpha=0.006166666666666667, hidden_layer_sizes=(800,), score=0.9688, total=  17.4s\n",
      "[CV] activation=tanh, alpha=0.006166666666666667, hidden_layer_sizes=(800,) \n",
      "[CV]  activation=tanh, alpha=0.006166666666666667, hidden_layer_sizes=(800,), score=0.962, total=  16.8s\n",
      "[CV] activation=tanh, alpha=0.006833333333333333, hidden_layer_sizes=(600,) \n",
      "[CV]  activation=tanh, alpha=0.006833333333333333, hidden_layer_sizes=(600,), score=0.974, total=  18.8s\n",
      "[CV] activation=tanh, alpha=0.006833333333333333, hidden_layer_sizes=(600,) \n",
      "[CV]  activation=tanh, alpha=0.006833333333333333, hidden_layer_sizes=(600,), score=0.9696, total=  18.3s\n",
      "[CV] activation=tanh, alpha=0.006833333333333333, hidden_layer_sizes=(600,) \n",
      "[CV]  activation=tanh, alpha=0.006833333333333333, hidden_layer_sizes=(600,), score=0.9588, total=  15.3s\n",
      "[CV] activation=tanh, alpha=0.006833333333333333, hidden_layer_sizes=(700,) \n",
      "[CV]  activation=tanh, alpha=0.006833333333333333, hidden_layer_sizes=(700,), score=0.9736, total=  13.3s\n",
      "[CV] activation=tanh, alpha=0.006833333333333333, hidden_layer_sizes=(700,) \n",
      "[CV]  activation=tanh, alpha=0.006833333333333333, hidden_layer_sizes=(700,), score=0.9672, total=  20.7s\n",
      "[CV] activation=tanh, alpha=0.006833333333333333, hidden_layer_sizes=(700,) \n",
      "[CV]  activation=tanh, alpha=0.006833333333333333, hidden_layer_sizes=(700,), score=0.9592, total=  20.5s\n",
      "[CV] activation=tanh, alpha=0.006833333333333333, hidden_layer_sizes=(800,) \n",
      "[CV]  activation=tanh, alpha=0.006833333333333333, hidden_layer_sizes=(800,), score=0.9728, total=  18.8s\n",
      "[CV] activation=tanh, alpha=0.006833333333333333, hidden_layer_sizes=(800,) \n",
      "[CV]  activation=tanh, alpha=0.006833333333333333, hidden_layer_sizes=(800,), score=0.9676, total=  26.9s\n",
      "[CV] activation=tanh, alpha=0.006833333333333333, hidden_layer_sizes=(800,) \n",
      "[CV]  activation=tanh, alpha=0.006833333333333333, hidden_layer_sizes=(800,), score=0.96, total=  28.1s\n",
      "[CV] activation=tanh, alpha=0.0075, hidden_layer_sizes=(600,) ........\n",
      "[CV]  activation=tanh, alpha=0.0075, hidden_layer_sizes=(600,), score=0.974, total=  24.6s\n",
      "[CV] activation=tanh, alpha=0.0075, hidden_layer_sizes=(600,) ........\n",
      "[CV]  activation=tanh, alpha=0.0075, hidden_layer_sizes=(600,), score=0.9648, total=  21.7s\n",
      "[CV] activation=tanh, alpha=0.0075, hidden_layer_sizes=(600,) ........\n",
      "[CV]  activation=tanh, alpha=0.0075, hidden_layer_sizes=(600,), score=0.9628, total=  12.9s\n",
      "[CV] activation=tanh, alpha=0.0075, hidden_layer_sizes=(700,) ........\n",
      "[CV]  activation=tanh, alpha=0.0075, hidden_layer_sizes=(700,), score=0.9704, total=  15.5s\n",
      "[CV] activation=tanh, alpha=0.0075, hidden_layer_sizes=(700,) ........\n"
     ]
    },
    {
     "name": "stdout",
     "output_type": "stream",
     "text": [
      "[CV]  activation=tanh, alpha=0.0075, hidden_layer_sizes=(700,), score=0.9688, total=  17.0s\n",
      "[CV] activation=tanh, alpha=0.0075, hidden_layer_sizes=(700,) ........\n",
      "[CV]  activation=tanh, alpha=0.0075, hidden_layer_sizes=(700,), score=0.9648, total=  14.0s\n",
      "[CV] activation=tanh, alpha=0.0075, hidden_layer_sizes=(800,) ........\n",
      "[CV]  activation=tanh, alpha=0.0075, hidden_layer_sizes=(800,), score=0.9652, total=  20.7s\n",
      "[CV] activation=tanh, alpha=0.0075, hidden_layer_sizes=(800,) ........\n",
      "[CV]  activation=tanh, alpha=0.0075, hidden_layer_sizes=(800,), score=0.9636, total=  19.6s\n",
      "[CV] activation=tanh, alpha=0.0075, hidden_layer_sizes=(800,) ........\n",
      "[CV]  activation=tanh, alpha=0.0075, hidden_layer_sizes=(800,), score=0.9584, total=   9.7s\n"
     ]
    },
    {
     "name": "stderr",
     "output_type": "stream",
     "text": [
      "[Parallel(n_jobs=1)]: Done 108 out of 108 | elapsed: 39.4min finished\n"
     ]
    },
    {
     "name": "stdout",
     "output_type": "stream",
     "text": [
      "\n",
      "best parameters are: {'activation': 'relu', 'alpha': 0.006166666666666667, 'hidden_layer_sizes': (800,)}\n",
      "best accuracy is : 0.972\n"
     ]
    }
   ],
   "source": [
    "alpha_range = np.linspace(0.0055,0.0075, 4)\n",
    "hidden_layers_range = [(ll,) for ll in np.arange(600, 900, 100)]\n",
    "act_func = [\"logistic\", \"relu\", \"tanh\"]\n",
    "\n",
    "param_grid = dict(alpha=alpha_range, hidden_layer_sizes=hidden_layers_range, activation=act_func)\n",
    "\n",
    "mlp = MLPClassifier()\n",
    "grid = GridSearchCV(mlp, param_grid=param_grid, cv=3, verbose=10)\n",
    "grid.fit(normalized_all, y_all)\n",
    "\n",
    "print(\"\\nbest parameters are: \" + str(grid.best_params_))\n",
    "print(\"best accuracy is : \"+ str(grid.best_score_))"
   ]
  },
  {
   "cell_type": "markdown",
   "metadata": {},
   "source": [
    "After running GridSearch, we have found our optimal hyperparameters, **alpha=$0.00616$, Hidden_layer_sizes = $(800,)$, and activation=relu**. With a best accuracy of **97.2%**"
   ]
  },
  {
   "cell_type": "markdown",
   "metadata": {},
   "source": [
    "**Part D**: Which of the three models above performed the best on the data set?  Were you surprised or not surprised by your results?  Discuss. "
   ]
  },
  {
   "cell_type": "code",
   "execution_count": null,
   "metadata": {
    "collapsed": true
   },
   "outputs": [],
   "source": []
  },
  {
   "cell_type": "markdown",
   "metadata": {},
   "source": [
    "**Part E**: For the best model you identified in **Part D**, perform a train-validation split and construct a confusion matrix based on predictions on the validation set.  Which classes tend to get confused with each other the most? Are there any classes for which your model performs exceptionally well?  Plot at least one misclassified example from each of the often-confused classes and suggests reasons why this behavior might occur.   "
   ]
  },
  {
   "cell_type": "code",
   "execution_count": null,
   "metadata": {
    "collapsed": true
   },
   "outputs": [],
   "source": []
  },
  {
   "cell_type": "markdown",
   "metadata": {},
   "source": [
    "### [30 points] Problem 2: Predicting Authors of Presidential Election Tweets \n",
    "***\n",
    "\n",
    "For the first time in history, the run-up to the 2016 presidential election saw candidates move a large portion of their campaigns from the traditional debating lectern to the Twitterverse. In this problem you will construct various classifiers to predict whether a tweet was sent by @HillaryClinton ($y=0$) or @realDonaldTrump ($y=1$). \n",
    "\n",
    "The data set contains $4000$ tweets that have been cleaned by converting all text to lowercase, removing punctuation, and removing hypertext links. In order to preserve hashtags we've replaced the typical # with the string `hashtag` (e.g. `#GiantMeteor` would be converted to `hashtaggiantmeteor`).  \n",
    "\n",
    "Execute the following cell to load the data. "
   ]
  },
  {
   "cell_type": "code",
   "execution_count": 11,
   "metadata": {
    "ExecuteTime": {
     "end_time": "2018-04-19T11:16:43.620382Z",
     "start_time": "2018-04-19T11:16:43.607739Z"
    }
   },
   "outputs": [],
   "source": [
    "f = gzip.open('data/clean_tweets.pklz','rb')\n",
    "text_all, y_all = pickle.load(f)\n",
    "text_train, text_valid, y_train, y_valid = train_test_split(text_all, y_all, test_size=0.33, random_state=42)\n",
    "f.close()"
   ]
  },
  {
   "cell_type": "markdown",
   "metadata": {},
   "source": [
    "**Part A**: Vectorize the text features using the Bag-of-Words text model **while removing stop words**.  Then answer the following questions: \n",
    "\n",
    "- How many distinct text features are there in the data after stop words are removed? \n",
    "- How many distinct **HashTags** are there in the data? \n",
    "- Which candidate uses HashTags the most frequently? "
   ]
  },
  {
   "cell_type": "code",
   "execution_count": 12,
   "metadata": {},
   "outputs": [],
   "source": [
    "from sklearn.feature_extraction.text import TfidfVectorizer \n",
    "\n",
    "bagofwords = TfidfVectorizer(stop_words=\"english\")           # initialize the vectorizer\n",
    "Xbw_train = bagofwords.fit_transform(text_all)             # fit to training data and transform to matrix "
   ]
  },
  {
   "cell_type": "code",
   "execution_count": 55,
   "metadata": {},
   "outputs": [
    {
     "name": "stdout",
     "output_type": "stream",
     "text": [
      "There are 5981 terms in the vocabulary\n",
      "There are 186 distinct hashtags in the data\n",
      "Trump has used 550 hashtags compare to Hillary using 241 hashtags.\n"
     ]
    }
   ],
   "source": [
    "import re\n",
    "\n",
    "def get_who_hashtags(text, true):\n",
    "    counts = np.array([[0],[0]])\n",
    "    for ii,sentence in enumerate(text):\n",
    "        if \"HASHTAG\" in sentence:\n",
    "            counts[true[ii]] += 1\n",
    "    return counts\n",
    "\n",
    "def get_hashtags(vocab, num_common=20):\n",
    "    hashtag_count = 0\n",
    "    for word in vocab:\n",
    "        match = re.search(\"hashtag.*\", word)     # regex match on hashtag followed by any other characters \n",
    "        if match:                                # cuz I forgot python does everything for u\n",
    "            hashtag_count += 1\n",
    "    return hashtag_count\n",
    "\n",
    "hashtags = get_who_hashtags(text_all, y_all)\n",
    "\n",
    "print(\"There are {:d} terms in the vocabulary\".format(Xbw_train.shape[1]))\n",
    "print(\"There are {:d} distinct hashtags in the data\".format(get_hashtags(bagofwords.vocabulary_)))\n",
    "print(\"Trump has used \"+str(hashtags[1][0])+\" hashtags compare to Hillary using \"+str(hashtags[0][0])+\" hashtags.\")\n"
   ]
  },
  {
   "cell_type": "markdown",
   "metadata": {},
   "source": [
    "**Part B**: Construct a Logistic Regression classifier with L2 regularization to make predictions on the data. Exactly as in **Problem 1**, you should clearly detail your process for picking optimal hyperparameters and evaluating your model, and report the details of your best model along with final validation accuracy. "
   ]
  },
  {
   "cell_type": "code",
   "execution_count": 18,
   "metadata": {},
   "outputs": [
    {
     "name": "stdout",
     "output_type": "stream",
     "text": [
      "Best Inverse regularization value is: 5.800000000000004 with accuracy 92.73%\n"
     ]
    },
    {
     "data": {
      "image/png": "[encoded data removed]",
      "text/plain": [
       "<matplotlib.figure.Figure at 0x12941ba90>"
      ]
     },
     "metadata": {},
     "output_type": "display_data"
    }
   ],
   "source": [
    "from sklearn.pipeline import Pipeline \n",
    "from sklearn.linear_model import LogisticRegression\n",
    "\n",
    "# bagofwords = TfidfVectorizer(stop_words=\"english\")\n",
    "# logreg = LogisticRegression(C=1)\n",
    "\n",
    "# bagofwords_steps = [\n",
    "#     (\"bagofwords\", bagofwords),\n",
    "#     (\"logreg\", logreg)\n",
    "# ]\n",
    "# bagofwords_pipe = Pipeline(bagofwords_steps)\n",
    "# bagofwords_pipe.fit(text_train, y_train)\n",
    "\n",
    "# train_acc = bagofwords_pipe.score(text_train, y_train)\n",
    "# valid_acc = bagofwords_pipe.score(text_valid, y_valid)\n",
    "# print(\"Accuracy on Training Set:   {:.3f}\".format(train_acc))\n",
    "# print(\"Accuracy on Validation Set: {:.3f}\".format(valid_acc))\n",
    "\n",
    "c_vals = np.arange(1, 60, .1)\n",
    "best_c = 0\n",
    "best_c_acc = 0.0\n",
    "valid_acc = []\n",
    "\n",
    "bagofwords = TfidfVectorizer(stop_words=\"english\")\n",
    "Xbw_train = bagofwords.fit_transform(text_train) \n",
    "vocab = bagofwords.vocabulary_\n",
    "\n",
    "for c in c_vals:\n",
    "    logreg = LogisticRegression(C=c, penalty = 'l2')\n",
    "\n",
    "    bagofwords_steps = [\n",
    "        (\"bagofwords\", bagofwords),\n",
    "        (\"logreg\", logreg)\n",
    "    ]\n",
    "    bagofwords_pipe = Pipeline(bagofwords_steps)\n",
    "    bagofwords_pipe.fit(text_train, y_train)\n",
    "    acc = bagofwords_pipe.score(text_valid, y_valid)\n",
    "    valid_acc.append(acc)\n",
    "    if acc > best_c_acc:\n",
    "        best_c = c\n",
    "        best_c_acc = acc\n",
    "\n",
    "print('Best Inverse regularization value is: ' + str(best_c) + ' with accuracy '+ str(round(best_c_acc * 100, 2)) + '%')  \n",
    "plt.plot(c_vals, valid_acc)\n",
    "plt.xlabel('Inverse of regularization strength')\n",
    "plt.ylabel('Accuracy')\n",
    "plt.title('Inverse of regularization strength vs Validation Accuracy')\n",
    "plt.show()"
   ]
  },
  {
   "cell_type": "code",
   "execution_count": null,
   "metadata": {},
   "outputs": [],
   "source": []
  },
  {
   "cell_type": "code",
   "execution_count": 19,
   "metadata": {},
   "outputs": [
    {
     "name": "stdout",
     "output_type": "stream",
     "text": [
      "Accuracy on Training Set:   0.996\n",
      "Accuracy on Validation Set: 0.927\n"
     ]
    }
   ],
   "source": [
    "bagofwords = TfidfVectorizer(stop_words=\"english\")\n",
    "logreg = LogisticRegression(C=5.8, penalty = 'l2')\n",
    "\n",
    "bagofwords_steps = [\n",
    "    (\"bagofwords\", bagofwords),\n",
    "    (\"logreg\", logreg)\n",
    "]\n",
    "bagofwords_pipe = Pipeline(bagofwords_steps)\n",
    "bagofwords_pipe.fit(text_train, y_train)\n",
    "\n",
    "\n",
    "train_acc = bagofwords_pipe.score(text_train, y_train)\n",
    "valid_acc = bagofwords_pipe.score(text_valid, y_valid)\n",
    "print(\"Accuracy on Training Set:   {:.3f}\".format(train_acc))\n",
    "print(\"Accuracy on Validation Set: {:.3f}\".format(valid_acc))"
   ]
  },
  {
   "cell_type": "markdown",
   "metadata": {},
   "source": [
    "**Part C**: Determine and report the 10 words that are the best predictors for @HillaryClinton and the 10 words that are the best predictors for @realDonaldTrump in your Logistic Regression model. In addition, you should briefly discuss how you found these best features mathematically. "
   ]
  },
  {
   "cell_type": "code",
   "execution_count": 22,
   "metadata": {
    "scrolled": true
   },
   "outputs": [
    {
     "name": "stdout",
     "output_type": "stream",
     "text": [
      "\n",
      "Top Words for @HillaryClinton\n",
      "-------------------------------\n",
      "potus\n",
      "rt\n",
      "joebiden\n",
      "trump\n",
      "timkaine\n",
      "hillary\n",
      "trumps\n",
      "donald\n",
      "hillarys\n",
      "hashtagdemsinphilly\n",
      "\n",
      "Top Words for @realDonaldTrump\n",
      "-------------------------------\n",
      "thank\n",
      "hashtagtrump2016\n",
      "clinton\n",
      "cnn\n",
      "realdonaldtrump\n",
      "media\n",
      "crooked\n",
      "great\n",
      "hashtagamericafirst\n",
      "hashtagmakeamericagreatagain\n"
     ]
    }
   ],
   "source": [
    "coefs = bagofwords_pipe.named_steps['logreg'].coef_[0]\n",
    "top_clintons = np.argpartition(coefs, 10)[:10]\n",
    "top_trumps = np.argpartition(coefs, -10)[-10:]\n",
    "print('\\nTop Words for @HillaryClinton')\n",
    "print('-------------------------------')\n",
    "for ii in top_clintons:\n",
    "    word = list(vocab.keys())[list(vocab.values()).index(ii)] \n",
    "    print(word)\n",
    "print('\\nTop Words for @realDonaldTrump')\n",
    "print('-------------------------------')\n",
    "for ii in top_trumps:\n",
    "    word = list(vocab.keys())[list(vocab.values()).index(ii)] \n",
    "    print(word)"
   ]
  },
  {
   "cell_type": "markdown",
   "metadata": {},
   "source": [
    "**Part D**: Construct a Naive Bayes classifier to make predictions on the data. Again, you should clearly detail your process for picking optimal hyperparameters and evaluating your model, and report the details of your best model along with final validation accuracy. **Hint**: Since text features are discrete, you'll want to use Sklearn's [MultinomialNB](http://scikit-learn.org/stable/modules/generated/sklearn.naive_bayes.MultinomialNB.html) classifier. "
   ]
  },
  {
   "cell_type": "code",
   "execution_count": null,
   "metadata": {
    "collapsed": true
   },
   "outputs": [],
   "source": []
  },
  {
   "cell_type": "markdown",
   "metadata": {},
   "source": [
    "**Part E**: Determine and report the 10 words that are the best predictors for @HillaryClinton and the 10 words that are the best predictors for @realDonaldTrump in your Naive Bayes model. In addition, you should briefly discuss how you found these best features mathematically. "
   ]
  },
  {
   "cell_type": "code",
   "execution_count": null,
   "metadata": {
    "collapsed": true
   },
   "outputs": [],
   "source": []
  },
  {
   "cell_type": "markdown",
   "metadata": {},
   "source": [
    "**Part F**: Which of the two models above performed the best on the data set?  Were you surprised or not surprised by your results?  Discuss. "
   ]
  },
  {
   "cell_type": "code",
   "execution_count": null,
   "metadata": {
    "collapsed": true
   },
   "outputs": [],
   "source": []
  },
  {
   "cell_type": "markdown",
   "metadata": {},
   "source": [
    "### [25 points] Problem 3: Feature Engineering and Presidential Tweets \n",
    "***\n",
    "\n",
    "In this problem you will again work with the Twitter election data from **Problem 2**, but this time in its unadulterated raw form. Unlike in **Problem 2**, you will only be allowed to use Logistic Regression as your classifier.  Instead of using a fancier model, you will attempt to improve performance by crafting better features.  One way you might do this is to explore text models that are more sophisticated that simple Bag-of-Words. Alternatively, you might explore the training data and identify characteristics of tweets by a particular author that you can then turn into a feature. \n",
    "\n",
    "The class `TweetFeaturizer` shown below is already fully functional.  Your goal in this problem is to make it better.  In it's current state, the class reads in the training and test data, fits a Logistic Regression model using Bag-of-Words, makes predictions on the test set, and then dumps the predictions to a csv file that can be uploaded to Kaggle. You are free to modify this class is any way that you see fit, but we've given you some helpful functionality that will prove sufficient for most of you.  The `add_text_features` method currently loops over each tweet in the data set, copies it to a new array, and then passes that array into the text vectorizer.  One way to create new features is to append distinct word-indicators onto the string representing the tweet.  These will then be turned into features by the vectorizer. \n",
    "\n",
    "As an example (that is intentionally silly and probably unhelpful): Suppose you think a potentially helpful feature is whether or not the tweet contains more than 10 instances of the letter `z`.  In `add_text_features` you could count the number of `z`'s in a tweet and if there are more than 10, you could append the word `MoreThanTenZs` to the tweet.  Then, when the tweet is passed into the vectorizer, this will turn into a numerical feature.  \n",
    "\n",
    "In addition to competing against yourself to craft the best features that you can, you'll also compete against your classmates in a Kaggle competition.  The competition page can be found here: \n",
    "\n",
    "https://www.kaggle.com/c/4622-election-tweet-authorship\n",
    "\n",
    "A private invite link will be available on Piazza which will get you into the competition. Note that the test data has been partitioned into a public leaderboard set and a private leaderboard set.  While the competition is open, submitting to Kaggle will tell you your score on the public leaderboard.  Your scores on the private leaderboard will become available at the end of the competition.   The top **THREE** students on the **Private** leaderboard at the end of the competition will earn 10 extra credit points on the Practicum. Note that to prevent the machine learning-equivalent of button mashing, we've limited you to **10** submissions per day.  You should be evaluating your features locally with cross-validation and then submitting to Kaggle when you think you have something that works.  "
   ]
  },
  {
   "cell_type": "markdown",
   "metadata": {},
   "source": [
    "**Part A**: **Feature Engineering**:  What you need to do: \n",
    "\n",
    "- Explore and experiment with the data to try to find good features \n",
    "- Implement these features in the `TweetFeaturizer` class  \n",
    "- Implement some evaluation methods to see how well your features improve your model (*cough* cross-validation *cough*) \n",
    "- Make submissions to the Kaggle competition and see how you compared to your classmates "
   ]
  },
  {
   "cell_type": "code",
   "execution_count": null,
   "metadata": {
    "collapsed": true
   },
   "outputs": [],
   "source": []
  },
  {
   "cell_type": "markdown",
   "metadata": {},
   "source": [
    "**Part B**: **Motivation and Analysis**: What you need to do: \n",
    "\n",
    "Convince me that:\n",
    "\n",
    "- Your new features work\n",
    "- You understand what the new features are doing\n",
    "- You had a clear methodology for incorporating the new features\n"
   ]
  },
  {
   "cell_type": "code",
   "execution_count": null,
   "metadata": {
    "collapsed": true
   },
   "outputs": [],
   "source": []
  },
  {
   "cell_type": "code",
   "execution_count": 14,
   "metadata": {
    "ExecuteTime": {
     "end_time": "2018-04-19T11:17:43.721148Z",
     "start_time": "2018-04-19T11:17:43.346867Z"
    }
   },
   "outputs": [
    {
     "name": "stdout",
     "output_type": "stream",
     "text": [
      "Accuracy: 0.94425\n",
      "DT:  will AmericaFirst  Clinton CrookedHillary Trump2016  Crooked MakeAmericaGreatAgain realDonaldTrump Thank EXCLAMATION\n",
      "HC: RT Hillary POTUS Trump H  https JoeBiden BillClinton  Trump  president\n"
     ]
    }
   ],
   "source": [
    "class TweetFeaturizer:\n",
    "    def __init__(self):\n",
    "        \n",
    "        from sklearn.feature_extraction.text import TfidfVectorizer \n",
    "#         import nltk\n",
    "#         nltk.download()\n",
    "\n",
    "        self.vectorizer = TfidfVectorizer(\n",
    "            stop_words=\"english\",\n",
    "            analyzer = 'word',\n",
    "            lowercase=False,\n",
    "            sublinear_tf=True,\n",
    "            token_pattern='[a-z0-9_]*\\s*[\\w]*',\n",
    "            strip_accents='unicode',\n",
    "#             tokenizer=nltk.word_tokenize,\n",
    "            binary=True\n",
    "        )\n",
    "\n",
    "        \n",
    "    def add_text_features(self, examples):\n",
    "        \"\"\"\n",
    "        Method for looping over original text and adding new text \n",
    "        features. \n",
    "        :param examples: the list of raw tweets \n",
    "        \"\"\"\n",
    "        \n",
    "        new_examples = [] \n",
    "        for ex in examples:\n",
    "            if ('#' in ex):\n",
    "                ex = ex + 'HASHTAG'\n",
    "            if ('!' in ex):\n",
    "                ex = ex + 'EXCLAMATION'\n",
    "            if ('https' in ex):\n",
    "                ex = ex + 'HTTPS'\n",
    "            # here is where you might try to add new features \n",
    "            # currently this does nothing.  \n",
    "            new_examples.append(ex)\n",
    "            \n",
    "        return new_examples\n",
    "\n",
    "    def build_train_features(self, examples):\n",
    "        \"\"\"\n",
    "        Method to take in training text features and do further feature engineering \n",
    "        Most of the work in this homework will go here, or in similar functions  \n",
    "        :param examples: the list of raw tweets \n",
    "        \"\"\"\n",
    "        \n",
    "        new_examples = self.add_text_features(examples)\n",
    "        return self.vectorizer.fit_transform(new_examples)\n",
    "\n",
    "    def get_test_features(self, examples):\n",
    "        \"\"\"\n",
    "        Method to take in test text features and transform the same way as train features \n",
    "        :param examples: the list of raw tweets\n",
    "        \"\"\"\n",
    "        new_examples = self.add_text_features(examples)\n",
    "        return self.vectorizer.transform(new_examples)\n",
    "\n",
    "    def show_top10(self):\n",
    "        \"\"\"\n",
    "        prints the top 10 features for the positive class and the \n",
    "        top 10 features for the negative class. \n",
    "        \"\"\"\n",
    "        feature_names = np.asarray(self.vectorizer.get_feature_names())\n",
    "        top10 = np.argsort(self.logreg.coef_[0])[-10:]\n",
    "        bottom10 = np.argsort(self.logreg.coef_[0])[:10]\n",
    "        print(\"DT: %s\" % \" \".join(feature_names[top10]))\n",
    "        print(\"HC: %s\" % \" \".join(feature_names[bottom10]))\n",
    "                \n",
    "    def train_model(self, random_state=1234):\n",
    "        \"\"\"\n",
    "        Method to read in training data from file, and \n",
    "        train Logistic Regression classifier. \n",
    "        \n",
    "        :param random_state: seed for random number generator \n",
    "        \"\"\"\n",
    "        \n",
    "        from sklearn.linear_model import LogisticRegression\n",
    "        \n",
    "        # load data \n",
    "        f = gzip.open('data/raw_tweets_train.pklz','rb')\n",
    "        text_train, y_train = pickle.load(f)\n",
    "        f.close()\n",
    "        \n",
    "        # get training features and labels \n",
    "        self.X_train = self.build_train_features(text_train)\n",
    "        self.y_train = y_train\n",
    "        \n",
    "        # create range of C values to hand off to GridSearch to find the best hyperparam\n",
    "        c_vals = [0.001, 0.01, 0.1, 1, 10, 100, 1000]\n",
    "        param_grid = {'C': c_vals }\n",
    "        \n",
    "        logreg = LogisticRegression(penalty='l2', random_state=random_state)\n",
    "        grid = GridSearchCV(logreg, param_grid=param_grid, cv=5, n_jobs=-1)\n",
    "        \n",
    "\n",
    "        grid.fit(self.X_train, self.y_train)\n",
    "        \n",
    "        best_c_param = grid.best_params_['C']\n",
    "        print('Accuracy: ' + str(grid.best_score_))\n",
    "        \n",
    "        \n",
    "        # train logistic regression model.  !!MUST USE LogisticRegression!! #cross validation?\n",
    "        self.logreg = LogisticRegression(random_state=random_state, C=best_c_param)\n",
    "        self.logreg.fit(self.X_train, self.y_train)\n",
    "        \n",
    "    def model_predict(self):\n",
    "        \"\"\"\n",
    "        Method to read in test data from file, make predictions\n",
    "        using trained model, and dump results to file \n",
    "        \"\"\"\n",
    "        \n",
    "        # read in test data \n",
    "        f = gzip.open('data/raw_tweets_test.pklz','rb')\n",
    "        text_valid = pickle.load(f)\n",
    "        f.close()\n",
    "        \n",
    "        # featurize test data \n",
    "        self.X_test = self.get_test_features(text_valid)\n",
    "        \n",
    "        # make predictions on test data \n",
    "        pred = self.logreg.predict(self.X_test)\n",
    "        \n",
    "        # dump predictions to file for submission to Kaggle  \n",
    "        pd.DataFrame({\"realDonaldTrump\": np.array(pred, dtype=bool)}).to_csv(\"prediction.csv\", index=True, index_label=\"Id\")\n",
    "        \n",
    "\n",
    "# Instantiate the class \n",
    "feat = TweetFeaturizer()\n",
    "\n",
    "# Train your Logistic Regression classifier \n",
    "feat.train_model(random_state=1234)\n",
    "\n",
    "# Show the top 10 features for each class \n",
    "feat.show_top10()\n",
    "\n",
    "# Make prediction on test data and produce Kaggle submission file \n",
    "feat.model_predict()"
   ]
  },
  {
   "cell_type": "code",
   "execution_count": null,
   "metadata": {},
   "outputs": [],
   "source": []
  },
  {
   "cell_type": "markdown",
   "metadata": {},
   "source": [
    "### References\n",
    "***\n",
    "\n"
   ]
  },
  {
   "cell_type": "code",
   "execution_count": null,
   "metadata": {
    "collapsed": true
   },
   "outputs": [],
   "source": []
  }
 ],
 "metadata": {
  "kernelspec": {
   "display_name": "Python 3",
   "language": "python",
   "name": "python3"
  },
  "language_info": {
   "codemirror_mode": {
    "name": "ipython",
    "version": 3
   },
   "file_extension": ".py",
   "mimetype": "text/x-python",
   "name": "python",
   "nbconvert_exporter": "python",
   "pygments_lexer": "ipython3",
   "version": "3.6.0"
  }
 },
 "nbformat": 4,
 "nbformat_minor": 2
}
