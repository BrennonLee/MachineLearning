{
 "cells": [
  {
   "cell_type": "markdown",
   "metadata": {},
   "source": [
    "# CSCI 4622 - Spring 2018 - Practicum \n",
    "***\n",
    "\n",
    "\n",
    "This practicum is due on Moodle by **11:59pm on Thursday May 3rd**. \n",
    "\n",
    "**Here are the rules:** \n",
    "\n",
    "4. Your work must be done entirely on your own. You may **NOT** collaborate with classmates or anyone else.  \n",
    "3. You may **NOT** post to message boards or other online resources asking for help. \n",
    "5. You may **NOT** use late days on the practicum nor can you drop your practicum grade. \n",
    "1. You may use your course notes, posted lecture slides, in-class notebooks, and homework solutions as resources. \n",
    "2. You may consult alternate sources like blog posts or technical papers, but you may **NOT** copy code from these sources. \n",
    "3. Any additional non-course sources that you use should be clearly cited (with links) in the **References** section at the bottom of this notebook. \n",
    "7. Submit only this Jupyter notebook to Moodle.  Do not compress it using tar, rar, zip, etc. \n",
    "\n",
    "Violation of the above rules will result in an **F** in the course and a trip to **Honor Council** \n",
    "\n",
    "***\n",
    "\n",
    "**By writing your name below you agree to abide by the given rules:**\n",
    "\n",
    "**Name**: Brennon Lee\n",
    "\n",
    "**Kaggle Username**: BrennonLee34\n",
    "\n",
    "***\n",
    "\n",
    "\n",
    "**NOTES**: \n",
    "\n",
    "- You do not need to implement everything from scratch.  At this point you should be leveraging Sklearn as much as you can. \n",
    "- If you have a clarifying question, please post it as a **PRIVATE** message to me on Piazza. \n",
    "- Part of the goal of this assignment is to see if you can stand on your own.  Please do not ask me to help you debug code or check if your answers are correct. Most of the implementation details necessary to complete this practicum can be found in the Hands-On notebooks or the Sklearn documentation.  \n",
    "- You'll notice that the point totals below do not add up to 100.  This is because 10 out of the 100 points will be attributed to **style**.  To earn full credit for style your analysis should be concise and well-organized, your code should be readable and well-commented, and you should use plots and graphics to support your conclusions whenever appropriate.  "
   ]
  },
  {
   "cell_type": "code",
   "execution_count": 1,
   "metadata": {
    "ExecuteTime": {
     "end_time": "2018-04-19T11:17:37.900418Z",
     "start_time": "2018-04-19T11:17:37.897826Z"
    }
   },
   "outputs": [],
   "source": [
    "import pickle, gzip \n",
    "import numpy as np\n",
    "import pandas as pd\n",
    "import matplotlib.pylab as plt\n",
    "from sklearn.model_selection import train_test_split # To split data into TRAIN & VALID\n",
    "from sklearn.model_selection import cross_val_score \n",
    "from sklearn.preprocessing import normalize\n",
    "from sklearn.model_selection import GridSearchCV\n",
    "from sklearn.neural_network import MLPClassifier\n",
    "from sklearn.metrics import confusion_matrix"
   ]
  },
  {
   "cell_type": "markdown",
   "metadata": {},
   "source": [
    "### [35 points] Problem 1: Building Classifiers for Fashion MNIST \n",
    "***\n",
    "\n",
    "The classic MNIST Handwritten Digit data set has been a staple in the machine learning literature since the beginning of time (i.e. the late 90's).  However, machine learning practitioners have grown tired of the rusty digits and have recently begun to create and explore new, more interesting data sets. Some popular alternatives to emerge recently are [EMNIST](https://www.kaggle.com/crawford/emnist), [Sign Language MNIST](https://www.kaggle.com/datamunge/sign-language-mnist), and [Fashion MNIST](https://github.com/zalandoresearch/fashion-mnist). In this problem you will explore the latter. \n",
    "\n",
    "Fashion MNIST is comprised of $28 \\times 28$ pixel gray-scale images of clothing, with classes corresponding to things like tops, trousers, coats, dresses, and various types of shoes.  The data set that we'll work with corresponds to a small subset of Fashion MNIST with 1500 examples from each of five distinct classes (tops, trousers, coats, sneakers, and ankle boots). \n",
    "\n",
    "Execute the following cell to load the data. "
   ]
  },
  {
   "cell_type": "code",
   "execution_count": 3,
   "metadata": {
    "ExecuteTime": {
     "end_time": "2018-04-19T11:16:40.004587Z",
     "start_time": "2018-04-19T11:16:39.285472Z"
    }
   },
   "outputs": [],
   "source": [
    "f = gzip.open('data/fashion_mnist_subset.pklz', 'rb')\n",
    "X_all, y_all = pickle.load(f)\n",
    "X_train, X_valid, y_train, y_valid = train_test_split(X_all, y_all, test_size=0.33, random_state=42)\n",
    "f.close()"
   ]
  },
  {
   "cell_type": "markdown",
   "metadata": {},
   "source": [
    "In **Parts A-C** you will construct various tuned classifiers for making predictions on Fashion MNIST.  For each classifier you should: \n",
    "- Describe and motivate any transformations on the pixel data that you found helpful/necessary to make your model work well. \n",
    "- Describe and justify your process for determining optimal hyperparameters for each model. Support your decisions with validation studies and associated graphics.  Do **NOT** just report the hyperparameters that worked best.  \n",
    "- Describe how you evaluated your models during your process (i.e. did you use a validation set, did you do cross-validation, etc). \n",
    "- Report the final optimal hyperparameters that you used as well as the accuracy of your final model. "
   ]
  },
  {
   "cell_type": "markdown",
   "metadata": {},
   "source": [
    "<Center><h3>Analysis of Given Data Set</h3></Center>"
   ]
  },
  {
   "cell_type": "code",
   "execution_count": 4,
   "metadata": {},
   "outputs": [
    {
     "name": "stdout",
     "output_type": "stream",
     "text": [
      "Based on the given data set, we can see that there are 784 pixels in each image. \n",
      "Which can be divided into images of size 28.0 x 28.0\n",
      "Unigue labels on our true labels are the following set: {0, 1, 4, 7, 9}\n",
      "Where: \n",
      " 0 correlates to tops \n",
      " 1 correlates to trousers \n",
      " 4 correlates to shirts \n",
      " 7 correlates to sneakers \n",
      " 9 correlates to ankle boots\n",
      "\n",
      "Training set consists of 5025 examples\n",
      "In X_train, there are 984 examples of 0\n",
      "In X_train, there are 1012 examples of 1\n",
      "In X_train, there are 1019 examples of 4\n",
      "In X_train, there are 1001 examples of 7\n",
      "In X_train, there are 1009 examples of 9\n"
     ]
    }
   ],
   "source": [
    "pixel_size = X_all[0].shape[0]\n",
    "print('Based on the given data set, we can see that there are ' + str(pixel_size) + ' pixels in each image. \\nWhich can be divided into images of size ' + str(np.sqrt(pixel_size)) + ' x ' + str(np.sqrt(pixel_size)))\n",
    "print('Unigue labels on our true labels are the following set: ' + str(set(y_all)))\n",
    "print('Where: \\n 0 correlates to tops \\n 1 correlates to trousers \\n 4 correlates to shirts \\n 7 correlates to sneakers \\n 9 correlates to ankle boots\\n')\n",
    "print('Training set consists of ' + str(len(X_train)) + ' examples')\n",
    "for k in [0,1,4,7,9]:\n",
    "    print(\"In X_train, there are {:d} examples of {}\".format(len(X_train[y_train==k]), k))\n"
   ]
  },
  {
   "cell_type": "code",
   "execution_count": 5,
   "metadata": {},
   "outputs": [
    {
     "data": {
      "image/png": "[encoded data removed]",
      "text/plain": [
       "<matplotlib.figure.Figure at 0x11579cc18>"
      ]
     },
     "metadata": {},
     "output_type": "display_data"
    }
   ],
   "source": [
    "def view_item(x, label=None):\n",
    "    fig = plt.figure(figsize=(3,3))\n",
    "    plt.imshow(x.reshape(28,28), cmap='gray');\n",
    "    plt.xticks([]); plt.yticks([]);\n",
    "    if label: plt.xlabel(\"true: {}\".format(label), fontsize=16)\n",
    "                \n",
    "training_index = 5\n",
    "view_item(X_all[training_index], y_all[training_index])"
   ]
  },
  {
   "cell_type": "markdown",
   "metadata": {},
   "source": [
    "**Part A**: Construct a K-Nearest Neighbors classifier to make predictions on the data. "
   ]
  },
  {
   "cell_type": "markdown",
   "metadata": {},
   "source": [
    "<Center><h3>KNeighbors Classifier</h3></Center>"
   ]
  },
  {
   "cell_type": "markdown",
   "metadata": {},
   "source": [
    "For a KNN model, the two big parameters we need to tune is whether or not the distance should be weighted or unweighted and then the find the optimal amount of nearest neighbors that yield the highest accuracy. Below, shows an array of nearest neighbors from 1 to 14 where we create a KNN instance, train on our training data and then find the accuracy of this model against our validation set. Then we will graph both models (weighted and unweighted) with their associated accuracies against the number of neighbors we are analysing."
   ]
  },
  {
   "cell_type": "code",
   "execution_count": 10,
   "metadata": {},
   "outputs": [
    {
     "name": "stdout",
     "output_type": "stream",
     "text": [
      "on k value: 1\n",
      "on k value: 2\n",
      "on k value: 3\n",
      "on k value: 4\n",
      "on k value: 5\n",
      "on k value: 6\n",
      "on k value: 7\n",
      "on k value: 8\n",
      "on k value: 9\n",
      "on k value: 10\n",
      "on k value: 11\n",
      "on k value: 12\n",
      "on k value: 13\n",
      "on k value: 14\n"
     ]
    },
    {
     "data": {
      "image/png": "[encoded data removed]",
      "text/plain": [
       "<matplotlib.figure.Figure at 0x1089fc588>"
      ]
     },
     "metadata": {},
     "output_type": "display_data"
    }
   ],
   "source": [
    "from sklearn.neighbors import KNeighborsClassifier\n",
    "k_vals = range(1,15) # Array from 1 to 14 of the nearest neighbors\n",
    "\n",
    "knn_accuracies = []\n",
    "w_knn_accuracies = []\n",
    "for k in k_vals:\n",
    "    print('on k value: ' + str(k))\n",
    "    knn = KNeighborsClassifier(n_neighbors=k)\n",
    "    w_knn = KNeighborsClassifier(n_neighbors=k, weights=\"distance\")\n",
    "    \n",
    "    unweighted_scores = cross_val_score(knn, X_train, y_train, cv=5, scoring='accuracy')\n",
    "    weighted_scores = cross_val_score(w_knn, X_train, y_train, cv=5, scoring='accuracy')\n",
    "    \n",
    "    knn_accuracies.append(unweighted_scores.mean())\n",
    "    w_knn_accuracies.append(weighted_scores.mean())\n",
    "\n",
    "plt.plot(k_vals, knn_accuracies, label='unweighted')\n",
    "plt.plot(k_vals, w_knn_accuracies, label='weighted')\n",
    "plt.xlabel(\"Neighbors\")\n",
    "plt.ylabel(\"Accuracuy\")\n",
    "plt.title(\"Kth Nearest Neighbors vs. Accuracies\")\n",
    "plt.legend()\n",
    "plt.show()\n"
   ]
  },
  {
   "cell_type": "code",
   "execution_count": 26,
   "metadata": {},
   "outputs": [
    {
     "name": "stdout",
     "output_type": "stream",
     "text": [
      "The best accuracy of the unweighted KNN model is 96.56%\n"
     ]
    }
   ],
   "source": [
    "print(\"The best accuracy of the unweighted KNN model is \" + str(round(max(knn_accuracies) * 100, 2)) + '%')"
   ]
  },
  {
   "cell_type": "markdown",
   "metadata": {},
   "source": [
    "From the graph above, we can see that the optimal parameters that yield the highest accuracy on the data set is a Weighted KNN model looking at the 4 nearest neighbors."
   ]
  },
  {
   "cell_type": "code",
   "execution_count": 8,
   "metadata": {},
   "outputs": [
    {
     "name": "stdout",
     "output_type": "stream",
     "text": [
      "Here is the confusion matrix for our best fit weighted model which shows the that the most commonly confused item is sneakers with ankle boots.\n",
      "[[503   1  11   1   0]\n",
      " [ 12 472   4   0   0]\n",
      " [  7   0 472   2   0]\n",
      " [  0   0   0 468  31]\n",
      " [  0   0   0  21 470]]\n"
     ]
    }
   ],
   "source": [
    "\n",
    "best_knn = KNeighborsClassifier(4).fit(X_train, y_train)\n",
    "\n",
    "yHat_valid = best_knn.predict(X_valid)\n",
    "C = confusion_matrix(y_valid, yHat_valid)\n",
    "print('Here is the confusion matrix for our best fit unweighted model which shows the that the most commonly confused item is sneakers with ankle boots.')\n",
    "print(C)\n",
    "\n"
   ]
  },
  {
   "cell_type": "markdown",
   "metadata": {},
   "source": [
    "**Part B**: Construct a Linear Support Vector Machine classifier to make predictions on the data. "
   ]
  },
  {
   "cell_type": "markdown",
   "metadata": {},
   "source": [
    "<Center><h3>Linear Support Vector Machine Classifier</h3></Center>"
   ]
  },
  {
   "cell_type": "markdown",
   "metadata": {},
   "source": [
    "For a Linear Support Vector Machine classifier, there are two parameters to look at. The hyperparameter ($C$) that weights the slackness contribution to the primal objective function, and then the loss ($p$) which is the exponent on the slack variables in the sum. To do some parameter searching, we can use GridSearch to find the optimal parameters for this model. Below does just that but also loops over loss functions **Hinge** and **Squared Hinge** to see which performs better."
   ]
  },
  {
   "cell_type": "code",
   "execution_count": 5,
   "metadata": {},
   "outputs": [],
   "source": [
    "normalized_all = normalize(X_all)  # Normalize the data"
   ]
  },
  {
   "cell_type": "code",
   "execution_count": 29,
   "metadata": {},
   "outputs": [
    {
     "name": "stdout",
     "output_type": "stream",
     "text": [
      "\n",
      "best parameters with loss=hinge is : {'C': 10.0}\n",
      "best accuracy with loss=hinge is : 0.9694666666666667\n",
      "\n",
      "best parameters with loss=squared_hinge is : {'C': 10.0}\n",
      "best accuracy with loss=squared_hinge is : 0.9678666666666667\n"
     ]
    }
   ],
   "source": [
    "from sklearn.svm import LinearSVC\n",
    "\n",
    "c_range = np.logspace(-2,10,13)\n",
    "param_grid = dict(C=c_range)\n",
    "\n",
    "for loss_func in [\"hinge\", \"squared_hinge\"]:\n",
    "    svc = LinearSVC(loss=loss_func)\n",
    "    grid = GridSearchCV(svc, param_grid=param_grid, cv=5)\n",
    "    grid.fit(normalized_all, y_all)\n",
    "    \n",
    "    print(\"\\nbest parameters with loss=\" + loss_func + \" is : \" + str(grid.best_params_))\n",
    "    print(\"best accuracy with loss=\"+ loss_func + \" is : \"+ str(grid.best_score_))"
   ]
  },
  {
   "cell_type": "markdown",
   "metadata": {},
   "source": [
    "Notice from the output above that the loss function had little to no effect on the outcome of the best parameters and best accuracy respectively. But we did find that our most optimal value for the $C$ parameter is the value $10$ with our **best accuracy score** of ~$96.79$%."
   ]
  },
  {
   "cell_type": "markdown",
   "metadata": {},
   "source": [
    "**Part C**: Construct a Feed-Forward Neural Network classifier to make predictions on the data. We recommend using Sklearn's [MLPClassifier](http://scikit-learn.org/stable/modules/generated/sklearn.neural_network.MLPClassifier.html#sklearn.neural_network.MLPClassifier) rather than the code you wrote in Homework 4. In our experiments we found training an MLPClassifier to take no more than a minute for reasonable choices of architectures. "
   ]
  },
  {
   "cell_type": "markdown",
   "metadata": {},
   "source": [
    "<Center><h3>Feed-Forwared Neural Network Classifier</h3></Center>"
   ]
  },
  {
   "cell_type": "markdown",
   "metadata": {},
   "source": [
    "For Neural Network, the hyperparameters we are going to want to tune will be alpha (L2 penalty/ Regularization term), our hidden layer sizes $(i_{1}, i_{2},..., i_{n})$ where $i_{k}$ is the number of neurons and $n$ is number of hidden layers. Lastly, we can tune our activation function to see which performs the best."
   ]
  },
  {
   "cell_type": "code",
   "execution_count": 30,
   "metadata": {},
   "outputs": [
    {
     "name": "stdout",
     "output_type": "stream",
     "text": [
      "On alpha: 1e-07\n",
      "On alpha: 0.0034483724137931034\n",
      "On alpha: 0.006896644827586207\n",
      "On alpha: 0.010344917241379311\n",
      "On alpha: 0.013793189655172414\n",
      "On alpha: 0.017241462068965516\n",
      "On alpha: 0.020689734482758623\n",
      "On alpha: 0.024138006896551725\n",
      "On alpha: 0.027586279310344828\n",
      "On alpha: 0.03103455172413793\n",
      "On alpha: 0.03448282413793104\n",
      "On alpha: 0.03793109655172414\n",
      "On alpha: 0.04137936896551725\n",
      "On alpha: 0.04482764137931035\n",
      "On alpha: 0.048275913793103455\n",
      "On alpha: 0.051724186206896554\n",
      "On alpha: 0.05517245862068966\n",
      "On alpha: 0.058620731034482766\n",
      "On alpha: 0.062069003448275865\n",
      "On alpha: 0.06551727586206897\n",
      "On alpha: 0.06896554827586207\n",
      "On alpha: 0.07241382068965518\n",
      "On alpha: 0.07586209310344828\n",
      "On alpha: 0.07931036551724138\n",
      "On alpha: 0.0827586379310345\n",
      "On alpha: 0.0862069103448276\n",
      "On alpha: 0.0896551827586207\n",
      "On alpha: 0.0931034551724138\n",
      "On alpha: 0.0965517275862069\n",
      "On alpha: 0.1\n"
     ]
    },
    {
     "data": {
      "image/png": "[encoded data removed]",
      "text/plain": [
       "<matplotlib.figure.Figure at 0x119b96908>"
      ]
     },
     "metadata": {},
     "output_type": "display_data"
    },
    {
     "name": "stdout",
     "output_type": "stream",
     "text": [
      "Best alpha was 0.006896644827586207 with accuracy 0.9709090909090909\n"
     ]
    }
   ],
   "source": [
    "from sklearn.neural_network import MLPClassifier\n",
    "\n",
    "alphas = np.linspace(1e-7, .1, 30)\n",
    "alphas_acc = []\n",
    "\n",
    "normed_train = normalize(X_train)\n",
    "normed_valid = normalize(X_valid)\n",
    "\n",
    "best_alpha = 0\n",
    "best_alpha_acc = 0\n",
    "\n",
    "for aa in alphas:\n",
    "    print('On alpha:', aa)\n",
    "    mlp = MLPClassifier(alpha=aa, random_state=0)\n",
    "    mlp.fit(normed_train, y_train)\n",
    "    score = mlp.score(normed_valid, y_valid)\n",
    "    alphas_acc.append(score)\n",
    "    if score > best_alpha_acc:\n",
    "        best_alpha_acc = score\n",
    "        best_alpha = aa\n",
    "    \n",
    "plt.plot(alphas, alphas_acc)\n",
    "plt.xlabel(\"Regularization Term\")\n",
    "plt.ylabel(\"Accuracy\")\n",
    "plt.title(\"Regularization Term vs. Accuracy\")\n",
    "plt.show()\n",
    "print('Best alpha was ' + str(best_alpha) + ' with accuracy ' + str(best_alpha_acc))"
   ]
  },
  {
   "cell_type": "markdown",
   "metadata": {},
   "source": [
    "Taking our best alpha value of $0.0069$ from above, we can now try to tune for the best combination of architectures "
   ]
  },
  {
   "cell_type": "code",
   "execution_count": 15,
   "metadata": {},
   "outputs": [
    {
     "name": "stdout",
     "output_type": "stream",
     "text": [
      "On architecture (10, 30, 20)\n",
      "On architecture (10, 800, 10)\n",
      "On architecture (100,)\n",
      "On architecture (200, 10, 10, 10, 300)\n",
      "On architecture (100, 300, 300, 200)\n",
      "On architecture (700,)\n"
     ]
    },
    {
     "data": {
      "image/png": "[encoded data removed]",
      "text/plain": [
       "<matplotlib.figure.Figure at 0x116075278>"
      ]
     },
     "metadata": {},
     "output_type": "display_data"
    },
    {
     "name": "stdout",
     "output_type": "stream",
     "text": [
      "Best Accuracy was 0.9709090909090909\n",
      "Best Architecture was (100,)\n"
     ]
    }
   ],
   "source": [
    "architectures = [(10,30,20), (10, 800, 10), (100,), (200, 10, 10, 10, 300), (100, 300, 300, 200), (700,)]\n",
    "\n",
    "arch_acc = []\n",
    "best_arch = []\n",
    "best_arch_acc = 0\n",
    "\n",
    "for arch in architectures:\n",
    "    print('On architecture ' + str(arch))\n",
    "    mlp = MLPClassifier(hidden_layer_sizes=arch, alpha=best_alpha, random_state=0)\n",
    "    mlp.fit(normed_train, y_train)\n",
    "    acc = mlp.score(normed_valid, y_valid)\n",
    "    arch_acc.append(acc)\n",
    "    if acc >= best_arch_acc:\n",
    "        best_arch_acc = acc\n",
    "        best_arch.append(arch)\n",
    "        \n",
    "\n",
    "index = np.arange(len(architectures))\n",
    "plt.bar(index, arch_acc)\n",
    "plt.xlabel('Architecture Index')\n",
    "plt.ylabel('Accuracy %')\n",
    "plt.title('Accuracies for different Architectures')\n",
    "plt.show()\n",
    "    \n",
    "print('Best Accuracy was ' + str(best_arch_acc))\n",
    "print('Best Architecture was ' + str(best_arch[-1]))"
   ]
  },
  {
   "cell_type": "markdown",
   "metadata": {},
   "source": [
    "Now that we have a good idea for the ranges that our best hyperparameters (alpha and hidden layers) live in, we can define a more specific set of ranges to iterate over and use GridSearchCV to find the most optimal parameters possible while also looking at the different activation functions."
   ]
  },
  {
   "cell_type": "code",
   "execution_count": 7,
   "metadata": {},
   "outputs": [
    {
     "name": "stdout",
     "output_type": "stream",
     "text": [
      "Fitting 3 folds for each of 36 candidates, totalling 108 fits\n",
      "[CV] activation=logistic, alpha=0.0055, hidden_layer_sizes=(50,) .....\n",
      "[CV] activation=logistic, alpha=0.0055, hidden_layer_sizes=(50,) .....\n",
      "[CV] activation=logistic, alpha=0.0055, hidden_layer_sizes=(50,) .....\n",
      "[CV] activation=logistic, alpha=0.0055, hidden_layer_sizes=(100,) ....\n",
      "[CV] activation=logistic, alpha=0.0055, hidden_layer_sizes=(100,) ....\n",
      "[CV] activation=logistic, alpha=0.0055, hidden_layer_sizes=(100,) ....\n",
      "[CV] activation=logistic, alpha=0.0055, hidden_layer_sizes=(150,) ....\n",
      "[CV] activation=logistic, alpha=0.0055, hidden_layer_sizes=(150,) ....\n",
      "[CV]  activation=logistic, alpha=0.0055, hidden_layer_sizes=(50,), score=0.9612, total=  39.4s\n",
      "[CV] activation=logistic, alpha=0.0055, hidden_layer_sizes=(150,) ....\n",
      "[CV]  activation=logistic, alpha=0.0055, hidden_layer_sizes=(50,), score=0.9704, total=  39.7s\n",
      "[Parallel(n_jobs=-1)]: Done   1 tasks      | elapsed:   39.9s\n",
      "[Parallel(n_jobs=-1)]: Done   2 tasks      | elapsed:   40.1s\n",
      "[CV] activation=logistic, alpha=0.006166666666666667, hidden_layer_sizes=(50,) \n",
      "[CV]  activation=logistic, alpha=0.0055, hidden_layer_sizes=(50,), score=0.9716, total=  40.6s\n",
      "[CV] activation=logistic, alpha=0.006166666666666667, hidden_layer_sizes=(50,) \n",
      "[Parallel(n_jobs=-1)]: Done   3 tasks      | elapsed:   40.9s\n",
      "[CV]  activation=logistic, alpha=0.0055, hidden_layer_sizes=(100,), score=0.966, total=  45.8s\n",
      "[CV] activation=logistic, alpha=0.006166666666666667, hidden_layer_sizes=(50,) \n",
      "[Parallel(n_jobs=-1)]: Done   4 tasks      | elapsed:   46.4s\n",
      "[CV]  activation=logistic, alpha=0.0055, hidden_layer_sizes=(150,), score=0.9684, total=  50.6s\n",
      "[CV] activation=logistic, alpha=0.006166666666666667, hidden_layer_sizes=(100,) \n",
      "[Parallel(n_jobs=-1)]: Done   5 tasks      | elapsed:   51.7s\n",
      "[CV]  activation=logistic, alpha=0.0055, hidden_layer_sizes=(100,), score=0.9604, total=  52.6s\n",
      "[CV] activation=logistic, alpha=0.006166666666666667, hidden_layer_sizes=(100,) \n",
      "[Parallel(n_jobs=-1)]: Done   6 tasks      | elapsed:   53.4s\n",
      "[CV]  activation=logistic, alpha=0.0055, hidden_layer_sizes=(150,), score=0.97, total=  57.0s\n",
      "[CV] activation=logistic, alpha=0.006166666666666667, hidden_layer_sizes=(100,) \n",
      "[Parallel(n_jobs=-1)]: Done   7 tasks      | elapsed:   57.9s\n",
      "[CV]  activation=logistic, alpha=0.0055, hidden_layer_sizes=(100,), score=0.9684, total=  57.8s\n",
      "[CV] activation=logistic, alpha=0.006166666666666667, hidden_layer_sizes=(150,) \n",
      "[Parallel(n_jobs=-1)]: Done   8 tasks      | elapsed:   58.5s\n",
      "[CV]  activation=logistic, alpha=0.006166666666666667, hidden_layer_sizes=(50,), score=0.9708, total=  40.3s\n",
      "[CV] activation=logistic, alpha=0.006166666666666667, hidden_layer_sizes=(150,) \n",
      "[Parallel(n_jobs=-1)]: Done   9 tasks      | elapsed:  1.4min\n",
      "[CV]  activation=logistic, alpha=0.006166666666666667, hidden_layer_sizes=(50,), score=0.9716, total=  42.6s\n",
      "[CV] activation=logistic, alpha=0.006166666666666667, hidden_layer_sizes=(150,) \n",
      "[Parallel(n_jobs=-1)]: Done  10 tasks      | elapsed:  1.4min\n",
      "[CV]  activation=logistic, alpha=0.006166666666666667, hidden_layer_sizes=(50,), score=0.9608, total=  40.4s\n",
      "[CV] activation=logistic, alpha=0.006833333333333333, hidden_layer_sizes=(50,) \n",
      "[Parallel(n_jobs=-1)]: Done  11 tasks      | elapsed:  1.5min\n",
      "[CV]  activation=logistic, alpha=0.006166666666666667, hidden_layer_sizes=(100,), score=0.9664, total=  46.2s\n",
      "[CV] activation=logistic, alpha=0.006833333333333333, hidden_layer_sizes=(50,) \n",
      "[Parallel(n_jobs=-1)]: Done  12 tasks      | elapsed:  1.6min\n",
      "[CV]  activation=logistic, alpha=0.006166666666666667, hidden_layer_sizes=(100,), score=0.96, total=  55.8s\n",
      "[CV]  activation=logistic, alpha=0.006166666666666667, hidden_layer_sizes=(100,), score=0.9684, total= 1.0min\n",
      "[CV] activation=logistic, alpha=0.006833333333333333, hidden_layer_sizes=(50,) \n",
      "[CV] activation=logistic, alpha=0.006833333333333333, hidden_layer_sizes=(100,) \n",
      "[Parallel(n_jobs=-1)]: Done  13 tasks      | elapsed:  1.9min\n",
      "[Parallel(n_jobs=-1)]: Done  14 tasks      | elapsed:  1.9min\n",
      "[CV]  activation=logistic, alpha=0.0055, hidden_layer_sizes=(150,), score=0.9628, total= 1.2min\n",
      "[CV] activation=logistic, alpha=0.006833333333333333, hidden_layer_sizes=(100,) \n",
      "[Parallel(n_jobs=-1)]: Done  15 tasks      | elapsed:  1.9min\n",
      "[CV]  activation=logistic, alpha=0.006166666666666667, hidden_layer_sizes=(150,), score=0.9696, total= 1.0min\n",
      "[CV] activation=logistic, alpha=0.006833333333333333, hidden_layer_sizes=(100,) \n",
      "[Parallel(n_jobs=-1)]: Done  16 tasks      | elapsed:  2.0min\n",
      "[CV]  activation=logistic, alpha=0.006833333333333333, hidden_layer_sizes=(50,), score=0.9716, total=  44.8s\n",
      "[CV] activation=logistic, alpha=0.006833333333333333, hidden_layer_sizes=(150,) \n",
      "[Parallel(n_jobs=-1)]: Done  17 tasks      | elapsed:  2.2min\n",
      "[CV]  activation=logistic, alpha=0.006166666666666667, hidden_layer_sizes=(150,), score=0.968, total=  54.1s\n",
      "[CV] activation=logistic, alpha=0.006833333333333333, hidden_layer_sizes=(150,) \n",
      "[Parallel(n_jobs=-1)]: Done  18 tasks      | elapsed:  2.3min\n",
      "[CV]  activation=logistic, alpha=0.006833333333333333, hidden_layer_sizes=(50,), score=0.9708, total=  43.5s\n",
      "[CV] activation=logistic, alpha=0.006833333333333333, hidden_layer_sizes=(150,) \n",
      "[Parallel(n_jobs=-1)]: Done  19 tasks      | elapsed:  2.4min\n",
      "[CV]  activation=logistic, alpha=0.006833333333333333, hidden_layer_sizes=(50,), score=0.9604, total=  42.8s\n",
      "[CV] activation=logistic, alpha=0.0075, hidden_layer_sizes=(50,) .....\n",
      "[Parallel(n_jobs=-1)]: Done  20 tasks      | elapsed:  2.6min\n",
      "[CV]  activation=logistic, alpha=0.006166666666666667, hidden_layer_sizes=(150,), score=0.9624, total= 1.3min\n",
      "[CV] activation=logistic, alpha=0.0075, hidden_layer_sizes=(50,) .....\n",
      "[Parallel(n_jobs=-1)]: Done  21 tasks      | elapsed:  2.7min\n",
      "[CV]  activation=logistic, alpha=0.006833333333333333, hidden_layer_sizes=(100,), score=0.966, total=  49.5s\n",
      "[CV] activation=logistic, alpha=0.0075, hidden_layer_sizes=(50,) .....\n",
      "[Parallel(n_jobs=-1)]: Done  22 tasks      | elapsed:  2.7min\n",
      "[CV]  activation=logistic, alpha=0.006833333333333333, hidden_layer_sizes=(100,), score=0.9592, total=  55.7s\n",
      "[CV] activation=logistic, alpha=0.0075, hidden_layer_sizes=(100,) ....\n",
      "[Parallel(n_jobs=-1)]: Done  23 tasks      | elapsed:  2.9min\n",
      "[CV]  activation=logistic, alpha=0.006833333333333333, hidden_layer_sizes=(100,), score=0.9684, total= 1.0min\n",
      "[CV] activation=logistic, alpha=0.0075, hidden_layer_sizes=(100,) ....\n",
      "[Parallel(n_jobs=-1)]: Done  24 tasks      | elapsed:  2.9min\n",
      "[CV]  activation=logistic, alpha=0.006833333333333333, hidden_layer_sizes=(150,), score=0.9672, total=  53.2s\n",
      "[CV] activation=logistic, alpha=0.0075, hidden_layer_sizes=(100,) ....\n",
      "[Parallel(n_jobs=-1)]: Done  25 tasks      | elapsed:  3.2min\n",
      "[CV]  activation=logistic, alpha=0.006833333333333333, hidden_layer_sizes=(150,), score=0.9692, total= 1.0min\n",
      "[CV] activation=logistic, alpha=0.0075, hidden_layer_sizes=(150,) ....\n",
      "[Parallel(n_jobs=-1)]: Done  26 tasks      | elapsed:  3.2min\n",
      "[CV]  activation=logistic, alpha=0.0075, hidden_layer_sizes=(50,), score=0.9716, total=  42.6s\n",
      "[CV] activation=logistic, alpha=0.0075, hidden_layer_sizes=(150,) ....\n",
      "[Parallel(n_jobs=-1)]: Done  27 tasks      | elapsed:  3.3min\n",
      "[CV]  activation=logistic, alpha=0.0075, hidden_layer_sizes=(50,), score=0.97, total=  40.5s\n",
      "[CV] activation=logistic, alpha=0.0075, hidden_layer_sizes=(150,) ....\n",
      "[Parallel(n_jobs=-1)]: Done  28 tasks      | elapsed:  3.4min\n",
      "[CV]  activation=logistic, alpha=0.0075, hidden_layer_sizes=(50,), score=0.96, total=  40.7s\n",
      "[CV] activation=relu, alpha=0.0055, hidden_layer_sizes=(50,) .........\n",
      "[Parallel(n_jobs=-1)]: Done  29 tasks      | elapsed:  3.4min\n",
      "[CV]  activation=logistic, alpha=0.006833333333333333, hidden_layer_sizes=(150,), score=0.9624, total= 1.3min\n",
      "[CV] activation=relu, alpha=0.0055, hidden_layer_sizes=(50,) .........\n",
      "[Parallel(n_jobs=-1)]: Done  30 tasks      | elapsed:  3.6min\n",
      "[CV]  activation=logistic, alpha=0.0075, hidden_layer_sizes=(100,), score=0.9656, total=  46.5s\n",
      "[CV] activation=relu, alpha=0.0055, hidden_layer_sizes=(50,) .........\n",
      "[Parallel(n_jobs=-1)]: Done  31 tasks      | elapsed:  3.7min\n",
      "[CV]  activation=relu, alpha=0.0055, hidden_layer_sizes=(50,), score=0.9768, total=  28.5s\n"
     ]
    },
    {
     "name": "stdout",
     "output_type": "stream",
     "text": [
      "[CV] activation=relu, alpha=0.0055, hidden_layer_sizes=(100,) ........\n",
      "[Parallel(n_jobs=-1)]: Done  32 tasks      | elapsed:  3.9min\n",
      "[CV]  activation=logistic, alpha=0.0075, hidden_layer_sizes=(100,), score=0.9688, total=  58.0s\n",
      "[CV] activation=relu, alpha=0.0055, hidden_layer_sizes=(100,) ........\n",
      "[Parallel(n_jobs=-1)]: Done  33 tasks      | elapsed:  3.9min\n",
      "[CV]  activation=logistic, alpha=0.0075, hidden_layer_sizes=(100,), score=0.9592, total=  53.8s\n",
      "[CV] activation=relu, alpha=0.0055, hidden_layer_sizes=(100,) ........\n",
      "[Parallel(n_jobs=-1)]: Done  34 tasks      | elapsed:  4.1min\n",
      "[CV]  activation=relu, alpha=0.0055, hidden_layer_sizes=(50,), score=0.9648, total=  23.4s\n",
      "[CV] activation=relu, alpha=0.0055, hidden_layer_sizes=(150,) ........\n",
      "[Parallel(n_jobs=-1)]: Done  35 tasks      | elapsed:  4.1min\n",
      "[CV]  activation=relu, alpha=0.0055, hidden_layer_sizes=(50,), score=0.972, total=  29.9s\n",
      "[CV] activation=relu, alpha=0.0055, hidden_layer_sizes=(150,) ........\n",
      "[Parallel(n_jobs=-1)]: Done  36 tasks      | elapsed:  4.1min\n",
      "[CV]  activation=logistic, alpha=0.0075, hidden_layer_sizes=(150,), score=0.9684, total=  58.6s\n",
      "[CV] activation=relu, alpha=0.0055, hidden_layer_sizes=(150,) ........\n",
      "[Parallel(n_jobs=-1)]: Done  37 tasks      | elapsed:  4.2min\n",
      "[CV]  activation=logistic, alpha=0.0075, hidden_layer_sizes=(150,), score=0.9676, total=  51.6s\n",
      "[CV] activation=relu, alpha=0.006166666666666667, hidden_layer_sizes=(50,) \n",
      "[Parallel(n_jobs=-1)]: Done  38 tasks      | elapsed:  4.2min\n",
      "[CV]  activation=relu, alpha=0.0055, hidden_layer_sizes=(100,), score=0.9704, total=  36.1s\n",
      "[CV] activation=relu, alpha=0.006166666666666667, hidden_layer_sizes=(50,) \n",
      "[Parallel(n_jobs=-1)]: Done  39 tasks      | elapsed:  4.5min\n",
      "[CV]  activation=relu, alpha=0.0055, hidden_layer_sizes=(100,), score=0.9784, total=  38.9s\n",
      "[CV] activation=relu, alpha=0.006166666666666667, hidden_layer_sizes=(50,) \n",
      "[Parallel(n_jobs=-1)]: Done  40 tasks      | elapsed:  4.5min\n",
      "[CV]  activation=logistic, alpha=0.0075, hidden_layer_sizes=(150,), score=0.962, total= 1.3min\n",
      "[CV] activation=relu, alpha=0.006166666666666667, hidden_layer_sizes=(100,) \n",
      "[Parallel(n_jobs=-1)]: Done  41 tasks      | elapsed:  4.7min\n",
      "[CV]  activation=relu, alpha=0.006166666666666667, hidden_layer_sizes=(50,), score=0.9772, total=  34.9s\n",
      "[CV] activation=relu, alpha=0.006166666666666667, hidden_layer_sizes=(100,) \n",
      "[Parallel(n_jobs=-1)]: Done  42 tasks      | elapsed:  4.8min\n",
      "[CV]  activation=relu, alpha=0.0055, hidden_layer_sizes=(150,), score=0.9612, total=  38.3s\n",
      "[CV] activation=relu, alpha=0.006166666666666667, hidden_layer_sizes=(100,) \n",
      "[Parallel(n_jobs=-1)]: Done  43 tasks      | elapsed:  4.8min\n",
      "[CV]  activation=relu, alpha=0.0055, hidden_layer_sizes=(100,), score=0.9636, total=  48.9s\n",
      "[CV]  activation=relu, alpha=0.0055, hidden_layer_sizes=(150,), score=0.9696, total=  44.7s\n",
      "[CV] activation=relu, alpha=0.006166666666666667, hidden_layer_sizes=(150,) \n",
      "[CV] activation=relu, alpha=0.006166666666666667, hidden_layer_sizes=(150,) \n",
      "[Parallel(n_jobs=-1)]: Done  44 tasks      | elapsed:  4.9min\n",
      "[Parallel(n_jobs=-1)]: Done  45 tasks      | elapsed:  4.9min\n",
      "[CV]  activation=relu, alpha=0.0055, hidden_layer_sizes=(150,), score=0.9708, total=  49.7s\n",
      "[CV] activation=relu, alpha=0.006166666666666667, hidden_layer_sizes=(150,) \n",
      "[Parallel(n_jobs=-1)]: Done  46 tasks      | elapsed:  4.9min\n",
      "[CV]  activation=relu, alpha=0.006166666666666667, hidden_layer_sizes=(50,), score=0.9648, total=  25.1s\n",
      "[CV] activation=relu, alpha=0.006833333333333333, hidden_layer_sizes=(50,) \n",
      "[Parallel(n_jobs=-1)]: Done  47 tasks      | elapsed:  5.0min\n",
      "[CV]  activation=relu, alpha=0.006166666666666667, hidden_layer_sizes=(50,), score=0.972, total=  32.0s\n",
      "[CV] activation=relu, alpha=0.006833333333333333, hidden_layer_sizes=(50,) \n",
      "[Parallel(n_jobs=-1)]: Done  48 tasks      | elapsed:  5.0min\n",
      "[CV]  activation=relu, alpha=0.006166666666666667, hidden_layer_sizes=(100,), score=0.9772, total=  25.6s\n",
      "[CV] activation=relu, alpha=0.006833333333333333, hidden_layer_sizes=(50,) \n",
      "[Parallel(n_jobs=-1)]: Done  49 tasks      | elapsed:  5.1min\n",
      "[CV]  activation=relu, alpha=0.006166666666666667, hidden_layer_sizes=(100,), score=0.97, total=  31.4s\n",
      "[CV] activation=relu, alpha=0.006833333333333333, hidden_layer_sizes=(100,) \n",
      "[Parallel(n_jobs=-1)]: Done  50 tasks      | elapsed:  5.3min\n",
      "[CV]  activation=relu, alpha=0.006833333333333333, hidden_layer_sizes=(50,), score=0.9776, total=  28.4s\n",
      "[CV] activation=relu, alpha=0.006833333333333333, hidden_layer_sizes=(100,) \n",
      "[Parallel(n_jobs=-1)]: Done  51 tasks      | elapsed:  5.4min\n",
      "[CV]  activation=relu, alpha=0.006166666666666667, hidden_layer_sizes=(150,), score=0.9612, total=  31.5s\n",
      "[CV] activation=relu, alpha=0.006833333333333333, hidden_layer_sizes=(100,) \n",
      "[Parallel(n_jobs=-1)]: Done  52 tasks      | elapsed:  5.4min\n",
      "[CV]  activation=relu, alpha=0.006166666666666667, hidden_layer_sizes=(150,), score=0.9692, total=  37.4s\n",
      "[CV] activation=relu, alpha=0.006833333333333333, hidden_layer_sizes=(150,) \n",
      "[Parallel(n_jobs=-1)]: Done  53 tasks      | elapsed:  5.5min\n",
      "[CV]  activation=relu, alpha=0.006166666666666667, hidden_layer_sizes=(100,), score=0.964, total=  40.8s\n",
      "[CV] activation=relu, alpha=0.006833333333333333, hidden_layer_sizes=(150,) \n",
      "[CV]  activation=relu, alpha=0.006833333333333333, hidden_layer_sizes=(50,), score=0.9644, total=  21.8s\n",
      "[CV]  activation=relu, alpha=0.006833333333333333, hidden_layer_sizes=(50,), score=0.9716, total=  28.7s\n",
      "[CV] activation=relu, alpha=0.006833333333333333, hidden_layer_sizes=(150,) \n",
      "[Parallel(n_jobs=-1)]: Done  54 tasks      | elapsed:  5.5min\n",
      "[Parallel(n_jobs=-1)]: Done  55 tasks      | elapsed:  5.5min\n",
      "[Parallel(n_jobs=-1)]: Done  56 tasks      | elapsed:  5.5min\n",
      "[CV] activation=relu, alpha=0.0075, hidden_layer_sizes=(50,) .........\n",
      "[CV]  activation=relu, alpha=0.006166666666666667, hidden_layer_sizes=(150,), score=0.9708, total=  42.2s\n",
      "[CV] activation=relu, alpha=0.0075, hidden_layer_sizes=(50,) .........\n",
      "[Parallel(n_jobs=-1)]: Done  57 tasks      | elapsed:  5.6min\n",
      "[CV]  activation=relu, alpha=0.006833333333333333, hidden_layer_sizes=(100,), score=0.9768, total=  24.2s\n",
      "[CV] activation=relu, alpha=0.0075, hidden_layer_sizes=(50,) .........\n",
      "[Parallel(n_jobs=-1)]: Done  58 tasks      | elapsed:  5.7min\n",
      "[CV]  activation=relu, alpha=0.006833333333333333, hidden_layer_sizes=(100,), score=0.9692, total=  31.0s\n",
      "[CV] activation=relu, alpha=0.0075, hidden_layer_sizes=(100,) ........\n",
      "[Parallel(n_jobs=-1)]: Done  59 tasks      | elapsed:  6.0min\n",
      "[CV]  activation=relu, alpha=0.006833333333333333, hidden_layer_sizes=(100,), score=0.962, total=  30.3s\n",
      "[CV] activation=relu, alpha=0.0075, hidden_layer_sizes=(100,) ........\n",
      "[Parallel(n_jobs=-1)]: Done  60 tasks      | elapsed:  6.0min\n",
      "[CV]  activation=relu, alpha=0.0075, hidden_layer_sizes=(50,), score=0.9772, total=  28.7s\n",
      "[CV] activation=relu, alpha=0.0075, hidden_layer_sizes=(100,) ........\n",
      "[Parallel(n_jobs=-1)]: Done  61 tasks      | elapsed:  6.0min\n",
      "[CV]  activation=relu, alpha=0.006833333333333333, hidden_layer_sizes=(150,), score=0.9612, total=  31.7s\n",
      "[CV] activation=relu, alpha=0.0075, hidden_layer_sizes=(150,) ........\n",
      "[Parallel(n_jobs=-1)]: Done  62 tasks      | elapsed:  6.0min\n",
      "[CV]  activation=relu, alpha=0.0075, hidden_layer_sizes=(50,), score=0.9716, total=  30.6s\n",
      "[CV] activation=relu, alpha=0.0075, hidden_layer_sizes=(150,) ........\n",
      "[Parallel(n_jobs=-1)]: Done  63 tasks      | elapsed:  6.1min\n",
      "[CV]  activation=relu, alpha=0.0075, hidden_layer_sizes=(50,), score=0.9648, total=  23.5s\n",
      "[CV] activation=relu, alpha=0.0075, hidden_layer_sizes=(150,) ........\n",
      "[Parallel(n_jobs=-1)]: Done  64 tasks      | elapsed:  6.1min\n",
      "[CV]  activation=relu, alpha=0.006833333333333333, hidden_layer_sizes=(150,), score=0.9692, total=  38.3s\n",
      "[CV] activation=tanh, alpha=0.0055, hidden_layer_sizes=(50,) .........\n",
      "[Parallel(n_jobs=-1)]: Done  65 tasks      | elapsed:  6.2min\n",
      "[CV]  activation=relu, alpha=0.006833333333333333, hidden_layer_sizes=(150,), score=0.9708, total=  43.6s\n",
      "[CV] activation=tanh, alpha=0.0055, hidden_layer_sizes=(50,) .........\n",
      "[Parallel(n_jobs=-1)]: Done  66 tasks      | elapsed:  6.2min\n",
      "[CV]  activation=relu, alpha=0.0075, hidden_layer_sizes=(100,), score=0.9768, total=  26.6s\n"
     ]
    },
    {
     "name": "stdout",
     "output_type": "stream",
     "text": [
      "[CV] activation=tanh, alpha=0.0055, hidden_layer_sizes=(50,) .........\n",
      "[Parallel(n_jobs=-1)]: Done  67 tasks      | elapsed:  6.4min\n",
      "[CV]  activation=relu, alpha=0.0075, hidden_layer_sizes=(100,), score=0.9704, total=  32.6s\n",
      "[CV] activation=tanh, alpha=0.0055, hidden_layer_sizes=(100,) ........\n",
      "[Parallel(n_jobs=-1)]: Done  68 tasks      | elapsed:  6.5min\n",
      "[CV]  activation=tanh, alpha=0.0055, hidden_layer_sizes=(50,), score=0.9676, total=  24.2s\n",
      "[CV] activation=tanh, alpha=0.0055, hidden_layer_sizes=(100,) ........\n",
      "[Parallel(n_jobs=-1)]: Done  69 tasks      | elapsed:  6.6min\n",
      "[CV]  activation=relu, alpha=0.0075, hidden_layer_sizes=(150,), score=0.9612, total=  32.0s\n",
      "[CV] activation=tanh, alpha=0.0055, hidden_layer_sizes=(100,) ........\n",
      "[Parallel(n_jobs=-1)]: Done  70 tasks      | elapsed:  6.6min\n",
      "[CV]  activation=tanh, alpha=0.0055, hidden_layer_sizes=(50,), score=0.9752, total=  29.8s\n",
      "[CV] activation=tanh, alpha=0.0055, hidden_layer_sizes=(150,) ........\n",
      "[Parallel(n_jobs=-1)]: Done  71 tasks      | elapsed:  6.7min\n",
      "[CV]  activation=relu, alpha=0.0075, hidden_layer_sizes=(100,), score=0.9644, total=  42.8s\n",
      "[CV] activation=tanh, alpha=0.0055, hidden_layer_sizes=(150,) ........\n",
      "[Parallel(n_jobs=-1)]: Done  72 tasks      | elapsed:  6.7min\n",
      "[CV]  activation=relu, alpha=0.0075, hidden_layer_sizes=(150,), score=0.9688, total=  38.3s\n",
      "[CV] activation=tanh, alpha=0.0055, hidden_layer_sizes=(150,) ........\n",
      "[Parallel(n_jobs=-1)]: Done  73 tasks      | elapsed:  6.7min\n",
      "[CV]  activation=relu, alpha=0.0075, hidden_layer_sizes=(150,), score=0.9704, total=  43.0s\n",
      "[CV] activation=tanh, alpha=0.006166666666666667, hidden_layer_sizes=(50,) \n",
      "[Parallel(n_jobs=-1)]: Done  74 tasks      | elapsed:  6.8min\n",
      "[CV]  activation=tanh, alpha=0.0055, hidden_layer_sizes=(50,), score=0.9632, total=  28.5s\n",
      "[CV] activation=tanh, alpha=0.006166666666666667, hidden_layer_sizes=(50,) \n",
      "[Parallel(n_jobs=-1)]: Done  75 tasks      | elapsed:  6.9min\n",
      "[CV]  activation=tanh, alpha=0.0055, hidden_layer_sizes=(100,), score=0.9632, total=  29.9s\n",
      "[CV] activation=tanh, alpha=0.006166666666666667, hidden_layer_sizes=(50,) \n",
      "[Parallel(n_jobs=-1)]: Done  76 tasks      | elapsed:  7.1min\n",
      "[CV]  activation=tanh, alpha=0.0055, hidden_layer_sizes=(100,), score=0.9732, total=  41.6s\n",
      "[CV] activation=tanh, alpha=0.006166666666666667, hidden_layer_sizes=(100,) \n",
      "[Parallel(n_jobs=-1)]: Done  77 tasks      | elapsed:  7.2min\n",
      "[CV]  activation=tanh, alpha=0.0055, hidden_layer_sizes=(100,), score=0.9696, total=  34.6s\n",
      "[CV] activation=tanh, alpha=0.006166666666666667, hidden_layer_sizes=(100,) \n",
      "[Parallel(n_jobs=-1)]: Done  78 tasks      | elapsed:  7.2min\n",
      "[CV]  activation=tanh, alpha=0.006166666666666667, hidden_layer_sizes=(50,), score=0.976, total=  32.9s\n",
      "[CV] activation=tanh, alpha=0.006166666666666667, hidden_layer_sizes=(100,) \n",
      "[Parallel(n_jobs=-1)]: Done  79 tasks      | elapsed:  7.3min\n",
      "[CV]  activation=tanh, alpha=0.006166666666666667, hidden_layer_sizes=(50,), score=0.9676, total=  28.0s\n",
      "[CV] activation=tanh, alpha=0.006166666666666667, hidden_layer_sizes=(150,) \n",
      "[Parallel(n_jobs=-1)]: Done  80 tasks      | elapsed:  7.3min\n",
      "[CV]  activation=tanh, alpha=0.0055, hidden_layer_sizes=(150,), score=0.9632, total=  36.9s\n",
      "[CV] activation=tanh, alpha=0.006166666666666667, hidden_layer_sizes=(150,) \n",
      "[Parallel(n_jobs=-1)]: Done  81 tasks      | elapsed:  7.3min\n",
      "[CV]  activation=tanh, alpha=0.0055, hidden_layer_sizes=(150,), score=0.9676, total=  48.1s\n",
      "[CV] activation=tanh, alpha=0.006166666666666667, hidden_layer_sizes=(150,) \n",
      "[Parallel(n_jobs=-1)]: Done  82 tasks      | elapsed:  7.5min\n",
      "[CV]  activation=tanh, alpha=0.0055, hidden_layer_sizes=(150,), score=0.9708, total=  50.5s\n",
      "[CV] activation=tanh, alpha=0.006833333333333333, hidden_layer_sizes=(50,) \n",
      "[Parallel(n_jobs=-1)]: Done  83 tasks      | elapsed:  7.6min\n",
      "[CV]  activation=tanh, alpha=0.006166666666666667, hidden_layer_sizes=(50,), score=0.9636, total=  30.8s\n",
      "[CV] activation=tanh, alpha=0.006833333333333333, hidden_layer_sizes=(50,) \n",
      "[Parallel(n_jobs=-1)]: Done  84 tasks      | elapsed:  7.7min\n",
      "[CV]  activation=tanh, alpha=0.006166666666666667, hidden_layer_sizes=(100,), score=0.9696, total=  33.8s\n",
      "[CV] activation=tanh, alpha=0.006833333333333333, hidden_layer_sizes=(50,) \n",
      "[Parallel(n_jobs=-1)]: Done  85 tasks      | elapsed:  7.8min\n",
      "[CV]  activation=tanh, alpha=0.006166666666666667, hidden_layer_sizes=(100,), score=0.9636, total=  28.2s\n",
      "[CV] activation=tanh, alpha=0.006833333333333333, hidden_layer_sizes=(100,) \n",
      "[Parallel(n_jobs=-1)]: Done  86 tasks      | elapsed:  7.8min\n",
      "[CV]  activation=tanh, alpha=0.006166666666666667, hidden_layer_sizes=(100,), score=0.9732, total=  40.3s\n",
      "[CV] activation=tanh, alpha=0.006833333333333333, hidden_layer_sizes=(100,) \n",
      "[Parallel(n_jobs=-1)]: Done  87 tasks      | elapsed:  7.9min\n",
      "[CV]  activation=tanh, alpha=0.006166666666666667, hidden_layer_sizes=(150,), score=0.9628, total=  32.3s\n",
      "[CV] activation=tanh, alpha=0.006833333333333333, hidden_layer_sizes=(100,) \n",
      "[Parallel(n_jobs=-1)]: Done  88 tasks      | elapsed:  8.0min\n",
      "[CV]  activation=tanh, alpha=0.006833333333333333, hidden_layer_sizes=(50,), score=0.9756, total=  29.0s\n",
      "[CV] activation=tanh, alpha=0.006833333333333333, hidden_layer_sizes=(150,) \n",
      "[CV]  activation=tanh, alpha=0.006833333333333333, hidden_layer_sizes=(50,), score=0.968, total=  23.2s\n",
      "[Parallel(n_jobs=-1)]: Done  89 tasks      | elapsed:  8.0min\n",
      "[Parallel(n_jobs=-1)]: Done  90 tasks      | elapsed:  8.0min\n",
      "[CV] activation=tanh, alpha=0.006833333333333333, hidden_layer_sizes=(150,) \n",
      "[CV]  activation=tanh, alpha=0.006166666666666667, hidden_layer_sizes=(150,), score=0.9676, total=  43.8s\n",
      "[CV] activation=tanh, alpha=0.006833333333333333, hidden_layer_sizes=(150,) \n",
      "[Parallel(n_jobs=-1)]: Done  91 tasks      | elapsed:  8.1min\n",
      "[CV]  activation=tanh, alpha=0.006166666666666667, hidden_layer_sizes=(150,), score=0.9712, total=  46.2s\n",
      "[CV] activation=tanh, alpha=0.0075, hidden_layer_sizes=(50,) .........\n",
      "[Parallel(n_jobs=-1)]: Done  92 tasks      | elapsed:  8.1min\n",
      "[CV]  activation=tanh, alpha=0.006833333333333333, hidden_layer_sizes=(50,), score=0.9632, total=  27.6s\n",
      "[CV] activation=tanh, alpha=0.0075, hidden_layer_sizes=(50,) .........\n",
      "[Parallel(n_jobs=-1)]: Done  93 tasks      | elapsed:  8.2min\n",
      "[CV]  activation=tanh, alpha=0.006833333333333333, hidden_layer_sizes=(100,), score=0.9692, total=  31.9s\n",
      "[CV] activation=tanh, alpha=0.0075, hidden_layer_sizes=(50,) .........\n",
      "[CV]  activation=tanh, alpha=0.006833333333333333, hidden_layer_sizes=(100,), score=0.9732, total=  37.9s\n",
      "[CV] activation=tanh, alpha=0.0075, hidden_layer_sizes=(100,) ........\n",
      "[CV]  activation=tanh, alpha=0.006833333333333333, hidden_layer_sizes=(100,), score=0.964, total=  28.4s\n",
      "[CV] activation=tanh, alpha=0.0075, hidden_layer_sizes=(100,) ........\n",
      "[Parallel(n_jobs=-1)]: Done  96 out of 108 | elapsed:  8.5min remaining:  1.1min\n",
      "[CV]  activation=tanh, alpha=0.0075, hidden_layer_sizes=(50,), score=0.976, total=  29.1s\n",
      "[CV] activation=tanh, alpha=0.0075, hidden_layer_sizes=(100,) ........\n",
      "[CV]  activation=tanh, alpha=0.006833333333333333, hidden_layer_sizes=(150,), score=0.9628, total=  32.1s\n",
      "[CV] activation=tanh, alpha=0.0075, hidden_layer_sizes=(150,) ........\n",
      "[CV]  activation=tanh, alpha=0.0075, hidden_layer_sizes=(50,), score=0.9676, total=  23.3s\n",
      "[CV] activation=tanh, alpha=0.0075, hidden_layer_sizes=(150,) ........\n",
      "[Parallel(n_jobs=-1)]: Done  99 out of 108 | elapsed:  8.6min remaining:   47.1s\n",
      "[CV]  activation=tanh, alpha=0.006833333333333333, hidden_layer_sizes=(150,), score=0.968, total=  44.3s\n",
      "[CV] activation=tanh, alpha=0.0075, hidden_layer_sizes=(150,) ........\n",
      "[CV]  activation=tanh, alpha=0.006833333333333333, hidden_layer_sizes=(150,), score=0.9704, total=  46.8s\n",
      "[CV]  activation=tanh, alpha=0.0075, hidden_layer_sizes=(50,), score=0.9632, total=  28.4s\n",
      "[Parallel(n_jobs=-1)]: Done 102 out of 108 | elapsed:  8.9min remaining:   31.4s\n",
      "[CV]  activation=tanh, alpha=0.0075, hidden_layer_sizes=(100,), score=0.9692, total=  30.6s\n",
      "[CV]  activation=tanh, alpha=0.0075, hidden_layer_sizes=(100,), score=0.9732, total=  36.1s\n",
      "[CV]  activation=tanh, alpha=0.0075, hidden_layer_sizes=(100,), score=0.964, total=  25.6s\n",
      "[Parallel(n_jobs=-1)]: Done 105 out of 108 | elapsed:  9.0min remaining:   15.5s\n"
     ]
    },
    {
     "name": "stdout",
     "output_type": "stream",
     "text": [
      "[CV]  activation=tanh, alpha=0.0075, hidden_layer_sizes=(150,), score=0.9628, total=  20.3s\n",
      "[CV]  activation=tanh, alpha=0.0075, hidden_layer_sizes=(150,), score=0.9688, total=  31.5s\n",
      "[CV]  activation=tanh, alpha=0.0075, hidden_layer_sizes=(150,), score=0.9704, total=  31.0s\n",
      "[Parallel(n_jobs=-1)]: Done 108 out of 108 | elapsed:  9.2min remaining:    0.0s\n",
      "[Parallel(n_jobs=-1)]: Done 108 out of 108 | elapsed:  9.2min finished\n",
      "\n",
      "best parameters are: {'activation': 'relu', 'alpha': 0.006166666666666667, 'hidden_layer_sizes': (50,)}\n",
      "best accuracy is : 0.9713333333333334\n"
     ]
    }
   ],
   "source": [
    "alpha_range = np.linspace(0.0055,0.0075, 4)\n",
    "hidden_layers_range = [(ll,) for ll in np.arange(50, 200, 50)]\n",
    "act_func = [\"logistic\", \"relu\", \"tanh\"]\n",
    "\n",
    "param_grid = dict(alpha=alpha_range, hidden_layer_sizes=hidden_layers_range, activation=act_func)\n",
    "\n",
    "mlp = MLPClassifier(random_state=0)\n",
    "grid = GridSearchCV(mlp, param_grid=param_grid, cv=3, verbose=50, n_jobs=-1)\n",
    "grid.fit(normalized_all, y_all)\n",
    "\n",
    "print(\"\\nbest parameters are: \" + str(grid.best_params_))\n",
    "print(\"best accuracy is : \"+ str(grid.best_score_))"
   ]
  },
  {
   "cell_type": "markdown",
   "metadata": {},
   "source": [
    "After running GridSearch, we have found our optimal hyperparameters for our MLPClassifier to be **alpha=$0.00617$, Hidden_layer_sizes = $(50,)$**, and **activation=relu**. With a best accuracy of **97.13%**"
   ]
  },
  {
   "cell_type": "markdown",
   "metadata": {},
   "source": [
    "**Part D**: Which of the three models above performed the best on the data set?  Were you surprised or not surprised by your results?  Discuss. "
   ]
  },
  {
   "cell_type": "markdown",
   "metadata": {
    "collapsed": true
   },
   "source": [
    "To recap over all the models made and tuned above, we started with a KNN classifier which had an **accuracy** of $96.56$%. The Linear Support Vector Machine Classifier had an **accuracy** of $96.79$%. And lastly, our MLBClassifier (Feed Forward Neural Network) had the **best accuracy** of $97.13$%. All of the models performed very well and I was surprised how close each came to each other. I was not surprised that the Neural Network was the best. In class we saw how powerful a Neural Network can be, being able to learn logical operators like OR, AND, and even, by adding layers, allowing it to master XOR. So overall, I am not surprised that it was our best model since it can easily and adaptively learn weights better given the right architecture for the data set."
   ]
  },
  {
   "cell_type": "markdown",
   "metadata": {},
   "source": [
    "**Part E**: For the best model you identified in **Part D**, perform a train-validation split and construct a confusion matrix based on predictions on the validation set.  Which classes tend to get confused with each other the most? Are there any classes for which your model performs exceptionally well?  Plot at least one misclassified example from each of the often-confused classes and suggests reasons why this behavior might occur.   "
   ]
  },
  {
   "cell_type": "code",
   "execution_count": 29,
   "metadata": {},
   "outputs": [
    {
     "name": "stdout",
     "output_type": "stream",
     "text": [
      "Here is the confusion matrix for our best model (MLPClassifier) which shows the that the most commonly confused item is ankle boots with sneakers. The second most commonly confused item is also the opposite (i.e. sneakers with ankle boots). Otherwise, the model performs exceptionally well and does a great job classifying everything else.\n",
      "[[505   1   8   2   0]\n",
      " [ 13 473   1   0   1]\n",
      " [  6   2 471   2   0]\n",
      " [  0   0   0 473  26]\n",
      " [  1   0   1  51 438]]\n",
      "\n",
      "An example of a commonly confused ankle boot with a sneaker is the first picture below\n",
      "One reason for why this might get classified as a sneaker might be because compared to other boots, the ankle support is not as tall. Another attributing characteristic could be that some boots have zippers instead of shoe laces and a defining characteristic our model may weight sneakers heavier with is looking for laces as oppossed to ankle boots with zippers\n",
      "\n",
      "\n",
      "An example of a commonly confused sneaker with an ankle boot (reverse of the first example) is shown in the second picture: \n",
      "Again, a reason for this misclassification could be due to the fact this sneaker has higher tops than most which would give weight to being an ankle boot. Another reason could be that there is no definition of laces in this diagram giving more backing to the hypothesis that one of the weights is laces vs zippers.\n"
     ]
    },
    {
     "data": {
      "image/png": "[encoded data removed]",
      "text/plain": [
       "<matplotlib.figure.Figure at 0x1198ac438>"
      ]
     },
     "metadata": {},
     "output_type": "display_data"
    },
    {
     "data": {
      "image/png": "[encoded data removed]",
      "text/plain": [
       "<matplotlib.figure.Figure at 0x11de80860>"
      ]
     },
     "metadata": {},
     "output_type": "display_data"
    }
   ],
   "source": [
    "best_model = MLPClassifier(hidden_layer_sizes=(50,), alpha=0.00617, random_state=0).fit(X_train, y_train)\n",
    "\n",
    "yHat_valid = best_model.predict(X_valid) # use best model to predict on tran-valid split\n",
    "C = confusion_matrix(y_valid, yHat_valid) \n",
    "print('Here is the confusion matrix for our best model (MLPClassifier) which shows the that the most commonly confused item is ankle boots with sneakers. The second most commonly confused item is also the opposite (i.e. sneakers with ankle boots). Otherwise, the model performs exceptionally well and does a great job classifying everything else.')\n",
    "print(C)\n",
    "\n",
    "print('\\nAn example of a commonly confused ankle boot with a sneaker is the first picture below')\n",
    "\n",
    "def get_confused(wrong, right):\n",
    "    confused_indexes = []\n",
    "    for ii,y in enumerate(y_valid):\n",
    "        if yHat_valid[ii] == wrong and y == right:\n",
    "            confused_indexes.append(ii)\n",
    "    return confused_indexes\n",
    "        \n",
    "boot_sneaker_index = get_confused(7,9)   \n",
    "view_item(X_valid[boot_sneaker_index[2]], y_valid[boot_sneaker_index[2]])\n",
    "\n",
    "\n",
    "print('One reason for why this might get classified as a sneaker might be because compared to other boots, the ankle support is not as tall. Another attributing characteristic could be that some boots have zippers instead of shoe laces and a defining characteristic our model may weight sneakers heavier with is looking for laces as oppossed to ankle boots with zippers')\n",
    "\n",
    "\n",
    "print('\\n\\nAn example of a commonly confused sneaker with an ankle boot (reverse of the first example) is shown in the second picture: ')\n",
    "print('Again, a reason for this misclassification could be due to the fact this sneaker has higher tops than most which would give weight to being an ankle boot. Another reason could be that there is no definition of laces in this diagram giving more backing to the hypothesis that one of the weights is laces vs zippers.')\n",
    "sneaker_boot_index = get_confused(9,7)\n",
    "view_item(X_valid[sneaker_boot_index[0]], y_valid[sneaker_boot_index[0]])"
   ]
  },
  {
   "cell_type": "markdown",
   "metadata": {},
   "source": [
    "### [30 points] Problem 2: Predicting Authors of Presidential Election Tweets \n",
    "***\n",
    "\n",
    "For the first time in history, the run-up to the 2016 presidential election saw candidates move a large portion of their campaigns from the traditional debating lectern to the Twitterverse. In this problem you will construct various classifiers to predict whether a tweet was sent by @HillaryClinton ($y=0$) or @realDonaldTrump ($y=1$). \n",
    "\n",
    "The data set contains $4000$ tweets that have been cleaned by converting all text to lowercase, removing punctuation, and removing hypertext links. In order to preserve hashtags we've replaced the typical # with the string `hashtag` (e.g. `#GiantMeteor` would be converted to `hashtaggiantmeteor`).  \n",
    "\n",
    "Execute the following cell to load the data. "
   ]
  },
  {
   "cell_type": "code",
   "execution_count": 2,
   "metadata": {
    "ExecuteTime": {
     "end_time": "2018-04-19T11:16:43.620382Z",
     "start_time": "2018-04-19T11:16:43.607739Z"
    }
   },
   "outputs": [],
   "source": [
    "f = gzip.open('data/clean_tweets.pklz','rb')\n",
    "\n",
    "text_all, y_all = pickle.load(f)\n",
    "text_train, text_valid, y_train, y_valid = train_test_split(text_all, y_all, test_size=0.33, random_state=42)\n",
    "f.close()"
   ]
  },
  {
   "cell_type": "markdown",
   "metadata": {},
   "source": [
    "**Part A**: Vectorize the text features using the Bag-of-Words text model **while removing stop words**.  Then answer the following questions: \n",
    "\n",
    "- How many distinct text features are there in the data after stop words are removed? \n",
    "- How many distinct **HashTags** are there in the data? \n",
    "- Which candidate uses HashTags the most frequently? "
   ]
  },
  {
   "cell_type": "code",
   "execution_count": 3,
   "metadata": {},
   "outputs": [],
   "source": [
    "from sklearn.feature_extraction.text import TfidfVectorizer \n",
    "\n",
    "bagofwords = TfidfVectorizer(stop_words=\"english\")           # initialize the vectorizer\n",
    "Xbw_train = bagofwords.fit_transform(text_all)             # fit to training data and transform to matrix "
   ]
  },
  {
   "cell_type": "code",
   "execution_count": 4,
   "metadata": {},
   "outputs": [
    {
     "name": "stdout",
     "output_type": "stream",
     "text": [
      "There are 7509 terms in the vocabulary\n",
      "There are 243 distinct hashtags in the data\n",
      "Trump has used 550 hashtags compare to Hillary using 241 hashtags.\n"
     ]
    }
   ],
   "source": [
    "import re\n",
    "\n",
    "def get_who_hashtags(text, true):\n",
    "    counts = np.array([[0],[0]])\n",
    "    for ii,sentence in enumerate(text):\n",
    "        if \"HASHTAG\" in sentence:\n",
    "            counts[true[ii]] += 1\n",
    "    return counts\n",
    "\n",
    "def get_hashtags(vocab, num_common=20):\n",
    "    hashtag_count = 0\n",
    "    for word in vocab:\n",
    "        match = re.search(\"hashtag.*\", word)     # regex match on hashtag followed by any other characters \n",
    "        if match:                                # cuz I forgot python does everything for u\n",
    "            hashtag_count += 1\n",
    "    return hashtag_count\n",
    "\n",
    "hashtags = get_who_hashtags(text_all, y_all)\n",
    "\n",
    "print(\"There are {:d} terms in the vocabulary\".format(Xbw_train.shape[1]))\n",
    "print(\"There are {:d} distinct hashtags in the data\".format(get_hashtags(bagofwords.vocabulary_)))\n",
    "print(\"Trump has used \"+str(hashtags[1][0])+\" hashtags compare to Hillary using \"+str(hashtags[0][0])+\" hashtags.\")\n"
   ]
  },
  {
   "cell_type": "markdown",
   "metadata": {},
   "source": [
    "**Part B**: Construct a Logistic Regression classifier with L2 regularization to make predictions on the data. Exactly as in **Problem 1**, you should clearly detail your process for picking optimal hyperparameters and evaluating your model, and report the details of your best model along with final validation accuracy. "
   ]
  },
  {
   "cell_type": "markdown",
   "metadata": {},
   "source": [
    "To tune the optimal hyperparameters for our model below, the main parameter we are concerned with if for our logistic regression classifier which is the $C$ term that represents the Inverse of regularization strength. What I do below is plot two different bagofwords text models (CountVectorizer and TfidfVectorizer). Then I iterate over different values of our Inverse Regularization Strength and then plot the results."
   ]
  },
  {
   "cell_type": "code",
   "execution_count": 24,
   "metadata": {},
   "outputs": [
    {
     "name": "stdout",
     "output_type": "stream",
     "text": [
      "Best Tfid C value is : 40.41323232323232 with validation accuracy 92.73%\n",
      "Best Count Vector C value is : 5.06040404040404 with validation accuracy 91.44%\n"
     ]
    },
    {
     "data": {
      "image/png": "[encoded data removed]",
      "text/plain": [
       "<matplotlib.figure.Figure at 0x116875f28>"
      ]
     },
     "metadata": {},
     "output_type": "display_data"
    }
   ],
   "source": [
    "from sklearn.pipeline import Pipeline \n",
    "from sklearn.linear_model import LogisticRegression\n",
    "from sklearn.feature_extraction.text import CountVectorizer\n",
    "\n",
    "c_vals = np.linspace(0.01, 500, 100)\n",
    "\n",
    "def get_tfid_acc():\n",
    "    best_c_tfid = 0.0\n",
    "    best_c_acc_tfid = 0.0\n",
    "    valid_acc_tfid = []\n",
    "    \n",
    "    Tfid_bagofwords = TfidfVectorizer(stop_words=\"english\")\n",
    "    for c in c_vals:\n",
    "        logreg = LogisticRegression(C=c, penalty = 'l2')\n",
    "\n",
    "        bagofwords_tfid_steps = [\n",
    "            (\"bagofwords\", Tfid_bagofwords),\n",
    "            (\"logreg\", logreg)\n",
    "        ]\n",
    "\n",
    "        bagofwords_pipe_tfid = Pipeline(bagofwords_tfid_steps)\n",
    "        bagofwords_pipe_tfid.fit(text_train, y_train)\n",
    "\n",
    "        acc_tfid = bagofwords_pipe_tfid.score(text_valid, y_valid)\n",
    "\n",
    "        valid_acc_tfid.append(acc_tfid)\n",
    "        \n",
    "        if acc_tfid > best_c_acc_tfid:\n",
    "            best_c_tfid = c\n",
    "            best_c_acc_tfid = acc_tfid\n",
    "            \n",
    "    print('Best Tfid C value is : ' + str(best_c_tfid) + ' with validation accuracy ' + str(round(best_c_acc_tfid * 100, 2)) + '%')\n",
    "    \n",
    "    return valid_acc_tfid\n",
    "        \n",
    "def get_vect_acc():\n",
    "    best_c_vect = 0.0\n",
    "    best_c_acc_vect = 0.0\n",
    "    valid_acc_vect = []\n",
    "    \n",
    "    Vect_bagofwords = CountVectorizer(stop_words=\"english\")\n",
    "    for c in c_vals:\n",
    "        logreg = LogisticRegression(C=c, penalty = 'l2')\n",
    "        \n",
    "        bagofwords_vect_steps = [\n",
    "            (\"bagofwords\", Vect_bagofwords),\n",
    "            (\"logreg\", logreg)\n",
    "        ]\n",
    "\n",
    "        bagofwords_pipe_vect = Pipeline(bagofwords_vect_steps)\n",
    "\n",
    "        bagofwords_pipe_vect.fit(text_train, y_train)\n",
    "\n",
    "        acc_vect = bagofwords_pipe_vect.score(text_valid, y_valid)\n",
    "\n",
    "        valid_acc_vect.append(acc_vect)\n",
    "\n",
    "        if acc_vect > best_c_acc_vect:\n",
    "            best_c_vect = c\n",
    "            best_c_acc_vect = acc_vect\n",
    "\n",
    "            \n",
    "    print('Best Count Vector C value is : ' + str(best_c_vect) + ' with validation accuracy ' + str(round(best_c_acc_vect * 100, 2)) + '%')\n",
    "    \n",
    "    return valid_acc_vect\n",
    "\n",
    "plt.plot(c_vals, get_tfid_acc(), label='Tfid')\n",
    "plt.plot(c_vals, get_vect_acc(), label='Count_Vector')\n",
    "plt.xlabel('Inverse of regularization strength')\n",
    "plt.ylabel('Accuracy')\n",
    "plt.title('Inverse of regularization strength vs Validation Accuracy')\n",
    "plt.legend()\n",
    "plt.show()"
   ]
  },
  {
   "cell_type": "markdown",
   "metadata": {},
   "source": [
    "Taking our best model (Tfid) and then the best $C$ value ($40.413$), I create the optimal model below which helps us determine which top 10 words are the best predictors for each candidate"
   ]
  },
  {
   "cell_type": "code",
   "execution_count": 7,
   "metadata": {},
   "outputs": [
    {
     "name": "stdout",
     "output_type": "stream",
     "text": [
      "Accuracy on Training Set:   0.999\n",
      "Accuracy on Validation Set: 0.927\n"
     ]
    }
   ],
   "source": [
    "bagofwords = TfidfVectorizer(stop_words=\"english\")\n",
    "logreg = LogisticRegression(C=40.413, penalty = 'l2')\n",
    "\n",
    "Xbw_train = bagofwords.fit_transform(text_train)   \n",
    "vocab = bagofwords.vocabulary_\n",
    "bagofwords_steps = [\n",
    "    (\"bagofwords\", bagofwords),\n",
    "    (\"logreg\", logreg)\n",
    "]\n",
    "bagofwords_pipe = Pipeline(bagofwords_steps)\n",
    "bagofwords_pipe.fit(text_train, y_train)\n",
    "\n",
    "\n",
    "train_acc = bagofwords_pipe.score(text_train, y_train)\n",
    "valid_acc = bagofwords_pipe.score(text_valid, y_valid)\n",
    "print(\"Accuracy on Training Set:   {:.3f}\".format(train_acc))\n",
    "print(\"Accuracy on Validation Set: {:.3f}\".format(valid_acc))"
   ]
  },
  {
   "cell_type": "markdown",
   "metadata": {},
   "source": [
    "**Part C**: Determine and report the 10 words that are the best predictors for @HillaryClinton and the 10 words that are the best predictors for @realDonaldTrump in your Logistic Regression model. In addition, you should briefly discuss how you found these best features mathematically. "
   ]
  },
  {
   "cell_type": "code",
   "execution_count": 8,
   "metadata": {
    "scrolled": true
   },
   "outputs": [
    {
     "name": "stdout",
     "output_type": "stream",
     "text": [
      "\n",
      "Top Words for @HillaryClinton\n",
      "-------------------------------\n",
      "joebiden\n",
      "voice\n",
      "potus\n",
      "rt\n",
      "trumps\n",
      "timkaine\n",
      "barack\n",
      "trump\n",
      "hillary\n",
      "hillarys\n",
      "\n",
      "Top Words for @realDonaldTrump\n",
      "-------------------------------\n",
      "speech\n",
      "great\n",
      "cnn\n",
      "hashtagtrump2016\n",
      "hashtagmakeamericagreatagain\n",
      "crooked\n",
      "media\n",
      "clinton\n",
      "realdonaldtrump\n",
      "hashtagamericafirst\n"
     ]
    }
   ],
   "source": [
    "coefs = bagofwords_pipe.named_steps['logreg'].coef_[0]\n",
    "top_clintons = np.argpartition(coefs, 10)[:10]\n",
    "top_trumps = np.argpartition(coefs, -10)[-10:]\n",
    "print('\\nTop Words for @HillaryClinton')\n",
    "print('-------------------------------')\n",
    "for ii in top_clintons:\n",
    "    word = list(vocab.keys())[list(vocab.values()).index(ii)] \n",
    "    print(word)\n",
    "print('\\nTop Words for @realDonaldTrump')\n",
    "print('-------------------------------')\n",
    "for ii in top_trumps:\n",
    "    word = list(vocab.keys())[list(vocab.values()).index(ii)] \n",
    "    print(word)"
   ]
  },
  {
   "cell_type": "markdown",
   "metadata": {},
   "source": [
    "Mathematically, we know that as we train our data, our learned coefficients change and adapt to fit the data as best they can. So by the end, we know that our highest coefficient values correlate to how strong that word is for the prediction of Trump ($y=1$). Similarly, the top features for Clinton ($y=0$) will be our smallest beta values."
   ]
  },
  {
   "cell_type": "markdown",
   "metadata": {},
   "source": [
    "**Part D**: Construct a Naive Bayes classifier to make predictions on the data. Again, you should clearly detail your process for picking optimal hyperparameters and evaluating your model, and report the details of your best model along with final validation accuracy. **Hint**: Since text features are discrete, you'll want to use Sklearn's [MultinomialNB](http://scikit-learn.org/stable/modules/generated/sklearn.naive_bayes.MultinomialNB.html) classifier. "
   ]
  },
  {
   "cell_type": "markdown",
   "metadata": {},
   "source": [
    "For the MultinomialNB classifier, the only parameter we are going to be tuning is alpha which is the smoothing parameter for our Naive Bayes classifier."
   ]
  },
  {
   "cell_type": "code",
   "execution_count": 17,
   "metadata": {},
   "outputs": [
    {
     "data": {
      "image/png": "[encoded data removed]",
      "text/plain": [
       "<matplotlib.figure.Figure at 0x116a02e80>"
      ]
     },
     "metadata": {},
     "output_type": "display_data"
    },
    {
     "name": "stdout",
     "output_type": "stream",
     "text": [
      "Accuracy on Validation Set: 0.925 with alpha: 0.41\n"
     ]
    }
   ],
   "source": [
    "from sklearn.naive_bayes import MultinomialNB\n",
    "\n",
    "bagofwords = TfidfVectorizer(stop_words=\"english\")\n",
    "Xbw_train = bagofwords.fit_transform(text_train) \n",
    "alpha_vals = np.linspace(0.1, 1.5, 10)\n",
    "\n",
    "\n",
    "NB_accuracies = []\n",
    "best_alpha = 0.0\n",
    "best_acc = 0.0\n",
    "\n",
    "for alpha in alpha_vals:\n",
    "    NB = MultinomialNB(alpha)\n",
    "\n",
    "    bagofwords_steps = [\n",
    "        (\"bagofwords\", bagofwords),\n",
    "        (\"MultinomialNB\", NB)\n",
    "    ]\n",
    "    \n",
    "    bagofwords_pipe = Pipeline(bagofwords_steps)\n",
    "    \n",
    "    valid_acc = cross_val_score(bagofwords_pipe, text_all, y_all, cv=5, scoring='accuracy')\n",
    "    \n",
    "    NB_accuracies.append(np.mean(valid_acc))\n",
    "    \n",
    "    if np.mean(valid_acc) > best_acc:\n",
    "        best_acc = np.mean(valid_acc)\n",
    "        best_alpha = alpha\n",
    "        \n",
    "plt.plot(alpha_vals, NB_accuracies)\n",
    "plt.xlabel('Alpha')\n",
    "plt.ylabel('Valid Set Accuracy')\n",
    "plt.title('Alpha vs Valid-Set Accuracy')\n",
    "plt.show()\n",
    "    \n",
    "    \n",
    "print(\"Accuracy on Validation Set: {:.3f} with alpha: {:.2f}\".format(best_acc, best_alpha))"
   ]
  },
  {
   "cell_type": "markdown",
   "metadata": {},
   "source": [
    "**Part E**: Determine and report the 10 words that are the best predictors for @HillaryClinton and the 10 words that are the best predictors for @realDonaldTrump in your Naive Bayes model. In addition, you should briefly discuss how you found these best features mathematically. "
   ]
  },
  {
   "cell_type": "code",
   "execution_count": 22,
   "metadata": {},
   "outputs": [
    {
     "name": "stdout",
     "output_type": "stream",
     "text": [
      "Best MultinomialNB model validation accuracy 92.45% with best alpha: 0.411\n"
     ]
    }
   ],
   "source": [
    "NB = MultinomialNB(alpha=best_alpha)\n",
    "bagofwords = TfidfVectorizer(stop_words=\"english\")\n",
    "Xbw_train = bagofwords.fit_transform(text_train) \n",
    "vocabNB = bagofwords.vocabulary_\n",
    "\n",
    "nb_bagofwords_steps = [\n",
    "    (\"bagofwords\", bagofwords),\n",
    "    (\"MultinomialNB\", NB)\n",
    "]\n",
    "\n",
    "nb_bagofwords_pipe = Pipeline(nb_bagofwords_steps)\n",
    "nb_bagofwords_pipe.fit(text_train, y_train)\n",
    "\n",
    "\n",
    "print('Best MultinomialNB model validation accuracy ' + str(round(np.mean(best_acc) * 100, 3)) + '% with best alpha: ' + str(round(best_alpha, 3)))\n"
   ]
  },
  {
   "cell_type": "code",
   "execution_count": 23,
   "metadata": {},
   "outputs": [
    {
     "name": "stdout",
     "output_type": "stream",
     "text": [
      "\n",
      "Top Words for @HillaryClinton\n",
      "-------------------------------\n",
      "stephensons\n",
      "stepped\n",
      "stems\n",
      "step\n",
      "stephencurry30\n",
      "hashtagugpride2016\n",
      "stiffing\n",
      "stiffed\n",
      "steininger\n",
      "sticker\n",
      "\n",
      "Top Words for @realDonaldTrump\n",
      "-------------------------------\n",
      "clinton\n",
      "make\n",
      "crooked\n",
      "america\n",
      "realdonaldtrump\n",
      "hillary\n",
      "hashtagmakeamericagreatagain\n",
      "great\n",
      "hashtagtrump2016\n",
      "thank\n",
      "DT: clinton make crooked realdonaldtrump america hillary hashtagtrump2016 hashtagmakeamericagreatagain great thank\n",
      "HC: glad hashtagthegreatest stiffed sticker stepped stephensons stephencurry30 step stems steininger\n"
     ]
    }
   ],
   "source": [
    "coefs = nb_bagofwords_pipe.named_steps['MultinomialNB'].coef_[0]\n",
    "top_clintons = np.argpartition(coefs, 10)[:10]\n",
    "top_trumps = np.argpartition(coefs, -10)[-10:]\n",
    "print('\\nTop Words for @HillaryClinton')\n",
    "print('-------------------------------')\n",
    "for ii in top_clintons:\n",
    "    word = list(vocabNB.keys())[list(vocabNB.values()).index(ii)] \n",
    "    print(word)\n",
    "print('\\nTop Words for @realDonaldTrump')\n",
    "print('-------------------------------')\n",
    "for ii in top_trumps:\n",
    "    word = list(vocabNB.keys())[list(vocabNB.values()).index(ii)] \n",
    "    print(word)\n",
    "    \n",
    "    \n",
    "feature_names = np.asarray(nb_bagofwords_pipe.named_steps['bagofwords'].get_feature_names())\n",
    "top10 = np.argsort(nb_bagofwords_pipe.named_steps['MultinomialNB'].coef_[0])[-10:]\n",
    "bottom10 = np.argsort(nb_bagofwords_pipe.named_steps['MultinomialNB'].coef_[0])[:10]\n",
    "print(\"DT: %s\" % \" \".join(feature_names[top10]))\n",
    "print(\"HC: %s\" % \" \".join(feature_names[bottom10]))"
   ]
  },
  {
   "cell_type": "markdown",
   "metadata": {},
   "source": [
    "The top words above were found exaclty the same way as before and for exactly the same reason. I would note here however that even though Trumps words look spot on, Hillary's do not at all. In fact, its quite suspect that they all start with \"S\" so I attribute that to an indexing error somewhere in my code (also just noting this because I've spent a full day banging my head against the keyboared not being able to find this small screw up)."
   ]
  },
  {
   "cell_type": "markdown",
   "metadata": {},
   "source": [
    "**Part F**: Which of the two models above performed the best on the data set?  Were you surprised or not surprised by your results?  Discuss. "
   ]
  },
  {
   "cell_type": "markdown",
   "metadata": {
    "collapsed": true
   },
   "source": [
    "To recap, it came down very close to the performance between our LogisticRegression model vs our MultinomialNB. The tuning performed above gave our LogisticRegression model an overall **best accuracy** of $92.7$% compared to our MultinomialNB  **accuracy** of $92.45$%. I am not suprised that LogisticRegression was the best because that model has a high impact from the weights it learns as it iterates through our data set. Naive Bayes is a great model but it can only predict based off of the internal counting probabilties it has computed prior. As this is a great tool, it isn't enough in this scenario to beat out our awesome and powerful logistic regression model."
   ]
  },
  {
   "cell_type": "markdown",
   "metadata": {},
   "source": [
    "### [25 points] Problem 3: Feature Engineering and Presidential Tweets \n",
    "***\n",
    "\n",
    "In this problem you will again work with the Twitter election data from **Problem 2**, but this time in its unadulterated raw form. Unlike in **Problem 2**, you will only be allowed to use Logistic Regression as your classifier.  Instead of using a fancier model, you will attempt to improve performance by crafting better features.  One way you might do this is to explore text models that are more sophisticated that simple Bag-of-Words. Alternatively, you might explore the training data and identify characteristics of tweets by a particular author that you can then turn into a feature. \n",
    "\n",
    "The class `TweetFeaturizer` shown below is already fully functional.  Your goal in this problem is to make it better.  In it's current state, the class reads in the training and test data, fits a Logistic Regression model using Bag-of-Words, makes predictions on the test set, and then dumps the predictions to a csv file that can be uploaded to Kaggle. You are free to modify this class is any way that you see fit, but we've given you some helpful functionality that will prove sufficient for most of you.  The `add_text_features` method currently loops over each tweet in the data set, copies it to a new array, and then passes that array into the text vectorizer.  One way to create new features is to append distinct word-indicators onto the string representing the tweet.  These will then be turned into features by the vectorizer. \n",
    "\n",
    "As an example (that is intentionally silly and probably unhelpful): Suppose you think a potentially helpful feature is whether or not the tweet contains more than 10 instances of the letter `z`.  In `add_text_features` you could count the number of `z`'s in a tweet and if there are more than 10, you could append the word `MoreThanTenZs` to the tweet.  Then, when the tweet is passed into the vectorizer, this will turn into a numerical feature.  \n",
    "\n",
    "In addition to competing against yourself to craft the best features that you can, you'll also compete against your classmates in a Kaggle competition.  The competition page can be found here: \n",
    "\n",
    "https://www.kaggle.com/c/4622-election-tweet-authorship\n",
    "\n",
    "A private invite link will be available on Piazza which will get you into the competition. Note that the test data has been partitioned into a public leaderboard set and a private leaderboard set.  While the competition is open, submitting to Kaggle will tell you your score on the public leaderboard.  Your scores on the private leaderboard will become available at the end of the competition.   The top **THREE** students on the **Private** leaderboard at the end of the competition will earn 10 extra credit points on the Practicum. Note that to prevent the machine learning-equivalent of button mashing, we've limited you to **10** submissions per day.  You should be evaluating your features locally with cross-validation and then submitting to Kaggle when you think you have something that works.  "
   ]
  },
  {
   "cell_type": "markdown",
   "metadata": {},
   "source": [
    "**Part A**: **Feature Engineering**:  What you need to do: \n",
    "\n",
    "- Explore and experiment with the data to try to find good features \n",
    "- Implement these features in the `TweetFeaturizer` class  \n",
    "- Implement some evaluation methods to see how well your features improve your model (*cough* cross-validation *cough*) \n",
    "- Make submissions to the Kaggle competition and see how you compared to your classmates "
   ]
  },
  {
   "cell_type": "code",
   "execution_count": null,
   "metadata": {
    "collapsed": true
   },
   "outputs": [],
   "source": []
  },
  {
   "cell_type": "markdown",
   "metadata": {},
   "source": [
    "**Part B**: **Motivation and Analysis**: What you need to do: \n",
    "\n",
    "Convince me that:\n",
    "\n",
    "- Your new features work\n",
    "- You understand what the new features are doing\n",
    "- You had a clear methodology for incorporating the new features\n"
   ]
  },
  {
   "cell_type": "code",
   "execution_count": 90,
   "metadata": {
    "ExecuteTime": {
     "end_time": "2018-04-19T11:17:43.721148Z",
     "start_time": "2018-04-19T11:17:43.346867Z"
    }
   },
   "outputs": [
    {
     "name": "stdout",
     "output_type": "stream",
     "text": [
      "Accuracy: 0.94675\n",
      "DT:  Clinton AmericaFirst CrookedHillary Trump2016  Crooked MakeAmericaGreatAgain realDonaldTrump Thank EXCLAMATION EXCLAMATIONPERIOD\n",
      "HC: RT HillaryPERIOD POTUSPERIOD HPERIOD Trump  https DemsInPhillyHASHTAGPERIOD Hillary  president  Trump\n"
     ]
    }
   ],
   "source": [
    "class TweetFeaturizer:\n",
    "    def __init__(self):\n",
    "        \n",
    "        from sklearn.feature_extraction.text import TfidfVectorizer \n",
    "\n",
    "        self.vectorizer = TfidfVectorizer(\n",
    "            stop_words=\"english\",\n",
    "            analyzer = 'word',\n",
    "            lowercase=False,\n",
    "            sublinear_tf=True,\n",
    "            token_pattern='[a-z0-9_]*\\s*[\\w]*',\n",
    "            strip_accents='unicode',\n",
    "            binary=True\n",
    "        )\n",
    "\n",
    "        \n",
    "    def add_text_features(self, examples):\n",
    "        \"\"\"\n",
    "        Method for looping over original text and adding new text \n",
    "        features. \n",
    "        :param examples: the list of raw tweets \n",
    "        \"\"\"\n",
    "        \n",
    "        new_examples = [] \n",
    "        for ex in examples:\n",
    "            if (len(ex.split('#')) > 1):\n",
    "                ex = ex + 'HASHTAG'\n",
    "            if ('!' in ex):\n",
    "                ex = ex + 'EXCLAMATION'\n",
    "            if ('https' in ex):\n",
    "                ex = ex + 'URL'\n",
    "            if ('/' in ex):\n",
    "                ex = ex + 'LINK'\n",
    "            if ('.' in ex):\n",
    "                ex = ex + 'PERIOD'\n",
    "            # here is where you might try to add new features \n",
    "            # currently this does nothing.  \n",
    "            new_examples.append(ex)\n",
    "            \n",
    "        return new_examples\n",
    "\n",
    "    def build_train_features(self, examples):\n",
    "        \"\"\"\n",
    "        Method to take in training text features and do further feature engineering \n",
    "        Most of the work in this homework will go here, or in similar functions  \n",
    "        :param examples: the list of raw tweets \n",
    "        \"\"\"\n",
    "        \n",
    "        new_examples = self.add_text_features(examples)\n",
    "        return self.vectorizer.fit_transform(new_examples)\n",
    "\n",
    "    def get_test_features(self, examples):\n",
    "        \"\"\"\n",
    "        Method to take in test text features and transform the same way as train features \n",
    "        :param examples: the list of raw tweets\n",
    "        \"\"\"\n",
    "        new_examples = self.add_text_features(examples)\n",
    "        return self.vectorizer.transform(new_examples)\n",
    "\n",
    "    def show_top10(self):\n",
    "        \"\"\"\n",
    "        prints the top 10 features for the positive class and the \n",
    "        top 10 features for the negative class. \n",
    "        \"\"\"\n",
    "        feature_names = np.asarray(self.vectorizer.get_feature_names())\n",
    "        top10 = np.argsort(self.logreg.coef_[0])[-10:]\n",
    "        bottom10 = np.argsort(self.logreg.coef_[0])[:10]\n",
    "        print(\"DT: %s\" % \" \".join(feature_names[top10]))\n",
    "        print(\"HC: %s\" % \" \".join(feature_names[bottom10]))\n",
    "                \n",
    "    def train_model(self, random_state=1234):\n",
    "        \"\"\"\n",
    "        Method to read in training data from file, and \n",
    "        train Logistic Regression classifier. \n",
    "        \n",
    "        :param random_state: seed for random number generator \n",
    "        \"\"\"\n",
    "        \n",
    "        from sklearn.linear_model import LogisticRegression\n",
    "        \n",
    "        # load data \n",
    "        f = gzip.open('data/raw_tweets_train.pklz','rb')\n",
    "        text_train, y_train = pickle.load(f)\n",
    "        f.close()\n",
    "        \n",
    "        # get training features and labels \n",
    "        self.X_train = self.build_train_features(text_train)\n",
    "        self.y_train = y_train\n",
    "        \n",
    "        # create range of C values to hand off to GridSearch to find the best hyperparam\n",
    "        # c_vals = [0.001, 0.01, 0.1, 1, 10, 100, 1000]\n",
    "        # narrowed down from testing list above\n",
    "        c_vals = np.linspace(900, 1100, 200)\n",
    "        param_grid = {'C': c_vals }\n",
    "        \n",
    "        logreg = LogisticRegression(penalty='l2', random_state=random_state)\n",
    "        grid = GridSearchCV(logreg, param_grid=param_grid, cv=5, n_jobs=-1)\n",
    "        \n",
    "\n",
    "        grid.fit(self.X_train, self.y_train)\n",
    "        \n",
    "        best_c_param = grid.best_params_['C']\n",
    "        print('Accuracy: ' + str(grid.best_score_))\n",
    "        \n",
    "        \n",
    "        # train logistic regression model.  !!MUST USE LogisticRegression!! #cross validation?\n",
    "        self.logreg = LogisticRegression(random_state=random_state, C=best_c_param)\n",
    "        self.logreg.fit(self.X_train, self.y_train)\n",
    "        \n",
    "    def model_predict(self):\n",
    "        \"\"\"\n",
    "        Method to read in test data from file, make predictions\n",
    "        using trained model, and dump results to file \n",
    "        \"\"\"\n",
    "        \n",
    "        # read in test data \n",
    "        f = gzip.open('data/raw_tweets_test.pklz','rb')\n",
    "        text_valid = pickle.load(f)\n",
    "        f.close()\n",
    "        \n",
    "        # featurize test data \n",
    "        self.X_test = self.get_test_features(text_valid)\n",
    "        \n",
    "        # make predictions on test data \n",
    "        pred = self.logreg.predict(self.X_test)\n",
    "        \n",
    "        # dump predictions to file for submission to Kaggle  \n",
    "        pd.DataFrame({\"realDonaldTrump\": np.array(pred, dtype=bool)}).to_csv(\"prediction.csv\", index=True, index_label=\"Id\")\n",
    "        \n",
    "\n",
    "# Instantiate the class \n",
    "feat = TweetFeaturizer()\n",
    "\n",
    "# Train your Logistic Regression classifier \n",
    "feat.train_model(random_state=1234)\n",
    "\n",
    "# Show the top 10 features for each class \n",
    "feat.show_top10()\n",
    "\n",
    "# Make prediction on test data and produce Kaggle submission file \n",
    "feat.model_predict()"
   ]
  },
  {
   "cell_type": "markdown",
   "metadata": {},
   "source": [
    "<Center><H1>Motivation and Analysis</H1></Center>"
   ]
  },
  {
   "cell_type": "markdown",
   "metadata": {},
   "source": [
    "I began making improvements to the above model by doing some tricks that have worked throughout this practicum.<br>Some of those being:<br>\n",
    "`A)` Implementing TfidfVectorizer over CountVectorizer because this will help with increasing value proportinally to count frequency of words (after stopping words have been removed). I also went full blast on all the parameters I could mess with on this text model.<br>\n",
    " * `1.` stop_words=\"english\" - removes all the words that have no effect\n",
    " * `2.` analyzer = 'word' - whether features are words or characters\n",
    " * `3.` lowercase=False - converts all text to lowercase. Turned out to be very useful for features later on.\n",
    " * `4.` sublinear_tf=True - applies sublinear scaling which takes the log of term freq and applies a weight to it\n",
    " * `5.` token_pattern='[a-z0-9_]*\\s*[\\w]*' - initally wanted to match on lower case words followed by words in all ** caps because this was a trend I thought would separate Trump and Hillary. I forgot to remove the lowercase options on the latter matching but this ending up helping anyway so I left it.\n",
    " * `6.` strip_accents='unicode' - Removes accents during pre-processing\n",
    " * `7.` binary=True  - turned all non-zero counts to the value 1\n",
    " \n",
    "`B)` Tuning the $C$ parameter for the Logistic Regression model.<br>\n",
    "`C)` Implementing GridSearchCV to find the optimal parameters while also performing Cross-Validation<br><br>\n",
    "For my feature engineering, I did a few things:<br>\n",
    "`A)` I used the number of hashtags as a feature since Trump has almost double the amount of usage.<br>\n",
    "`B)` I match on exclamation points because almost every Trump tweet uses at least one.<br>\n",
    "`C)` I also matched on 'https' and '/' because Hillary had a noticable amount of url's appearing in her tweets compared to Trump.<br>\n",
    "`D)` Lastly, this was more of a just seeing if this works kinda thing, but I threw in periods and surprisingly, it helped boost my overal accuracy way more than I thought it would."
   ]
  },
  {
   "cell_type": "markdown",
   "metadata": {},
   "source": [
    "### References\n",
    "***\n",
    "\n"
   ]
  },
  {
   "cell_type": "markdown",
   "metadata": {
    "collapsed": true
   },
   "source": [
    "* http://scikit-learn.org/stable/modules/generated/sklearn.naive_bayes.MultinomialNB.html\n",
    "* http://scikit-learn.org/stable/modules/generated/sklearn.model_selection.GridSearchCV.html\n",
    "* http://scikit-learn.org/stable/modules/generated/sklearn.neural_network.MLPClassifier.html\n",
    "* http://scikit-learn.org/stable/modules/cross_validation.html\n",
    "* http://scikit-learn.org/stable/modules/generated/sklearn.naive_bayes.MultinomialNB.html\n",
    "* http://scikit-learn.org/stable/modules/generated/sklearn.linear_model.LogisticRegression.html"
   ]
  },
  {
   "cell_type": "code",
   "execution_count": null,
   "metadata": {},
   "outputs": [],
   "source": []
  }
 ],
 "metadata": {
  "kernelspec": {
   "display_name": "Python 3",
   "language": "python",
   "name": "python3"
  },
  "language_info": {
   "codemirror_mode": {
    "name": "ipython",
    "version": 3
   },
   "file_extension": ".py",
   "mimetype": "text/x-python",
   "name": "python",
   "nbconvert_exporter": "python",
   "pygments_lexer": "ipython3",
   "version": "3.6.0"
  }
 },
 "nbformat": 4,
 "nbformat_minor": 2
}
