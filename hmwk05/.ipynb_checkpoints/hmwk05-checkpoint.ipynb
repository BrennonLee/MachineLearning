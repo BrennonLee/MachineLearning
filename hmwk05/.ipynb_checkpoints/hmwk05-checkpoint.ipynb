{
 "cells": [
  {
   "cell_type": "markdown",
   "metadata": {},
   "source": [
    "# Homework 5: Naive Bayes, Cross-Validation, and VC Dimension \n",
    "***\n",
    "\n",
    "**Name**: Brennon Lee\n",
    "\n",
    "***\n",
    "\n",
    "This assignment is due on Moodle by **5pm on Wednesday April 18th**. Your solutions to theoretical questions should be done in Markdown/MathJax directly below the associated question.  Your solutions to computational questions should include any specified Python code and results as well as written commentary on your conclusions.  Remember that you are encouraged to discuss the problems with your instructors and classmates, but **you must write all code and solutions on your own**.  For a refresher on the course **Collaboration Policy** click [here](https://github.com/chrisketelsen/CSCI-4622-Machine-Learning/blob/master/resources/syllabus.md#collaboration-policy).\n",
    "\n",
    "**NOTES**: \n",
    "\n",
    "- Do **NOT** load or use any Python packages that are not available in Anaconda 3.6. \n",
    "- Some problems with code may be autograded.  If we provide a function API **do not** change it.  If we do not provide a function API then you're free to structure your code however you like. \n",
    "- Submit only this Jupyter notebook to Moodle.  Do not compress it using tar, rar, zip, etc. "
   ]
  },
  {
   "cell_type": "code",
   "execution_count": 1,
   "metadata": {
    "ExecuteTime": {
     "end_time": "2018-04-03T14:42:01.964923Z",
     "start_time": "2018-04-03T14:42:01.249718Z"
    },
    "scrolled": false
   },
   "outputs": [],
   "source": [
    "import pickle, gzip\n",
    "import numpy as np\n",
    "import matplotlib.pylab as plt\n",
    "%matplotlib inline"
   ]
  },
  {
   "cell_type": "markdown",
   "metadata": {},
   "source": [
    "### [15 points] Problem 1 - Naive Bayes for Tennis Prediction \n",
    "***\n",
    "\n",
    "Suppose you are trying to learn a person's decision whether to play tennis or not on a given day using features corresponding to precipitation forecast, temperature, humidity, and wind. You're given the following training data: \n",
    "\n",
    "$$\n",
    "\\begin{array}{c|c|c|c|c}\n",
    "\\textbf{Forecast} & \\textbf{Temp} & \\textbf{Humidity} & \\textbf{Wind} & \\textbf{PlayTennis} \\\\\n",
    "\\hline \n",
    "\\textrm{sunny} & \\textrm{hot} & \\textrm{high} & \\textrm{weak} & \\textbf{No} \\\\ \n",
    "\\textrm{sunny} & \\textrm{hot} & \\textrm{high} & \\textrm{strong} & \\textbf{No} \\\\ \n",
    "\\textrm{overcast} & \\textrm{hot} & \\textrm{high} & \\textrm{weak} & \\textbf{Yes} \\\\ \n",
    "\\textrm{rainy} & \\textrm{mild} & \\textrm{high} & \\textrm{weak} & \\textbf{Yes} \\\\ \n",
    "\\textrm{rainy} & \\textrm{cool} & \\textrm{normal} & \\textrm{weak} & \\textbf{Yes} \\\\ \n",
    "\\textrm{rainy} & \\textrm{cool} & \\textrm{normal} & \\textrm{strong} & \\textbf{No} \\\\ \n",
    "\\textrm{overcast} & \\textrm{cool} & \\textrm{normal} & \\textrm{strong} & \\textbf{Yes} \\\\ \n",
    "\\textrm{sunny} & \\textrm{mild} & \\textrm{high} & \\textrm{weak} & \\textbf{No} \\\\ \n",
    "\\textrm{sunny} & \\textrm{cool} & \\textrm{normal} & \\textrm{weak} & \\textbf{Yes} \\\\ \n",
    "\\textrm{rainy} & \\textrm{mild} & \\textrm{normal} & \\textrm{weak} & \\textbf{Yes} \\\\ \n",
    "\\textrm{sunny} & \\textrm{mild} & \\textrm{normal} & \\textrm{strong} & \\textbf{Yes} \\\\ \n",
    "\\textrm{overcast} & \\textrm{mild} & \\textrm{high} & \\textrm{strong} & \\textbf{Yes} \\\\ \n",
    "\\textrm{overcast} & \\textrm{hot} & \\textrm{normal} & \\textrm{weak} & \\textbf{Yes} \\\\ \n",
    "\\textrm{rainy} & \\textrm{mild} & \\textrm{high} & \\textrm{strong} & \\textbf{No} \\\\ \n",
    "\\end{array}\n",
    "$$\n",
    "\n",
    "**Part A**: Estimate the priors $p(\\textrm{PlayTennis=Yes})$ and $p(\\textrm{PlayTennis=No})$ from the training data. \n",
    "\n"
   ]
  },
  {
   "cell_type": "markdown",
   "metadata": {
    "collapsed": true,
    "scrolled": true
   },
   "source": [
    "$$p(PlayTennis = Yes) = \\frac{\\text{# of Yes Terms in PlayTennis Column}}{\\text{# Terms in PlayTennis Column}} = \\boxed{\\frac{9}{14}}$$\n",
    "\n",
    "$$p(PlayTennis = No) = \\frac{\\text{# of No Terms in PlayTennis Column}}{\\text{# Terms in PlayTennis Column}} = \\boxed{\\frac{5}{14}}$$"
   ]
  },
  {
   "cell_type": "markdown",
   "metadata": {},
   "source": [
    "**Part B**: For each feature\n",
    "- state the vocabulary $V$ for the feature \n",
    "- estimate the class-conditional probabilities $p(\\textrm{feature value} \\mid \\textrm{PlayTennis})$ from the training data using Laplace add-one smoothing. Show your work. \n",
    "\n",
    "**Note**: There is no need to include any `UNK` features for this data. "
   ]
  },
  {
   "cell_type": "markdown",
   "metadata": {
    "collapsed": true
   },
   "source": [
    "#### The general formual with Laplace add-one smoothing factor is $P(\\text{feature | PlayTennis}) = \\frac{\\text{# of instance of term in Class + 1}}{\\text{# of total words in Class + |V|}}$\n",
    "\n",
    "###### For feature Forecast, the vocab is = { Sunny, Overcast, Rainy }\n",
    "$$P(\\text{Forecast = Sunny} \\ | \\ \\text{PlayTennis}) = \\frac{2 + 1}{9 + 3} = \\boxed{\\frac{1}{4}}$$\n",
    "\n",
    "$$P(\\text{Forecast = Overcast} \\ | \\ \\text{PlayTennis}) = \\frac{4 + 1}{9 + 3} = \\boxed{\\frac{5}{12}}$$\n",
    "\n",
    "$$P(\\text{Forecast = Rainy} \\ | \\ \\text{PlayTennis}) = \\frac{3 + 1}{9 + 3} = \\boxed{\\frac{1}{3}}$$\n",
    "\n",
    "$$P(\\text{Forecast = Sunny} \\ | \\ \\text{NOT PlayTennis}) = \\boxed{\\frac{1}{2}}$$\n",
    "\n",
    "$$P(\\text{Forecast = Overcast} \\ | \\ \\text{NOT PlayTennis}) = \\boxed{\\frac{1}{8}}$$\n",
    "\n",
    "$$P(\\text{Forecast = Rainy} \\ | \\ \\text{NOT PlayTennis}) = \\boxed{\\frac{3}{8}}$$\n",
    "\n",
    "###### For feature Temp, the vocab is = { Hot, Mild, Cool }\n",
    "$$P(\\text{Temp = Hot} \\ | \\ \\text{PlayTennis}) = \\frac{2 + 1}{9 + 3} = \\boxed{\\frac{1}{4}}$$\n",
    "\n",
    "$$P(\\text{Temp = Mild} \\ | \\ \\text{PlayTennis}) = \\frac{4 + 1}{9 + 3} = \\boxed{\\frac{5}{12}}$$\n",
    "\n",
    "$$P(\\text{Temp = Cool} \\ | \\ \\text{PlayTennis}) = \\frac{3 + 1}{9 + 3} = \\boxed{\\frac{1}{3}}$$\n",
    "\n",
    "$$P(\\text{Temp = Hot} \\ | \\ \\text{NOT PlayTennis}) = \\boxed{\\frac{3}{8}}$$\n",
    "\n",
    "$$P(\\text{Temp = Mild} \\ | \\ \\text{NOT PlayTennis}) = \\boxed{\\frac{3}{8}}$$\n",
    "\n",
    "$$P(\\text{Temp = Cool} \\ | \\ \\text{NOT PlayTennis}) = \\boxed{\\frac{1}{4}}$$\n",
    "\n",
    "###### For feature Humidity, the vocab is = { High, Normal }\n",
    "$$P(\\text{Humidity = High} \\ | \\ \\text{PlayTennis}) = \\frac{3 + 1}{9 + 2} = \\boxed{\\frac{4}{11}}$$\n",
    "\n",
    "$$P(\\text{Humidity = Normal} \\ | \\ \\text{PlayTennis}) = \\frac{6 + 1}{9 + 2} = \\boxed{\\frac{7}{11}}$$\n",
    "\n",
    "$$P(\\text{Humidity = High} \\ | \\ \\text{NOT PlayTennis}) = \\boxed{\\frac{5}{7}}$$\n",
    "\n",
    "$$P(\\text{Humidity = Normal} \\ | \\ \\text{NOT PlayTennis}) = \\boxed{\\frac{2}{7}}$$\n",
    "\n",
    "###### For feature Wind, the vocab is = { Weak, Strong }\n",
    "$$P(\\text{Windy = Strong} \\ | \\ \\text{PlayTennis}) = \\frac{3 + 1}{9 + 2} = \\boxed{\\frac{4}{11}}$$\n",
    "\n",
    "$$P(\\text{Windy = Weak} \\ | \\ \\text{PlayTennis}) = \\frac{6 + 1}{9 + 2} = \\boxed{\\frac{7}{11}}$$\n",
    "\n",
    "$$P(\\text{Windy = Strong} \\ | \\ \\text{NOT PlayTennis}) = \\boxed{\\frac{4}{7}}$$\n",
    "\n",
    "$$P(\\text{Windy = Weak} \\ | \\ \\text{NOT PlayTennis}) = \\boxed{\\frac{3}{7}}$$"
   ]
  },
  {
   "cell_type": "markdown",
   "metadata": {},
   "source": [
    "**Part C**: What would your Naive Bayes model predict for the following two weather conditions. Show all work.  \n",
    "- **Forecast**=overcast, **Temp**=cool, **Humidity**=high, **Wind**=weak  \n",
    "- **Forecast**=sunny, **Temp**=hot, **Humidity**=normal, **Wind**=strong  "
   ]
  },
  {
   "cell_type": "markdown",
   "metadata": {
    "collapsed": true
   },
   "source": [
    "$$P(\\text{PlayTennis | Forecast = overcast, Temp=cool, Humidity=high, Wind=weak}) = P(\\text{PlayTennis}) \\cdot P(\\text{Forecast = overcast | PlayTennis}) \\cdot P(\\text{Temp = Cool | PlayTennis}) \\cdot P(\\text{Humidity = High | PlayTennis}) \\cdot P(\\text{Wind = Weak | PlayTennis}) $$\n",
    "\n",
    "$$ = \\frac{9}{14} \\cdot \\frac{5}{12} \\cdot \\frac{1}{3} \\cdot \\frac{4}{11} \\cdot \\frac{7}{11} = \\boxed{0.02} $$\n",
    "\n",
    "$$P(\\text{Not PlayTennis | Forecast = overcast, Temp=cool, Humidity=high, Wind=weak}) = P(\\text{Not PlayTennis}) \\cdot P(\\text{Forecast = overcast | Not PlayTennis}) \\cdot P(\\text{Temp = Cool | Not PlayTennis}) \\cdot P(\\text{Humidity = High | Not PlayTennis}) \\cdot P(\\text{Wind = Weak | Not PlayTennis}) $$\n",
    "\n",
    "$$= \\frac{5}{14} \\cdot \\frac{1}{8} \\cdot \\frac{1}{4} \\cdot \\frac{5}{7} \\cdot \\frac{3}{7} = \\boxed{0.003}$$\n",
    "##### So the first one will be classified as Playing Tennis.\n",
    "\n",
    "$$P(\\text{PlayTennis | Forecast = sunny, Temp=hot, Humidity=normal, Wind=strong}) = P(\\text{PlayTennis}) \\cdot P(\\text{Forecast = sunny | PlayTennis}) \\cdot P(\\text{Temp = hot | PlayTennis}) \\cdot P(\\text{Humidity = normal | PlayTennis}) \\cdot P(\\text{Wind = strong | PlayTennis}) $$\n",
    "\n",
    "$$ = \\frac{9}{14} \\cdot \\frac{1}{4} \\cdot \\frac{1}{4} \\cdot \\frac{7}{11} \\cdot \\frac{4}{11} = \\boxed{0.009} $$\n",
    "\n",
    "$$(\\text{Not PlayTennis | Forecast = sunny, Temp=hot, Humidity=normal, Wind=strong}) = P(\\text{Not PlayTennis}) \\cdot P(\\text{Forecast = sunny | Not PlayTennis}) \\cdot P(\\text{Temp = hot | Not PlayTennis}) \\cdot P(\\text{Humidity = normal | Not PlayTennis}) \\cdot P(\\text{Wind = strong | Not PlayTennis})$$\n",
    "\n",
    "$$ = \\frac{5}{14} \\cdot \\frac{1}{2} \\cdot \\frac{3}{8} \\cdot \\frac{2}{7} \\cdot \\frac{4}{7} = \\boxed{0.01} $$\n",
    "\n",
    "##### So the second one will  be classified as Not Playing Tennis"
   ]
  },
  {
   "cell_type": "markdown",
   "metadata": {},
   "source": [
    "### [35 points] Problem 2 - Implementing Discrete Naive Bayes for Text Classification \n",
    "***\n",
    "\n",
    "In this problem you'll implement a general Discrete Naive Bayes class for text classification. Your tasks will be to implement `train`, `predict_log_score`, and `predict` routines to learn the Naive Bayes model parameters from a collection on text and make predictions on unseen validation data. \n",
    "\n",
    "The skeleton for the `TextNB` class is below. Note that this class is fairly similar to the one you worked with in the Hands-On Naive Bayes in-class notebook, so you should look there to remind yourself of the details. Scroll down to find more information about your tasks as well as unit tests.\n",
    "\n",
    "**Important Note**: In Problem 3 we'll be using the `TextNB` class to make predictions about Twitter data.  Since real-world text data typically has a large number of features, you'll want to make your implementation reasonably efficient so that your experiments in Problem 3 don't take forever. \n"
   ]
  },
  {
   "cell_type": "code",
   "execution_count": 2,
   "metadata": {
    "ExecuteTime": {
     "end_time": "2018-04-03T14:42:09.159492Z",
     "start_time": "2018-04-03T14:42:09.076713Z"
    },
    "scrolled": true
   },
   "outputs": [],
   "source": [
    "class TextNB:\n",
    "    def __init__(self, text_train, y_train, alpha=1.0):\n",
    "        \"\"\"\n",
    "        :param text_train: a list or ndarray of text strings to use as training data \n",
    "        :param y_train: an ndarray of true labels associated with the text data \n",
    "        :param alpha: the Laplace smoothing parameter \n",
    "        \"\"\"\n",
    "        \n",
    "        # store training data \n",
    "        self.text_train = text_train \n",
    "        self.y_train = y_train \n",
    "        \n",
    "        # store smoothing parameter\n",
    "        self.alpha = alpha \n",
    "        \n",
    "        # get number of classes \n",
    "        self.num_classes = len(set(y_train))\n",
    "        \n",
    "        # initialize vocab to feature map \n",
    "        self.vocab = dict() \n",
    "        \n",
    "        # initialize class counts \n",
    "        self.class_counts = np.zeros(self.num_classes, dtype=int)\n",
    "        \n",
    "        # initialize feature counts (Note, will need to update this with the correct\n",
    "        # number of columns during the training process)\n",
    "        self.feature_counts = np.zeros((self.num_classes, 0), dtype=int)\n",
    "        \n",
    "    def train(self):\n",
    "        \"\"\"\n",
    "        Learn the vocabularly, class_counts, and feature counts from the training data \n",
    "        \"\"\"\n",
    "        \n",
    "        # TODO \n",
    "        v_counter = 0\n",
    "        \n",
    "        # initialize feature counts \n",
    "        self.feature_counts\n",
    "        for ii, sentence in enumerate(self.text_train):\n",
    "            self.class_counts[self.y_train[ii]] += 1\n",
    "            words = sentence.split()\n",
    "            for word in words:\n",
    "                if word not in self.vocab:\n",
    "                    self.vocab[word] = v_counter\n",
    "                    v_counter += 1\n",
    "        \n",
    "        self.feature_counts = np.zeros((self.num_classes, len(self.vocab)), dtype=int)\n",
    "        \n",
    "        for ii, sentence in enumerate(self.text_train):\n",
    "            words = sentence.split()\n",
    "            for word in words:\n",
    "                self.feature_counts[self.y_train[ii]][self.vocab[word]] += 1\n",
    "            \n",
    "                    \n",
    "    def predict_log_score(self, text_str):\n",
    "        \"\"\"\n",
    "        Get the log-probability score for each class\n",
    "        for a query string\n",
    "        \n",
    "        :param text_str: a single string of text to compute the log_score for \n",
    "        \"\"\"\n",
    "        \n",
    "        class_scores = np.zeros(self.num_classes) \n",
    "        word_array = text_str.split()\n",
    "        for c in range(self.num_classes):\n",
    "            class_scores[c] = np.log((self.class_counts[c] + self.alpha) / (np.sum(self.class_counts) + (self.alpha*self.num_classes)))\n",
    "            for word in word_array:\n",
    "                if word not in self.vocab:\n",
    "                    continue\n",
    "                else:\n",
    "                    class_scores[c] += np.log((self.feature_counts[c, self.vocab[word]] + self.alpha) / (np.sum(self.feature_counts[c]) + len(self.vocab)))\n",
    "        \n",
    "        return class_scores\n",
    "        \n",
    "    \n",
    "    def predict(self, text_list):\n",
    "        \"\"\"\n",
    "        Predict the class of each example in text_list  \n",
    "        \n",
    "        :param text_list: a list or ndarray of text strings to make predictions on \n",
    "        \"\"\"\n",
    "        yhat = np.zeros(len(text_list), dtype=int)\n",
    "        for ii,text_str in enumerate(text_list):\n",
    "            yhat[ii] = np.argmax(self.predict_log_score(text_str))\n",
    "        \n",
    "        return yhat \n",
    "        \n",
    "        \n",
    "    def accuracy(self, text_list, y_true):\n",
    "        \"\"\"\n",
    "        Make predictions on texts in text_list and compute accuracy relative to \n",
    "        true labels in y_true \n",
    "        \n",
    "        :param text_list: a list or ndarray of text strings to make predictions on \n",
    "        :param y_list: an ndarray of true labels associated with the text data \n",
    "        \"\"\"\n",
    "        yhat = self.predict(text_list)\n",
    "        return np.sum(yhat == y_true)/len(y_true)\n",
    "        \n",
    "        "
   ]
  },
  {
   "cell_type": "markdown",
   "metadata": {},
   "source": [
    "**Part A**: Complete the `train` function in the `TextNB` class to prepare to make Naive Bayes predictions using Laplace smoothing.  In this routine you will need to populate the following data structures: \n",
    "\n",
    "`self.vocab`: A Python dictionary that maps distinct terms found in the training set to unique indices in $\\{0, 1, \\ldots, |V|-1\\}$.  This will allow us to quickly look up frequency counts for an encountered term in a Numpy array. Note that while the data is fairly clean (We've removed punctuation and made all characters lowercase) you should take care that you're not accidentally counting whitespace in the vocabulary. \n",
    "\n",
    "`self.class_counts`: A 1D Numpy array of length `self.num_classes` which counts the number of documents in the training set that belong to each class. \n",
    "\n",
    "`self.feature_counts`: A 2D Numpy array of dimensions `self.num_classes` $\\times$ $|V|$. The $(c,k)$-entry in this array should be the number of times that term $k$ appears in documents belonging to class $c$. Note that we're using the Bag-of-Words approach here, so if a term appears multiple times in a single document, each instance of that term should be counted.  \n",
    "\n",
    "When you think you're done, execute the following unit test, corresponding to the example starting on Slide 29 of [Lecture 24](https://www.cs.colorado.edu/~ketelsen/files/courses/csci4622/slides/lesson24.pdf). "
   ]
  },
  {
   "cell_type": "code",
   "execution_count": 3,
   "metadata": {
    "ExecuteTime": {
     "end_time": "2018-04-03T14:45:46.325834Z",
     "start_time": "2018-04-03T14:45:46.314267Z"
    },
    "scrolled": true
   },
   "outputs": [
    {
     "name": "stderr",
     "output_type": "stream",
     "text": [
      "testVocab (__main__.TestNB) ... ok\n",
      "testClassCounts (__main__.TestNB) ... ok\n",
      "testFeatureCounts (__main__.TestNB) ... ok\n",
      "\n",
      "----------------------------------------------------------------------\n",
      "Ran 3 tests in 0.003s\n",
      "\n",
      "OK\n"
     ]
    }
   ],
   "source": [
    "%run -i tests/tests.py \"prob 2A\""
   ]
  },
  {
   "cell_type": "markdown",
   "metadata": {},
   "source": [
    "**Part B**: Complete the `predict_log_score` function in the `TextNB` class to take in a single string of text and compute the associated log-score for each class. For now, you should use add-one Laplace smoothing for both the class-priors and the class-conditional probabilities.  In **Problem 3** we'll experiment with different variants of Laplace smoothing, so if you like you can read ahead now and implement the general version of Laplace smoothing from the beginning.  \n",
    "\n",
    "**Note**: For simplicity and testing purposes, do not implement an `UNK` feature.  Instead, if you encounter a term not in the vocabulary you can safely ignore it. \n",
    "\n",
    "When you think your `predict_log_score` function is working well, execute the following unit test. \n"
   ]
  },
  {
   "cell_type": "code",
   "execution_count": 4,
   "metadata": {
    "ExecuteTime": {
     "end_time": "2018-04-03T14:45:47.998683Z",
     "start_time": "2018-04-03T14:45:47.990764Z"
    },
    "scrolled": true
   },
   "outputs": [
    {
     "name": "stderr",
     "output_type": "stream",
     "text": [
      "testLogScore (__main__.TestNB) ... ok\n",
      "\n",
      "----------------------------------------------------------------------\n",
      "Ran 1 test in 0.001s\n",
      "\n",
      "OK\n"
     ]
    }
   ],
   "source": [
    "%run -i tests/tests.py \"prob 2B\""
   ]
  },
  {
   "cell_type": "markdown",
   "metadata": {},
   "source": [
    "**Part C**: Finally, implement the `predict` method to take in a list or ndarray of text data, call `predict_log_score`, and return a vector of predicted labels. \n",
    "\n",
    "When you think you're done, execute the following unit test. "
   ]
  },
  {
   "cell_type": "code",
   "execution_count": 5,
   "metadata": {
    "ExecuteTime": {
     "end_time": "2018-04-03T14:45:49.228361Z",
     "start_time": "2018-04-03T14:45:49.220931Z"
    },
    "scrolled": true
   },
   "outputs": [
    {
     "name": "stderr",
     "output_type": "stream",
     "text": [
      "testPredict (__main__.TestNB) ... ok\n",
      "\n",
      "----------------------------------------------------------------------\n",
      "Ran 1 test in 0.002s\n",
      "\n",
      "OK\n"
     ]
    }
   ],
   "source": [
    "%run -i tests/tests.py \"prob 2C\""
   ]
  },
  {
   "cell_type": "markdown",
   "metadata": {},
   "source": [
    "### [30 points] Problem 3: Predicting the Sentiment of Tweets sent from Passengers to Airlines \n",
    "***\n",
    "\n",
    "In this problem you'll use the `TextNB` class you wrote in **Problem 2** to make predictions about the sentiment of tweets sent by passengers to airlines.  Execute the following cell to load the data. "
   ]
  },
  {
   "cell_type": "code",
   "execution_count": 6,
   "metadata": {
    "ExecuteTime": {
     "end_time": "2018-04-03T14:45:55.395606Z",
     "start_time": "2018-04-03T14:45:55.371833Z"
    }
   },
   "outputs": [],
   "source": [
    "f = open('data/airline_tweets.pklz','rb')\n",
    "text_train, y_train, text_valid, y_valid, text_all, y_all = pickle.load(f)\n",
    "f.close()"
   ]
  },
  {
   "cell_type": "markdown",
   "metadata": {},
   "source": [
    "**Part A**: Explore the data and answer the following questions: \n",
    "\n",
    "- How many total examples are there in the training and validation sets? \n",
    "- Which binary label ($\\{0,1\\}$) corresponds to tweets with positive and negative sentiment, respectively?\n",
    "- What percentage of tweets in the training set have true positive sentiment? \n",
    "- What percentage of tweets in the validation set have true positive sentiment? "
   ]
  },
  {
   "cell_type": "code",
   "execution_count": 7,
   "metadata": {},
   "outputs": [
    {
     "name": "stdout",
     "output_type": "stream",
     "text": [
      "total examples in the training set is: 4000\n",
      "total examples in the validation set is: 4000\n",
      "\n",
      "@southwestair awesome  thanks has label 1\n",
      "Label y=1 correlates to positive sentiment and y=0 correlates to negative sentiment.\n",
      "\n",
      "0.25% of tweets in training set have true positive sentiment.\n",
      "0.23075% of tweets in validation set have true positive sentiment.\n"
     ]
    }
   ],
   "source": [
    "print('total examples in the training set is: ' + str(text_train.shape[0]))\n",
    "print('total examples in the validation set is: ' + str(text_valid.shape[0]))\n",
    "print('\\n' + text_train[0], 'has label', y_train[0])\n",
    "print('Label y=1 correlates to positive sentiment and y=0 correlates to negative sentiment.')\n",
    "print('\\n' + str(np.sum(y_train)/len(y_train)) + '% of tweets in training set have true positive sentiment.')\n",
    "print(str(np.sum(y_valid)/len(y_valid)) + '% of tweets in validation set have true positive sentiment.')"
   ]
  },
  {
   "cell_type": "markdown",
   "metadata": {},
   "source": [
    "**Part B**: Use your `TextNB` class to learn a Naive Bayes classifier for the airline Twitter data.  What accuracy do you achieve on the training set and what accuracy do you achieve on the test set? \n"
   ]
  },
  {
   "cell_type": "code",
   "execution_count": 8,
   "metadata": {},
   "outputs": [],
   "source": [
    "airlineNB = TextNB(text_train, y_train)\n",
    "airlineNB.train()\n",
    "training_accuracy = airlineNB.accuracy(text_train, y_train)\n",
    "valid_accuracy = airlineNB.accuracy(text_valid, y_valid)"
   ]
  },
  {
   "cell_type": "code",
   "execution_count": 9,
   "metadata": {},
   "outputs": [
    {
     "name": "stdout",
     "output_type": "stream",
     "text": [
      "Training Accuracy is 93.05%\n",
      "Valid Accuracy is 91.075%\n"
     ]
    }
   ],
   "source": [
    "print('Training Accuracy is ' + str(round(training_accuracy * 100, 3)) + '%')\n",
    "print('Valid Accuracy is ' + str(round(valid_accuracy * 100, 3)) + '%')"
   ]
  },
  {
   "cell_type": "markdown",
   "metadata": {},
   "source": [
    "**Part C**: Notice that if we want to make improvements in our Naive Bayes classifier, we don't really have a lot of knobs to turn aside from changing the word features that we use.  One place that we might make some gains though is in using a slightly different version of Laplace smoothing.  \n",
    "\n",
    "Recall that in add-one smoothing we add a $1$ to the numerator in both the estimation of the prior probabilities and the class-conditional likelihoods. \n",
    "\n",
    "$$\n",
    "\\hat{p}(\\textrm{Class}) = \\dfrac{\\textrm{# docs from Class}+1}{\\textrm{# total docs in training data} + |C|},\n",
    "\\quad \\quad\n",
    "\\hat{p}(\\textrm{term} \\mid \\textrm{Class}) = \\dfrac{\\textrm{# instance of term in Class}+1}{\\textrm{# total words in Class} + |V|}\n",
    "$$\n",
    "\n",
    "It turns out there's nothing sacred about adding $1$ to the numerators.  In fact, we can add any positive value $\\alpha$ that we like \n",
    "\n",
    "$$\n",
    "\\hat{p}(\\textrm{Class}) = \\dfrac{\\textrm{# docs from Class}+\\alpha}{\\textrm{# total docs in training data} + ?},\n",
    "\\quad \\quad\n",
    "\\hat{p}(\\textrm{term} \\mid \\textrm{Class}) = \\dfrac{\\textrm{# instance of term in Class}+\\alpha}{\\textrm{# total words in Class} + ?}\n",
    "$$\n",
    "\n",
    "Explain what modification must be made to the denominators so that theses estimates remain valid probabilities. Clearly justify your reasoning. \n",
    "\n",
    "Support this modification in your `TextNB` class above, if you have not already.  Make sure that your code still passes then unit tests when $\\alpha = 1$. "
   ]
  },
  {
   "cell_type": "markdown",
   "metadata": {
    "collapsed": true
   },
   "source": [
    "##### Filling in the blanks, suppose alpha is a value we use as our laplace smoothing factor for our classifier, then when in general form (including when alpha != 1) we get this general form: \n",
    "$$\\hat{p}(\\textrm{Class}) = \\dfrac{\\textrm{# docs from Class}+\\alpha}{\\textrm{# total docs in training data} + \\alpha \\cdot |C|},\n",
    "\\quad \\quad\n",
    "\\hat{p}(\\textrm{term} \\mid \\textrm{Class}) = \\dfrac{\\textrm{# instance of term in Class}+\\alpha}{\\textrm{# total words in Class} + \\alpha \\cdot |V|}$$\n",
    "\n",
    "#### We must multiply the cardinality by $\\alpha$ to ensure the probabilities will still add up to one. So now not if an $\\alpha$ value of less than one or more than one is used, then the probabilities sum to one."
   ]
  },
  {
   "cell_type": "markdown",
   "metadata": {},
   "source": [
    "**Part D**: Write some code to perform $K$-Folds cross-validation on the entire data set (`train_all` and `y_all`) to estimate the accuracy of your NB classifier for various values of $\\alpha$ and make a plot showing your results.  \n",
    "\n",
    "To do the partitioning into folds I recommend leveraging sklearn's [StratifiedKFold]() routine.  The documentation demonstrates how it can be used.  \n",
    "\n",
    "For your plot, use at least $K=5$ folds and at least $5$ different values of $\\alpha$ between $0.1$ and $1.5$.  Which value of $\\alpha$ seems to perform the best? \n"
   ]
  },
  {
   "cell_type": "code",
   "execution_count": 11,
   "metadata": {},
   "outputs": [
    {
     "name": "stdout",
     "output_type": "stream",
     "text": [
      "On Alpha=0.1\n",
      "On Alpha=0.256\n",
      "On Alpha=0.411\n",
      "On Alpha=0.567\n",
      "On Alpha=0.722\n",
      "On Alpha=0.878\n",
      "On Alpha=1.033\n",
      "On Alpha=1.189\n",
      "On Alpha=1.344\n",
      "On Alpha=1.5\n",
      "[0.9097519252448928, 0.911626847754628, 0.9127516134283645, 0.913252238526265, 0.9126270039070328, 0.9107518468757213, 0.9100030185070385, 0.9095028620616649, 0.9080027054209786, 0.9061280954113654]\n"
     ]
    },
    {
     "data": {
      "image/png": "[encoded data removed]",
      "text/plain": [
       "<matplotlib.figure.Figure at 0x113e28860>"
      ]
     },
     "metadata": {},
     "output_type": "display_data"
    }
   ],
   "source": [
    "from sklearn.model_selection import StratifiedKFold\n",
    "K = 5\n",
    "alphas = np.linspace(0.1, 1.5, 10)\n",
    "skf = StratifiedKFold(n_splits=K)\n",
    "\n",
    "test_accuracies = []\n",
    "for alpha in alphas:\n",
    "    averages = []\n",
    "    print('On Alpha=' + str(round(alpha, 3)))\n",
    "    for train_index, test_index in skf.split(text_all, y_all):\n",
    "#         print(\"TRAIN:\", train_index, \"TEST:\", test_index)\n",
    "        X_train, X_test = text_all[train_index], text_all[test_index]\n",
    "        y_train, y_test = y_all[train_index], y_all[test_index]\n",
    "\n",
    "        fold_NB = TextNB(X_train, y_train, alpha)\n",
    "        fold_NB.train()\n",
    "        averages.append(fold_NB.accuracy(X_test, y_test))\n",
    "        \n",
    "    test_accuracies.append(np.mean(averages))\n",
    "    \n",
    "print(test_accuracies)\n",
    "plt.plot(alphas, test_accuracies)\n",
    "plt.xlabel('alpha')\n",
    "plt.ylabel('Valid_Set_Accuracy %')\n",
    "plt.title('Alpha vs. Valid_Set_Accuracy')\n",
    "plt.grid()\n",
    "plt.show()\n",
    "        \n",
    "    "
   ]
  },
  {
   "cell_type": "markdown",
   "metadata": {},
   "source": [
    "###### The best value of $\\alpha$ appears to be between right around $\\textbf{~0.55}$."
   ]
  },
  {
   "cell_type": "markdown",
   "metadata": {},
   "source": [
    "### [20 points] Problem 4: VC Dimension \n",
    "***\n",
    "\n",
    "**Part A**: Consider learning to classify binary labeled data with a single feature $x$.  Let $H$ be the hypothesis class described by the union of two intervals $[a,b] \\cup [c,d]$ such that $h(x)$ labels an example as positive if it's in the interval $[a,b]$ **OR** the interval $[c,d]$.  Determine the VC Dimension of $H$.  Justify your conclusion by demonstrating a shattering of a set $S$ of the appropriate size **AND** by arguing that an arbitrary set consisting of one additional point cannot be shattered by $H$.   "
   ]
  },
  {
   "cell_type": "markdown",
   "metadata": {
    "collapsed": true
   },
   "source": [
    "#### The VC Dimension of H is 4. Notice that every combination of 4 points and their colors (red and blue) can be separeted and correctly classified or also known as Shattered. Once a 5th point is added, it becomes impossible to shattered the data set."
   ]
  },
  {
   "cell_type": "code",
   "execution_count": 17,
   "metadata": {},
   "outputs": [
    {
     "data": {
      "text/html": [
       "<img src=\"https://lh3.googleusercontent.com/_06g4gTFOGdHUZRc1qM9aLX3fXfzU23FQ5ejlnn8t7I2V64dJRjG0yWszyZdy1fnMG8MndTFzH6UeNEujCWrsc8TidFsEQh_gbXdZAwoan_xfIZd4MGN7k5Wr5t68xCOATUisYsyEeM=w2400\"/>"
      ],
      "text/plain": [
       "<IPython.core.display.Image object>"
      ]
     },
     "execution_count": 17,
     "metadata": {},
     "output_type": "execute_result"
    }
   ],
   "source": [
    "from IPython.display import Image\n",
    "Image(url='https://lh3.googleusercontent.com/_06g4gTFOGdHUZRc1qM9aLX3fXfzU23FQ5ejlnn8t7I2V64dJRjG0yWszyZdy1fnMG8MndTFzH6UeNEujCWrsc8TidFsEQh_gbXdZAwoan_xfIZd4MGN7k5Wr5t68xCOATUisYsyEeM=w2400')"
   ]
  },
  {
   "cell_type": "code",
   "execution_count": 18,
   "metadata": {},
   "outputs": [
    {
     "data": {
      "text/html": [
       "<img src=\"https://lh3.googleusercontent.com/yC-EYLcz4rvXiIgqIvxKolRy2GN0qddoufwIb2PSKCjuatoTu5IYG2jj6dTXP7rkaFYYmox0dJ8uQn8pVHTjl88CPq3xq5d7tm5fzodfV1oqyAjUmyxBvbfo7qMfpxwLPlOsxvSiwRM=w2400\"/>"
      ],
      "text/plain": [
       "<IPython.core.display.Image object>"
      ]
     },
     "execution_count": 18,
     "metadata": {},
     "output_type": "execute_result"
    }
   ],
   "source": [
    "Image(url='https://lh3.googleusercontent.com/yC-EYLcz4rvXiIgqIvxKolRy2GN0qddoufwIb2PSKCjuatoTu5IYG2jj6dTXP7rkaFYYmox0dJ8uQn8pVHTjl88CPq3xq5d7tm5fzodfV1oqyAjUmyxBvbfo7qMfpxwLPlOsxvSiwRM=w2400')"
   ]
  },
  {
   "cell_type": "code",
   "execution_count": 19,
   "metadata": {},
   "outputs": [
    {
     "data": {
      "text/html": [
       "<img src=\"https://lh3.googleusercontent.com/wOKSrDFv6eP9VFj6sQdukF-Q3MijNNn45TpCuYwry17q3oWKZw-HFwKlmxFyhE789LmsSzLLNYaMqmpZKZROsdZmpo6vNARo2-ovkYYIwTfCILgmRul3Z_G9gX9cDwypMEfvlkMT1tA=w2400\"/>"
      ],
      "text/plain": [
       "<IPython.core.display.Image object>"
      ]
     },
     "execution_count": 19,
     "metadata": {},
     "output_type": "execute_result"
    }
   ],
   "source": [
    "Image(url='https://lh3.googleusercontent.com/wOKSrDFv6eP9VFj6sQdukF-Q3MijNNn45TpCuYwry17q3oWKZw-HFwKlmxFyhE789LmsSzLLNYaMqmpZKZROsdZmpo6vNARo2-ovkYYIwTfCILgmRul3Z_G9gX9cDwypMEfvlkMT1tA=w2400')\n"
   ]
  },
  {
   "cell_type": "markdown",
   "metadata": {},
   "source": [
    "##### Notice that when adding an additional 5th point, it is now impossible to shatter the set since the blue point on the right make it impossible to correctly classify the red points."
   ]
  },
  {
   "cell_type": "code",
   "execution_count": 21,
   "metadata": {},
   "outputs": [
    {
     "data": {
      "text/html": [
       "<img src=\"https://lh3.googleusercontent.com/tvHMhR1lMOfvV-_j5Nop4DvTT1y9abRJier0PeYVj0G7WiJHMneWQ7ZWMfcT0aXUjKPGmsr33ukSaaOgwB6mUhpCdiTFwPuF22SDQAUn1B9oFVissrh1s-gnjJ6t7US7xpDHsL5C4U0=w2400\"/>"
      ],
      "text/plain": [
       "<IPython.core.display.Image object>"
      ]
     },
     "execution_count": 21,
     "metadata": {},
     "output_type": "execute_result"
    }
   ],
   "source": [
    "Image(url='https://lh3.googleusercontent.com/tvHMhR1lMOfvV-_j5Nop4DvTT1y9abRJier0PeYVj0G7WiJHMneWQ7ZWMfcT0aXUjKPGmsr33ukSaaOgwB6mUhpCdiTFwPuF22SDQAUn1B9oFVissrh1s-gnjJ6t7US7xpDHsL5C4U0=w2400')\n"
   ]
  },
  {
   "cell_type": "markdown",
   "metadata": {},
   "source": [
    "**Part B**: Consider learning to classify binary labeled data with two features, $x_1$ and $x_2$.  Let $H$ be the hypothesis class described by the ability to assign all points in a particular quadrant of the 2D plane to be positive or negative, with the restriction that at least one of the four quadrants must be labeled positive and at least one of the four quadrants must be labeled negative. Determine the VC Dimension of $H$. Again, justify your conclusion by demonstrating a shattering of a set $S$ of the appropriate size **AND** by arguing that an arbitrary set consisting of one additional point cannot be shattered by $H$.   "
   ]
  },
  {
   "cell_type": "markdown",
   "metadata": {
    "collapsed": true
   },
   "source": [
    "#### I will argue that the VC Dimension of H is 4. Notice that for every combination of colors for the four points spread out in each quadrant, it is possible to shatter the set of points. "
   ]
  },
  {
   "cell_type": "code",
   "execution_count": 21,
   "metadata": {},
   "outputs": [
    {
     "data": {
      "text/html": [
       "<img src=\"https://lh3.googleusercontent.com/BX20mU5ItVmOGfk4DZOnk_ckOqBw6yWej41sqZ8P3PrNTMBZhWNnjKvp5O7EB9D6C2bxaI6AFk76ERFveDwvVziPDdxGHgRoG7AkzrAPKzWyhC0fsM52MMczNR7xTUb3Uox4D5qjGu4=w2400\"/>"
      ],
      "text/plain": [
       "<IPython.core.display.Image object>"
      ]
     },
     "execution_count": 21,
     "metadata": {},
     "output_type": "execute_result"
    }
   ],
   "source": [
    "Image(url='https://lh3.googleusercontent.com/BX20mU5ItVmOGfk4DZOnk_ckOqBw6yWej41sqZ8P3PrNTMBZhWNnjKvp5O7EB9D6C2bxaI6AFk76ERFveDwvVziPDdxGHgRoG7AkzrAPKzWyhC0fsM52MMczNR7xTUb3Uox4D5qjGu4=w2400')"
   ]
  },
  {
   "cell_type": "code",
   "execution_count": 22,
   "metadata": {},
   "outputs": [
    {
     "data": {
      "text/html": [
       "<img src=\"https://lh3.googleusercontent.com/V5jg7DdJ6hHtILMdK63dbR2iyv95n0UqkM6xv8zOHz4ri-F8LwMwcQ-S7YwFgmZEsg88S5Lk_v93Z_QvftXS-U2ggEY-B4hpGtb73YquIETIChKnhPsnDSNrSXY1LY8JJ047OhXiJ-I=w2400\"/>"
      ],
      "text/plain": [
       "<IPython.core.display.Image object>"
      ]
     },
     "execution_count": 22,
     "metadata": {},
     "output_type": "execute_result"
    }
   ],
   "source": [
    "Image(url='https://lh3.googleusercontent.com/V5jg7DdJ6hHtILMdK63dbR2iyv95n0UqkM6xv8zOHz4ri-F8LwMwcQ-S7YwFgmZEsg88S5Lk_v93Z_QvftXS-U2ggEY-B4hpGtb73YquIETIChKnhPsnDSNrSXY1LY8JJ047OhXiJ-I=w2400')"
   ]
  },
  {
   "cell_type": "code",
   "execution_count": 23,
   "metadata": {},
   "outputs": [
    {
     "data": {
      "text/html": [
       "<img src=\"https://lh3.googleusercontent.com/X6J5x34Qcd8XrmUHalxuXfeb3NiceM1QjCWrQFrA24wrMQwZQtvUDC_i7GuT2bNakf6yz1Hr8YBgXtiX8fIx2D9bERgX_uJIzI0rHxTtO1tqd_pqH13WUJb3WiIuBQoBlCc4vdr5LPI=w2400\"/>"
      ],
      "text/plain": [
       "<IPython.core.display.Image object>"
      ]
     },
     "execution_count": 23,
     "metadata": {},
     "output_type": "execute_result"
    }
   ],
   "source": [
    "Image(url='https://lh3.googleusercontent.com/X6J5x34Qcd8XrmUHalxuXfeb3NiceM1QjCWrQFrA24wrMQwZQtvUDC_i7GuT2bNakf6yz1Hr8YBgXtiX8fIx2D9bERgX_uJIzI0rHxTtO1tqd_pqH13WUJb3WiIuBQoBlCc4vdr5LPI=w2400')"
   ]
  },
  {
   "cell_type": "markdown",
   "metadata": {},
   "source": [
    "##### However, when adding one more additional point, it becomes impossible to shatter the set of points. Because now there are two points that will be in the same quadrant and if they are different colors, then you cannot correctly classify all the points in that quadrant. Therefore, the VCDim = 4"
   ]
  },
  {
   "cell_type": "code",
   "execution_count": 24,
   "metadata": {},
   "outputs": [
    {
     "data": {
      "text/html": [
       "<img src=\"https://lh3.googleusercontent.com/j1xUCRsGhSI0Fnm9kbJIiPivFFwFyfh7I5vh-x1wW82qKr0In6GvsrFI4qAWWZCBwHYtM8-NP4Y7JqBtL5wxI2OamzEjtKtgArV_k3ObWSUQirQVLV6rWGqV62rP_jVvHH1J4Snramk=w2400\"/>"
      ],
      "text/plain": [
       "<IPython.core.display.Image object>"
      ]
     },
     "execution_count": 24,
     "metadata": {},
     "output_type": "execute_result"
    }
   ],
   "source": [
    "Image(url='https://lh3.googleusercontent.com/j1xUCRsGhSI0Fnm9kbJIiPivFFwFyfh7I5vh-x1wW82qKr0In6GvsrFI4qAWWZCBwHYtM8-NP4Y7JqBtL5wxI2OamzEjtKtgArV_k3ObWSUQirQVLV6rWGqV62rP_jVvHH1J4Snramk=w2400')"
   ]
  },
  {
   "cell_type": "code",
   "execution_count": null,
   "metadata": {},
   "outputs": [],
   "source": []
  }
 ],
 "metadata": {
  "kernelspec": {
   "display_name": "Python 3",
   "language": "python",
   "name": "python3"
  },
  "language_info": {
   "codemirror_mode": {
    "name": "ipython",
    "version": 3
   },
   "file_extension": ".py",
   "mimetype": "text/x-python",
   "name": "python",
   "nbconvert_exporter": "python",
   "pygments_lexer": "ipython3",
   "version": "3.6.0"
  }
 },
 "nbformat": 4,
 "nbformat_minor": 2
}
