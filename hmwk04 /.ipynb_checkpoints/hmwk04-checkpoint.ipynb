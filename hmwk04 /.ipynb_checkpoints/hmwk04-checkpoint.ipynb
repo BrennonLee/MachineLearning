{
 "cells": [
  {
   "cell_type": "markdown",
   "metadata": {},
   "source": [
    "# Homework 4: Neural Networks, SGD, and Back Propagation \n",
    "***\n",
    "\n",
    "**Name**: Brennon Lee\n",
    "\n",
    "***\n",
    "\n",
    "This assignment is due on Moodle by **5pm on Friday March 23rd**. Your solutions to theoretical questions should be done in Markdown/MathJax directly below the associated question.  Your solutions to computational questions should include any specified Python code and results as well as written commentary on your conclusions.  Remember that you are encouraged to discuss the problems with your instructors and classmates, but **you must write all code and solutions on your own**.  For a refresher on the course **Collaboration Policy** click [here](https://github.com/chrisketelsen/CSCI-4622-Machine-Learning/blob/master/resources/syllabus.md#collaboration-policy).\n",
    "\n",
    "**NOTES**: \n",
    "\n",
    "- Do **NOT** load or use any Python packages that are not available in Anaconda 3.6. \n",
    "- Some problems with code may be autograded.  If we provide a function API **do not** change it.  If we do not provide a function API then you're free to structure your code however you like. \n",
    "- Submit only this Jupyter notebook to Moodle.  Do not compress it using tar, rar, zip, etc. "
   ]
  },
  {
   "cell_type": "code",
   "execution_count": 1,
   "metadata": {
    "ExecuteTime": {
     "end_time": "2018-03-13T09:10:09.992631Z",
     "start_time": "2018-03-13T09:10:08.906587Z"
    },
    "scrolled": false
   },
   "outputs": [],
   "source": [
    "import pickle, gzip\n",
    "import numpy as np\n",
    "import pandas as pd\n",
    "import matplotlib.pylab as plt\n",
    "%matplotlib inline"
   ]
  },
  {
   "cell_type": "markdown",
   "metadata": {},
   "source": [
    "### [15 points] Problem 1 - Single-Layer and Multilayer Perceptron Learning \n",
    "***\n",
    "\n",
    "**Part A**: Consider learning the following concepts with either a single-layer or multilayer perceptron where all hidden and output neurons utilize indicator activation functions.  For each of the following concepts, state whether the concept can be learned by a single-layer perceptron.  **Briefly** justify your response: \n",
    "\n",
    "i. $~ \\texttt{ NOT } x_1$ \n",
    "\n",
    "ii. $~~x_1 \\texttt{ NOR } x_2$ \n",
    "\n",
    "iii. $~~x_1 \\texttt{ XNOR } x_2$ \n"
   ]
  },
  {
   "cell_type": "markdown",
   "metadata": {
    "collapsed": true,
    "scrolled": true
   },
   "source": [
    "#### i. NOT $x_{1}$ can be learned by a single-layer perceptron. This is because the concept can be either 0 or 1 and if represented on a graph, these data points are linearly seperable. Meaning that it can be classifed by the perceptron.\n",
    "\n",
    "#### II. $x_{1}$ NOR $x_{2}$ can be learned by a single-layer perceptron. As data points, these values could be represented as:\n",
    "|$x_{1}$| $x_{2}$|$~~x_1$ NOR $x_2$|\n",
    "|-------|--------|------------------|\n",
    "| 0     |   0    | 1                |\n",
    "| 0     |   1    | 0                |\n",
    "| 1     |   0    | 0                |\n",
    "| 1     |   1    | 0                |\n",
    "##### Which when plotted, it is clear that this data is linearly seperable as well.\n",
    "\n",
    "#### III. $x_{1}$ XNOR $x_{2}$ can NOT be learned by a single-layer perceptron because when these data points are plotted, they are not lineraly seperable.\n",
    "\n",
    "|$x_{1}$| $x_{2}$|$~~x_1$ XNOR $x_2$|\n",
    "|-------|--------|------------------|\n",
    "| 0     |   0    | 1                |\n",
    "| 0     |   1    | 0                |\n",
    "| 1     |   0    | 0                |\n",
    "| 1     |   1    | 1                |"
   ]
  },
  {
   "cell_type": "markdown",
   "metadata": {},
   "source": [
    "**Part B**: Determine an architecture and specific values of the weights and biases in a single-layer or multilayer perceptron with indicator activation functions that can learn $x_1 \\texttt{ XNOR } x_2$. Describe your architecture and state your weight matrices and bias vectors in Markdown below. Then demonstrate that your solution is correct by implementing forward propagation for your network in Python and showing that it correctly produces the correct boolean output values for each of the four possible combinations of $x_1$ and $x_2$.  "
   ]
  },
  {
   "cell_type": "code",
   "execution_count": null,
   "metadata": {
    "collapsed": true,
    "scrolled": true
   },
   "outputs": [],
   "source": []
  },
  {
   "cell_type": "markdown",
   "metadata": {},
   "source": [
    "### [20 points] Problem 2 - Back Propagation and Deep Networks\n",
    "***\n",
    "\n",
    "In this problem you'll gain some intuition about why training deep neural networks can be very time consuming.  Consider training the chain-like neural network seen below: \n",
    "\n",
    "![chain-like nn](figs/chain_net.png)\n",
    "\n",
    "Note that this network has three weights $W^1, W^2, W^3$ and three biases $b^1, b^2,$ and $b^3$ (for this problem you can think of each parameter as a single value or as a $1 \\times 1$ matrix). Suppose that each hidden and output neuron is equipped with a sigmoid activation function and the loss function is given by \n",
    "\n",
    "$$\n",
    "C(y, a^4) = \\frac{1}{2}(y - a^4)^2  \n",
    "$$\n",
    "\n",
    "where $a^4$ is the value of the activation at the output neuron and $y \\in \\{0,1\\}$ is the true label associated with the training example. "
   ]
  },
  {
   "cell_type": "markdown",
   "metadata": {},
   "source": [
    "**Part A**: Suppose each of the weights is initialized to $W^k = 1.0$ and each bias is initialized to $b^k = -0.5$.  Use forward propagation to find the activities and activations associated with each hidden and output neuron for the training example $(x, y) = (0.5,0)$. Show your work. "
   ]
  },
  {
   "cell_type": "markdown",
   "metadata": {
    "collapsed": true
   },
   "source": [
    "##### With training example $X = 0.5$ and $y=0$ , our weight is initialized to $W^1 = 1.0$ and bias $b^{1} = -0.5$\n",
    "\n",
    "#### <center> Layer 1\n",
    "$$Z^{2} = W^{1} \\cdot X + b^{1}$$\n",
    "\n",
    "$$Z^{2} = 1 \\cdot 0.5 - 0.5$$\n",
    "\n",
    "$$\\boxed{Z^{2} = 0}$$\n",
    "\n",
    "$$a^{2} = g(Z^{2})$$\n",
    "\n",
    "###### Where the function g is defined as our activation function. $g(Z^{l+1}) = \\frac{1}{1 + e^{-Z^{l+1}}}$\n",
    "\n",
    "$$a^{2} = \\frac{1}{1 + e^{0}}$$\n",
    "\n",
    "$$\\boxed{a^{2} = 0.5}$$\n",
    "\n",
    "#### <center> Layer 2\n",
    "$$Z^{3} = W^{2} \\cdot a^{2} + b^{2}$$\n",
    "\n",
    "$$Z^{3} = 1 \\cdot 0.5 - 0.5$$\n",
    "\n",
    "$$\\boxed{Z^{3} =0}$$\n",
    "\n",
    "$$a^{3} = g(Z^{3})$$\n",
    "\n",
    "$$a^{3} = \\frac{1}{1 + e^{0}}$$\n",
    "\n",
    "$$\\boxed{a^{3} = 0.5}$$\n",
    "\n",
    "\n",
    "#### <center> Layer 3\n",
    "$$Z^{4} = W^{3} \\cdot a^{3} + b^{3}$$\n",
    "\n",
    "$$Z^{4} = 1 \\cdot 0.5 - 0.5$$\n",
    "\n",
    "$$\\boxed{Z^{4} =0}$$\n",
    "\n",
    "$$a^{4} = g(Z^{4})$$\n",
    "\n",
    "$$a^{4} = \\frac{1}{1 + e^{0}}$$\n",
    "\n",
    "$$\\boxed{a^{4} = 0.5}$$\n",
    "\n",
    "##### In Summary, \n",
    "\n",
    "||$Z^{Layer + 1}$ | $a^{Layer+1}$ |\n",
    "|------|:------:|-------|\n",
    "|Layer1| 0    | 0.5   | \n",
    "|Layer2| 0    | 0.5   | \n",
    "|Layer3| 0    | 0.5   | "
   ]
  },
  {
   "cell_type": "markdown",
   "metadata": {},
   "source": [
    "**Part B**: Compute the value of $\\delta^4$ associated with the given training example. Show all work.  "
   ]
  },
  {
   "cell_type": "markdown",
   "metadata": {
    "collapsed": true
   },
   "source": [
    "##### The general formula for finding this value will be $\\delta^{4} = (a^4 - y) \\odot g(z^4) \\odot (1-g(z^4))$\n",
    "\n",
    "$$\\delta^{4} = (0.5 - 0) \\odot g(0) \\odot (1-g(0))$$\n",
    "\n",
    "$$\\delta^{4} = \\frac{1}{2} \\odot \\frac{1}{2} \\odot \\frac{1}{2}$$\n",
    "\n",
    "$$\\boxed{\\delta^{4} = \\frac{1}{8}}$$\n"
   ]
  },
  {
   "cell_type": "markdown",
   "metadata": {},
   "source": [
    "**Part C**: Use Back-Propagation to compute the weight and bias derivatives $\\partial C / \\partial W^k$ and $\\partial C / \\partial b^k$ for $k=1, 2, 3$.  Show all work. "
   ]
  },
  {
   "cell_type": "markdown",
   "metadata": {
    "collapsed": true
   },
   "source": [
    "#### In general, $\\frac{\\partial C}{\\partial W^{k}}= \\delta^{k+1}(a^{k})^T$ and $\\frac{\\partial C}{\\partial b^{k}} = \\delta^{k+1}$\n",
    "\n",
    "#### For k=3\n",
    "$$\\frac{\\partial C}{\\partial W^{3}}= \\delta^{4}(a^{3})^T$$\n",
    "\n",
    "$$\\frac{\\partial C}{\\partial W^{3}}= \\frac{1}{8}\\cdot \\frac{1}{2}$$\n",
    "\n",
    "$$\\boxed{\\frac{\\partial C}{\\partial W^{3}}= \\frac{1}{16}}$$\n",
    "\n",
    "$$\\frac{\\partial C}{\\partial b^{3}} = \\delta^{4}$$\n",
    "\n",
    "$$\\boxed{\\frac{\\partial C}{\\partial b^{3}} = \\frac{1}{8}}$$\n",
    "\n",
    "#### For k=2\n",
    "<center> First we need $\\delta^3$\n",
    "    \n",
    "$$\\delta^3 = (W^{3})^T \\delta^4 \\odot g\\prime(z^3)$$\n",
    "$$\\delta^3 = (1)^T \\frac{1}{8} \\odot \\frac{1}{2} \\cdot \\frac{1}{2}$$\n",
    "$$\\delta^3 = \\frac{1}{32}$$\n",
    "\n",
    "$$\\frac{\\partial C}{\\partial W^{2}}= \\delta^{3}(a^{2})^T$$"
   ]
  },
  {
   "cell_type": "markdown",
   "metadata": {},
   "source": [
    "**Part D**: Comment on your observations in **Part C**.  In particular, compare the rate at which weights will be learned in the earlier layers to the later layers.  What would happen if we had an even deeper network? "
   ]
  },
  {
   "cell_type": "code",
   "execution_count": null,
   "metadata": {
    "collapsed": true,
    "scrolled": true
   },
   "outputs": [],
   "source": []
  },
  {
   "cell_type": "markdown",
   "metadata": {},
   "source": [
    "### [40 points] Problem 3: Building and Training a Feed-Forward Neural Network \n",
    "***\n",
    "\n",
    "In this problem you'll implement a general feed-forward neural network class that utilizes sigmoid activation functions. Your tasks will be to implement `forward propagation`, `prediction`, `back propagation`, and a general `train` routine to learn the weights in your network via Stochastic Gradient Descent.  \n",
    "\n",
    "The skeleton for the `Network` class is below. Note that this class is almost identical to the one you worked with in the **Hands-On Neural Network** in-class notebook, so you should look there to remind yourself of the details.   Scroll down to find more information about your tasks as well as unit tests. \n",
    "\n",
    "**Important Note**: In **Problem 4** we'll be using the `Network` class to train a network to do handwritten digit recognition.  Please make sure to utilize vectorized Numpy routines as much as possible, as writing inefficient code here will cause very slow training times in **Problem 4**. "
   ]
  },
  {
   "cell_type": "code",
   "execution_count": 86,
   "metadata": {
    "ExecuteTime": {
     "end_time": "2018-03-13T09:10:15.724906Z",
     "start_time": "2018-03-13T09:10:15.345793Z"
    },
    "scrolled": true
   },
   "outputs": [],
   "source": [
    "class Network:\n",
    "    def __init__(self, sizes):\n",
    "        \"\"\"\n",
    "        Initialize the neural network \n",
    "        \n",
    "        :param sizes: a list of the number of neurons in each layer \n",
    "        \"\"\"\n",
    "        # save the number of layers in the network \n",
    "        self.L = len(sizes) \n",
    "        \n",
    "        # store the list of layer sizes \n",
    "        self.sizes = sizes  \n",
    "        \n",
    "        # initialize the bias vectors for each hidden and output layer \n",
    "        self.b = [np.random.randn(n) for n in self.sizes[1:]]\n",
    "        \n",
    "        # initialize the matrices of weights for each hidden and output layer \n",
    "        self.W = [np.random.randn(n, m) for (m,n) in zip(self.sizes[:-1], self.sizes[1:])]\n",
    "        \n",
    "        # initialize the derivatives of biases for backprop \n",
    "        self.db = [np.zeros(n) for n in self.sizes[1:]]\n",
    "        \n",
    "        # initialize the derivatives of weights for backprop \n",
    "        self.dW = [np.zeros((n, m)) for (m,n) in zip(self.sizes[:-1], self.sizes[1:])]\n",
    "        \n",
    "        # initialize the activities on each hidden and output layer \n",
    "        self.z = [np.zeros(n) for n in self.sizes]\n",
    "        \n",
    "        # initialize the activations on each hidden and output layer \n",
    "        self.a = [np.zeros(n) for n in self.sizes]\n",
    "        \n",
    "        # initialize the deltas on each hidden and output layer \n",
    "        self.delta = [np.zeros(n) for n in self.sizes]\n",
    "        \n",
    "        #initialize empty arrays for accuracies on train and valid data sets\n",
    "        self.train_accuracy = []\n",
    "        self.valid_accuracy = []\n",
    "        \n",
    "    def g(self, z):\n",
    "        \"\"\"\n",
    "        sigmoid activation function \n",
    "        \n",
    "        :param z: vector of activities to apply activation to \n",
    "        \"\"\"\n",
    "        z = np.clip(z, -20, 20)\n",
    "        return 1.0/(1.0 + np.exp(-z))\n",
    "    \n",
    "    def g_prime(self, z):\n",
    "        \"\"\"\n",
    "        derivative of sigmoid activation function \n",
    "        \n",
    "        :param z: vector of activities to apply derivative of activation to \n",
    "        \"\"\"\n",
    "        return self.g(z) * (1.0 - self.g(z))\n",
    "    \n",
    "    def gradC(self, a, y):\n",
    "        \"\"\"\n",
    "        evaluate gradient of cost function for squared-loss C(a,y) = (a-y)^2/2 \n",
    "        \n",
    "        :param a: activations on output layer \n",
    "        :param y: vector-encoded label \n",
    "        \"\"\"\n",
    "        return (a - y)\n",
    "    \n",
    "    def forward_prop(self, x):\n",
    "        \"\"\"\n",
    "        take an feature vector and propagate through network \n",
    "        \n",
    "        :param x: input feature vector \n",
    "        \"\"\"\n",
    "        \n",
    "        # TODO: Initialize activation on initial layer to x \n",
    "        self.a[0] = x\n",
    "        # TODO: Loop over layers and compute activities and activations\n",
    "        for ii in range(0,self.L-1): #stop one before end \n",
    "            self.z[ii+1] = np.dot(self.W[ii],self.a[ii]) + self.b[ii]\n",
    "            self.a[ii+1] = self.g(self.z[ii+1])\n",
    "        \n",
    "    def predict(self, X):\n",
    "        \"\"\"\n",
    "        Predicts on the the data in X. Assume at least two output neurons so predictions\n",
    "        are one-hot encoded vectorized labels. \n",
    "        \n",
    "        :param X: a matrix of data to make predictions on \n",
    "        :return y: a matrix of vectorized labels \n",
    "        \"\"\"\n",
    "        \n",
    "        yhat = np.zeros((X.shape[0], self.sizes[-1]), dtype=int)\n",
    "        \n",
    "        # TODO: Populate yhat with one-hot-coded predictions \n",
    "        for row in range(X.shape[0]):\n",
    "            self.forward_prop(X[row])\n",
    "            indx = np.argmax(self.a[-1]) #get index of predic with highest prob\n",
    "            yhat[row][indx] = 1\n",
    "\n",
    "        return yhat \n",
    "    \n",
    "    def accuracy(self, X, y):\n",
    "        \"\"\"\n",
    "        compute accuracy on labeled training set \n",
    "\n",
    "        :param X: matrix of features \n",
    "        :param y: matrix of vectorized true labels \n",
    "        \"\"\"\n",
    "        yhat = self.predict(X)\n",
    "        return np.sum(np.all(np.equal(yhat, y), axis=1)) / X.shape[0]\n",
    "            \n",
    "            \n",
    "    def back_prop(self, x, y):\n",
    "        \"\"\"\n",
    "        Back propagation to get derivatives of C wrt weights and biases for given training example\n",
    "        \n",
    "        :param x: training features  \n",
    "        :param y: vector-encoded label \n",
    "        \"\"\"\n",
    "        \n",
    "        # TODO: forward prop training example to fill in activities and activations \n",
    "        self.forward_prop(x)\n",
    "        # TODO: compute deltas on output layer \n",
    "        self.delta[-1] = self.gradC(self.a[-1], y) * self.g_prime(self.z[-1])\n",
    "        # TODO: loop backward through layers, backprop deltas, compute dWs and dbs\n",
    "        for ll in range(self.L-2, -1, -1):\n",
    "            self.dW[ll] = np.outer(self.delta[ll+1], self.a[ll])\n",
    "            self.db[ll] = self.delta[ll+1]\n",
    "            self.delta[ll] = np.dot(self.W[ll].transpose(), self.delta[ll+1]) * self.g_prime(self.z[ll])\n",
    "            \n",
    "            \n",
    "    def train(self, X_train, y_train, X_valid=None, y_valid=None, eta=0.25, lam=0.0, num_epochs=10, isPrint=True):\n",
    "        \"\"\"\n",
    "        Train the network with SGD \n",
    "        \n",
    "        :param X_train: matrix of training features \n",
    "        :param y_train: matrix of vector-encoded training labels \n",
    "        :param X_train: optional matrix of validation features \n",
    "        :param y_train: optional matrix of vector-encoded validation labels \n",
    "        :param eta: learning rate \n",
    "        :param lam: regularization strength \n",
    "        :param num_epochs: number of epochs to run \n",
    "        :param isPrint: flag indicating to print training progress or not \n",
    "        \"\"\"\n",
    "        \n",
    "        # initialize shuffled indices \n",
    "        shuffled_inds = list(range(X_train.shape[0]))\n",
    "        \n",
    "        # loop over training epochs \n",
    "        for ep in range(num_epochs):\n",
    "            if ep % 5 == 0 and X_valid.all() != None and y_valid.all() != None: # get training and validation accuracy every 5 epochs\n",
    "                self.train_accuracy.append(self.accuracy(X_train, y_train))\n",
    "                self.valid_accuracy.append(self.accuracy(X_valid, y_valid))\n",
    "            \n",
    "            # shuffle indices \n",
    "            np.random.shuffle(shuffled_inds)\n",
    "            \n",
    "            # loop over training examples \n",
    "            for ind in shuffled_inds:\n",
    "                \n",
    "                # TODO: back prop to get derivatives \n",
    "                self.back_prop(X_train[ind,:], y_train[ind,:])\n",
    "                # TODO: update weights and biases \n",
    "                self.W = [wll - eta*dwll - (eta *lam * wll) for wll, dwll in zip(self.W, self.dW)]\n",
    "                self.b = [bll - eta*dbll for bll, dbll in zip(self.b, self.db)]\n",
    "                \n",
    "            # occasionally print accuracy\n",
    "            if isPrint and ((ep+1)%10)==1:\n",
    "                self.epoch_report(ep, num_epochs, X_train, y_train, X_valid, y_valid)\n",
    "                \n",
    "        # print final accuracy\n",
    "        if isPrint:\n",
    "            self.epoch_report(ep, num_epochs, X_train, y_train, X_valid, y_valid)\n",
    "                \n",
    "                    \n",
    "    def epoch_report(self, ep, num_epochs, X_train, y_train, X_valid, y_valid):\n",
    "        \"\"\"\n",
    "        Print the accuracy for the given epoch on training and validation data \n",
    "        \n",
    "        :param ep: the current epoch \n",
    "        :param num_epochs: the total number of epochs\n",
    "        :param X_train: matrix of training features \n",
    "        :param y_train: matrix of vector-encoded training labels \n",
    "        :param X_train: optional matrix of validation features \n",
    "        :param y_train: optional matrix of vector-encoded validation labels \n",
    "        \"\"\"\n",
    "        \n",
    "        print(\"epoch {:3d}/{:3d}: \".format(ep+1, num_epochs), end=\"\")\n",
    "        print(\"  train acc: {:8.3f}\".format(self.accuracy(X_train, y_train)), end=\"\")\n",
    "        if X_valid is not None: print(\"  valid acc: {:8.3f}\".format(self.accuracy(X_valid, y_valid)))\n",
    "        else: print(\"\")   \n",
    "    "
   ]
  },
  {
   "cell_type": "markdown",
   "metadata": {},
   "source": [
    "**Part A**: Complete the `forward_prop` function in the `Network` class to implement forward propagation.  Your function should take in a single training example `x` and propagate it forward in the network, setting the activations and activities on the hidden and output layers.  When you think you're done, execute the following unit test. "
   ]
  },
  {
   "cell_type": "code",
   "execution_count": 70,
   "metadata": {
    "ExecuteTime": {
     "end_time": "2018-03-13T09:10:17.610306Z",
     "start_time": "2018-03-13T09:10:17.602365Z"
    },
    "scrolled": true
   },
   "outputs": [
    {
     "name": "stderr",
     "output_type": "stream",
     "text": [
      "testForwardProp (__main__.TestNN) ... ok\n",
      "\n",
      "----------------------------------------------------------------------\n",
      "Ran 1 test in 0.001s\n",
      "\n",
      "OK\n"
     ]
    }
   ],
   "source": [
    "%run -i tests/tests.py \"prob 3A\""
   ]
  },
  {
   "cell_type": "markdown",
   "metadata": {},
   "source": [
    "**Part B**: Complete the `predict` function in the `Network` class to take in a matrix of features and return a matrix of one-hot-encoded label predictions. Your predictions should correspond to the output neuron with the largest activation.   \n",
    "\n",
    "Recall that our convention for encoding, e.g. the label $y=2$ in a classification problem with possible labels $y \\in \\{0,1,2,3\\}$ is \n",
    "\n",
    "$$\n",
    "y=2 \\quad \\Leftrightarrow \\quad y=\\left[0, 0, 1, 0\\right]\n",
    "$$\n",
    "\n",
    "So the equivalent matrix associated with the labels $y_1=3, y_2=2, y_3=0$ is \n",
    "\n",
    "$$\n",
    "y = \\begin{bmatrix}{3\\\\2\\\\0}\\end{bmatrix} \\quad \\Leftrightarrow \\quad \n",
    "y = \\begin{bmatrix}\n",
    "0 & 0 & 0 & 1 \\\\\n",
    "0 & 0 & 1 & 0 \\\\\n",
    "1 & 0 & 0 & 0 \n",
    "\\end{bmatrix}\n",
    "$$\n",
    "\n",
    "When you think your `predict` function is working well, execute the following unit test. \n"
   ]
  },
  {
   "cell_type": "code",
   "execution_count": 71,
   "metadata": {
    "ExecuteTime": {
     "end_time": "2018-03-13T09:10:19.290278Z",
     "start_time": "2018-03-13T09:10:19.282762Z"
    },
    "scrolled": false
   },
   "outputs": [
    {
     "name": "stderr",
     "output_type": "stream",
     "text": [
      "testPredict (__main__.TestNN) ... ok\n",
      "\n",
      "----------------------------------------------------------------------\n",
      "Ran 1 test in 0.001s\n",
      "\n",
      "OK\n"
     ]
    }
   ],
   "source": [
    "%run -i tests/tests.py \"prob 3B\""
   ]
  },
  {
   "cell_type": "markdown",
   "metadata": {},
   "source": [
    "**Part C**: OK, now it's time to implement back propagation.  Complete the function ``back_prop`` in the ``Network`` class to use a single training example to compute the derivatives of the loss function with respect to the weights and the biases. As in the **Hands-On** notebook, you may assume that the loss function for a single training example is given by \n",
    "\n",
    "$$\n",
    "C(y, {\\bf a}^L) = \\frac{1}{2}\\|y - {\\bf a}^L\\|^2  \n",
    "$$\n",
    "\n",
    "When you think you're done, execute the following unit test. "
   ]
  },
  {
   "cell_type": "code",
   "execution_count": 72,
   "metadata": {
    "ExecuteTime": {
     "end_time": "2018-03-13T09:10:21.407947Z",
     "start_time": "2018-03-13T09:10:21.399745Z"
    },
    "scrolled": true
   },
   "outputs": [
    {
     "name": "stderr",
     "output_type": "stream",
     "text": [
      "testBackProp (__main__.TestNN) ... ok\n",
      "\n",
      "----------------------------------------------------------------------\n",
      "Ran 1 test in 0.001s\n",
      "\n",
      "OK\n"
     ]
    }
   ],
   "source": [
    "%run -i tests/tests.py \"prob 3C\""
   ]
  },
  {
   "cell_type": "markdown",
   "metadata": {},
   "source": [
    "**Part D**: OK, now let's actually train a neural net!  Complete the missing code in ``train`` to loop over the training data in random order, call `back_prop` to get the derivatives, and then update the weights and the biases via SGD.  When you think you're done, execute the following code"
   ]
  },
  {
   "cell_type": "code",
   "execution_count": 73,
   "metadata": {
    "ExecuteTime": {
     "end_time": "2018-03-13T09:10:23.048222Z",
     "start_time": "2018-03-13T09:10:23.039936Z"
    },
    "scrolled": true
   },
   "outputs": [
    {
     "name": "stderr",
     "output_type": "stream",
     "text": [
      "testSGD (__main__.TestNN) ... ok\n",
      "\n",
      "----------------------------------------------------------------------\n",
      "Ran 1 test in 0.001s\n",
      "\n",
      "OK\n"
     ]
    }
   ],
   "source": [
    "%run -i tests/tests.py \"prob 3D\""
   ]
  },
  {
   "cell_type": "markdown",
   "metadata": {},
   "source": [
    "**Part E**: Last but not least, we should implement $\\ell$-$2$ regularization.  Modify your `train` function to incorporate regularization of the weights (but **not** the biases) in your SGD update.  As in the Lecture 18 slides, you should assume that the cost function with regularization takes the form \n",
    "\n",
    "$$\n",
    "C_\\lambda = C + \\frac{\\lambda}{2} \\displaystyle\\sum_{w} w^2\n",
    "$$\n",
    "\n",
    "where $\\sum_{w}$ sums over each weight in all layers of the network. Think carefully before you go making large changes to your code.  This modification is much simpler than you think. When you think you're done, execute the following unit test.  (Then go back and execute the test in **Part C** to make sure you didn't break anything.) "
   ]
  },
  {
   "cell_type": "code",
   "execution_count": 74,
   "metadata": {
    "ExecuteTime": {
     "end_time": "2018-03-13T09:10:25.040053Z",
     "start_time": "2018-03-13T09:10:25.031009Z"
    },
    "scrolled": true
   },
   "outputs": [
    {
     "name": "stderr",
     "output_type": "stream",
     "text": [
      "testRegularizedSGD (__main__.TestNN) ... ok\n",
      "\n",
      "----------------------------------------------------------------------\n",
      "Ran 1 test in 0.001s\n",
      "\n",
      "OK\n"
     ]
    }
   ],
   "source": [
    "%run -i tests/tests.py \"prob 3E\""
   ]
  },
  {
   "cell_type": "markdown",
   "metadata": {},
   "source": [
    "### [25 points] Problem 4: A Neural Network Classifier for Handwritten Digit Recognition \n",
    "***\n",
    "\n",
    "In this problem you'll use the Feed-Forward Neural Network framework you wrote in **Problem 3** to take an image of a handwritten digit and predict which digit it corresponds to.  \n",
    "\n",
    "![Samples of Handwritten Digits](figs/mnist.png \"MNIST Digits\")\n",
    "\n",
    "To keep run times down we'll again only consider the subset of the MNIST data set consisting of the digits $3, 7, 8$ and $9$. \n",
    "\n",
    "**Part A**: Executing the following cells will load training and validation data and plot an example handwritten digit.  Explore the training and validation sets and answer the following questions: \n",
    "\n",
    "- How many pixels are in each image in the data set?  \n",
    "- How do the true labels correspond to the associated one-hot-encoded label vectors? \n",
    "- Give an example of a network architecture with a single hidden layer that is compatible with this data. \n"
   ]
  },
  {
   "cell_type": "code",
   "execution_count": 50,
   "metadata": {
    "ExecuteTime": {
     "end_time": "2018-03-13T09:10:27.264422Z",
     "start_time": "2018-03-13T09:10:27.153070Z"
    },
    "scrolled": true
   },
   "outputs": [],
   "source": [
    "X_train, y_train, X_valid, y_valid = pickle.load(gzip.open(\"data/mnist21x21_3789_one_hot.pklz\", \"rb\"))"
   ]
  },
  {
   "cell_type": "code",
   "execution_count": 51,
   "metadata": {
    "ExecuteTime": {
     "end_time": "2018-03-13T09:10:28.454747Z",
     "start_time": "2018-03-13T09:10:28.350656Z"
    },
    "scrolled": true
   },
   "outputs": [
    {
     "name": "stdout",
     "output_type": "stream",
     "text": [
      "There are 441 pixels in each image in the data set.\n",
      "The true value to the example image above is [1 0 0 0] where similiar to problem 3, the first index represents the value 3, the second represents 7, the third 8, and the last 9. \n"
     ]
    },
    {
     "data": {
      "image/png": "[encoded data removed]",
      "text/plain": [
       "<matplotlib.figure.Figure at 0x115a3cdd8>"
      ]
     },
     "metadata": {},
     "output_type": "display_data"
    }
   ],
   "source": [
    "def view_digit(x, label=None):\n",
    "    fig = plt.figure(figsize=(3,3))\n",
    "    plt.imshow(x.reshape(21,21), cmap='gray');\n",
    "    plt.xticks([]); plt.yticks([]);\n",
    "    if label: plt.xlabel(\"true: {}\".format(label), fontsize=16)\n",
    "        \n",
    "training_index = 2\n",
    "label_dict = dict({0:3, 1:7, 2:8, 3:9})\n",
    "view_digit(X_train[training_index], label_dict[np.argmax(y_train[training_index])])\n",
    "print('There are',X_train[training_index].shape[0], 'pixels in each image in the data set.')\n",
    "print('The true value to the example image above is', y_train[training_index], 'where similiar to problem 3, the first index represents the value 3, the second represents 7, the third 8, and the last 9. ')"
   ]
  },
  {
   "cell_type": "markdown",
   "metadata": {},
   "source": [
    "**Part B**: Train a network with a single hidden layer containing $30$ neurons on the first $500$ training examples in the training set using a learning rate of $\\eta = 0.01$ for at least $50$ epochs.  What accuracy does your network achieve on the validation set?  Do you see any clear signs of overfitting?   "
   ]
  },
  {
   "cell_type": "code",
   "execution_count": 84,
   "metadata": {},
   "outputs": [
    {
     "name": "stdout",
     "output_type": "stream",
     "text": [
      "epoch   1/ 50:   train acc:    0.326\n",
      "epoch  11/ 50:   train acc:    0.612\n",
      "epoch  21/ 50:   train acc:    0.714\n",
      "epoch  31/ 50:   train acc:    0.834\n",
      "epoch  41/ 50:   train acc:    0.872\n",
      "epoch  50/ 50:   train acc:    0.880\n"
     ]
    },
    {
     "data": {
      "text/plain": [
       "0.851"
      ]
     },
     "execution_count": 84,
     "metadata": {},
     "output_type": "execute_result"
    }
   ],
   "source": [
    "single_L_Network = Network([441, 30, 4])\n",
    "single_L_Network.train(X_train[:500], y_train[:500], eta=0.01, num_epochs=50)\n",
    "single_L_Network.accuracy(X_valid, y_valid)"
   ]
  },
  {
   "cell_type": "markdown",
   "metadata": {},
   "source": [
    "##### After 50 epochs, the training accuracy was roughly 88% and the accuracy on the validation set is 85%. This does not show signs of overfitting yet..."
   ]
  },
  {
   "cell_type": "markdown",
   "metadata": {},
   "source": [
    "**Part C**: Modify the `Network` class so that it stores the accuracies on the training and validation data every $5$ epochs during the training process. Now increase the number of neurons in the hidden layer to $100$.  On a single set of axes, plot the **validation accuracy** vs epoch for networks trained on the full training set for at least 50 epochs using the learning rates $\\eta = 0.01$, $\\eta = 0.25$ and $\\eta = 1.5$.  Which learning rate seems to perform the best? What is the best accuracy achieved on the validation set?   "
   ]
  },
  {
   "cell_type": "code",
   "execution_count": 92,
   "metadata": {},
   "outputs": [
    {
     "name": "stdout",
     "output_type": "stream",
     "text": [
      "epoch   1/ 50:   train acc:    0.570  valid acc:    0.567\n",
      "epoch  11/ 50:   train acc:    0.919  valid acc:    0.915\n",
      "epoch  21/ 50:   train acc:    0.940  valid acc:    0.926\n",
      "epoch  31/ 50:   train acc:    0.949  valid acc:    0.930\n",
      "epoch  41/ 50:   train acc:    0.954  valid acc:    0.936\n",
      "epoch  50/ 50:   train acc:    0.957  valid acc:    0.934\n",
      "epoch   1/ 50:   train acc:    0.928  valid acc:    0.910\n",
      "epoch  11/ 50:   train acc:    0.982  valid acc:    0.952\n",
      "epoch  21/ 50:   train acc:    0.988  valid acc:    0.956\n",
      "epoch  31/ 50:   train acc:    0.990  valid acc:    0.958\n",
      "epoch  41/ 50:   train acc:    0.992  valid acc:    0.959\n",
      "epoch  50/ 50:   train acc:    0.993  valid acc:    0.958\n",
      "epoch   1/ 50:   train acc:    0.814  valid acc:    0.817\n",
      "epoch  11/ 50:   train acc:    0.953  valid acc:    0.932\n",
      "epoch  21/ 50:   train acc:    0.966  valid acc:    0.946\n",
      "epoch  31/ 50:   train acc:    0.980  valid acc:    0.956\n",
      "epoch  41/ 50:   train acc:    0.988  valid acc:    0.953\n",
      "epoch  50/ 50:   train acc:    0.992  valid acc:    0.963\n"
     ]
    },
    {
     "data": {
      "image/png": "[encoded data removed]",
      "text/plain": [
       "<matplotlib.figure.Figure at 0x11577fcf8>"
      ]
     },
     "metadata": {},
     "output_type": "display_data"
    }
   ],
   "source": [
    "for ee in [0.01, 0.25, 1.5]:\n",
    "    bigger_network = Network([441, 100, 4])\n",
    "    bigger_network.train(X_train, y_train, X_valid, y_valid, eta=ee, num_epochs=50) \n",
    "    plt.plot(np.linspace(0,50, 10), bigger_network.valid_accuracy, label='eta=%.2f' %ee)\n",
    "\n",
    "plt.xlabel('Epochs')\n",
    "plt.ylabel('% Validation Accuracy')\n",
    "plt.title('Epochs vs Validation')\n",
    "plt.legend()    \n",
    "plt.show()"
   ]
  },
  {
   "cell_type": "markdown",
   "metadata": {},
   "source": [
    "**Part D**:  Now let's see if we can get better results with regularization. Using the best learning rate you found in **Part C**, on a single set of axes, plot the **validation accuracy** vs epoch for networks trained on the full training set for at least 50 epochs using the regularization strengths $\\lambda = 10^{-6}$, $\\lambda = 10^{-4}$ and $\\lambda = 10^{-2}$.  Which regularization strength seems to perform the best? What is the best accuracy achieved on the validation set?   "
   ]
  },
  {
   "cell_type": "code",
   "execution_count": 95,
   "metadata": {
    "scrolled": true
   },
   "outputs": [
    {
     "name": "stdout",
     "output_type": "stream",
     "text": [
      "On Lambda 1e-05\n",
      "On Lambda 0.001\n",
      "On Lambda 0.1\n"
     ]
    },
    {
     "data": {
      "image/png": "[encoded data removed]",
      "text/plain": [
       "<matplotlib.figure.Figure at 0x1135d7978>"
      ]
     },
     "metadata": {},
     "output_type": "display_data"
    }
   ],
   "source": [
    "for ll in [10e-6, 10e-4, 10e-2]:\n",
    "    print('On Lambda', str(ll))\n",
    "    bigger_network = Network([441, 100, 4])\n",
    "    bigger_network.train(X_train, y_train, X_valid, y_valid, eta=1.5,lam=ll, num_epochs=50, isPrint=False) \n",
    "    plt.plot(np.linspace(0,50, 10), bigger_network.valid_accuracy, label='lam=%.6f' %ll)\n",
    "\n",
    "plt.xlabel('Regularization')\n",
    "plt.ylabel('% Validation Accuracy')\n",
    "plt.title('Regularization vs Validation')\n",
    "plt.legend()    \n",
    "plt.show()"
   ]
  },
  {
   "cell_type": "markdown",
   "metadata": {},
   "source": [
    "**Part E**:  Now let's see if we can get better results with different network architectures. On a single set of axes, plot the **validation accuracy** vs epoch for networks trained on the full training set for at least 50 epochs using the architecture from **Part D** as well as two other architectures.  Which architecture seems to perform the best? What is the best accuracy achieved on the validation set?   "
   ]
  },
  {
   "cell_type": "code",
   "execution_count": 98,
   "metadata": {
    "scrolled": true
   },
   "outputs": [
    {
     "name": "stdout",
     "output_type": "stream",
     "text": [
      "On lambda Network\n",
      "On layer Network\n",
      "On neuron Network\n"
     ]
    },
    {
     "data": {
      "image/png": "[encoded data removed]",
      "text/plain": [
       "<matplotlib.figure.Figure at 0x1138e69b0>"
      ]
     },
     "metadata": {},
     "output_type": "display_data"
    }
   ],
   "source": [
    "#part D architecture\n",
    "lambda_network = Network([441, 100, 4])\n",
    "print('On lambda Network')\n",
    "lambda_network.train(X_train, y_train, X_valid, y_valid, eta=1.5,lam=10e-6, num_epochs=50, isPrint=False) \n",
    "plt.plot(np.linspace(0,50, 10), lambda_network.valid_accuracy, label='Part D Arch')\n",
    "\n",
    "# More hidden layers architecture\n",
    "layer_network = Network([441, 15, 20, 15, 4])\n",
    "print('On layer Network')\n",
    "layer_network.train(X_train, y_train, X_valid, y_valid, eta=1.5,lam=10e-6, num_epochs=50, isPrint=False) \n",
    "plt.plot(np.linspace(0,50, 10), layer_network.valid_accuracy, label='More Layers Arch')\n",
    "\n",
    "# More Neurons architecture\n",
    "neuron_network = Network([441, 500, 4])\n",
    "print('On neuron Network')\n",
    "neuron_network.train(X_train, y_train, X_valid, y_valid, eta=1.5,lam=10e-6, num_epochs=50, isPrint=False) \n",
    "plt.plot(np.linspace(0,50, 10), neuron_network.valid_accuracy, label='More Neurons Arch')\n",
    "print('Done.')\n",
    "\n",
    "plt.xlabel('Different Architechtures')\n",
    "plt.ylabel('% Validation Accuracy')\n",
    "plt.title('Diff Archs vs Validation')\n",
    "plt.legend()    \n",
    "plt.show()"
   ]
  },
  {
   "cell_type": "markdown",
   "metadata": {},
   "source": [
    "### [max 10 points] Extra Credit: Improving Network Performance \n",
    "***\n",
    "\n",
    "See if you can get better performance by exploring advanced techniques.  Things you might try are: \n",
    "\n",
    "- Implementing **Mini-Batch** Stochastic Gradient Descent \n",
    "- Experimenting with different activation functions (like tanh and ReLU)\n",
    "- Experimenting with different loss functions (like cross-entropy or softmax) \n",
    "\n",
    "For more detailed discussion of these techniques it'll be helpful to look at Chapter 3 of [Nielsen](http://neuralnetworksanddeeplearning.com/chap3.html). \n",
    "\n",
    "To receive the extra credit you should try at least a couple of the above and clearly describe what worked and what did not.  \n",
    "\n",
    "**Important Note**: Don't do any of these things in the original `Network` class, because you'll almost certainly break the unit tests.  Copy the `Network` class from above and rename it `BetterNetwork` (or something) and modify the new class. \n"
   ]
  },
  {
   "cell_type": "code",
   "execution_count": null,
   "metadata": {
    "collapsed": true,
    "scrolled": true
   },
   "outputs": [],
   "source": []
  }
 ],
 "metadata": {
  "kernelspec": {
   "display_name": "Python 3",
   "language": "python",
   "name": "python3"
  },
  "language_info": {
   "codemirror_mode": {
    "name": "ipython",
    "version": 3
   },
   "file_extension": ".py",
   "mimetype": "text/x-python",
   "name": "python",
   "nbconvert_exporter": "python",
   "pygments_lexer": "ipython3",
   "version": "3.6.0"
  }
 },
 "nbformat": 4,
 "nbformat_minor": 2
}
