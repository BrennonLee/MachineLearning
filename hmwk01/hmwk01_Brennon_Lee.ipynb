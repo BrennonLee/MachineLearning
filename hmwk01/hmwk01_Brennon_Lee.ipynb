{
 "cells": [
  {
   "cell_type": "markdown",
   "metadata": {},
   "source": [
    "# Homework 1: Regression, Regularization, and the Bias-Variance Trade-Off\n",
    "***\n",
    "\n",
    "**Name**: Brennon Lee\n",
    "\n",
    "***\n",
    "\n",
    "This assignment is due on Moodle by **5pm on Friday February 2nd**. Your solutions to theoretical questions should be done in Markdown/MathJax directly below the associated question.  Your solutions to computational questions should include any specified Python code and results as well as written commentary on your conclusions.  Remember that you are encouraged to discuss the problems with your instructors and classmates, but **you must write all code and solutions on your own**.  For a refresher on the course **Collaboration Policy** click [here](https://github.com/chrisketelsen/CSCI-4622-Machine-Learning/blob/master/resources/syllabus.md#collaboration-policy).\n",
    "\n",
    "**NOTES**: \n",
    "\n",
    "- Do **NOT** load or use any Python packages that are not available in Anaconda 3.6. \n",
    "- Some problems with code may be autograded.  If we provide a function API **do not** change it.  If we do not provide a function API then you're free to structure your code however you like. \n",
    "- Submit only this Jupyter notebook to Moodle.  Do not compress it using tar, rar, zip, etc. "
   ]
  },
  {
   "cell_type": "code",
   "execution_count": 5,
   "metadata": {
    "scrolled": true
   },
   "outputs": [],
   "source": [
    "import numpy as np\n",
    "import matplotlib.pylab as plt\n",
    "%matplotlib inline"
   ]
  },
  {
   "cell_type": "markdown",
   "metadata": {},
   "source": [
    "### [10 points] Problem 1 - Getting Comfortable with MathJax/LaTeX\n",
    "***\n",
    "\n",
    "Most homeworks in this course will require you to write solutions to at least one or two math-based exercises.  This problem is designed to motivate you to learn some MathJax-LaTeX for typesetting math in Jupyter Notebooks.  [LaTeX](https://en.wikipedia.org/wiki/LaTeX) is a markup language used for typesetting mathematical formulas and documents.  [MathJax](https://en.wikipedia.org/wiki/MathJax) is a LaTeX plug-in for Markdown that brings some LaTeX functionality to Jupyter. A good tutorial on MathJax can be found in this [StackExchange post](https://math.meta.stackexchange.com/questions/5020/mathjax-basic-tutorial-and-quick-reference/5024). \n",
    "\n",
    "Your goal is this problem is to use MathJax to reproduce a collection of formulas as accurately as possible. Note that because computing environments vary from person to person, you shouldn't worry about tiny details like matching fonts (though you should worry about normal vs italic vs bold).  Just do your best to get reasonably close. "
   ]
  },
  {
   "cell_type": "markdown",
   "metadata": {},
   "source": [
    "**Part A** Reproduce the expression shown below using MathJax: \n",
    "\n",
    "<img src=\"figs/prob1A.png\" width=\"300\">\n",
    "\n",
    "\n"
   ]
  },
  {
   "cell_type": "markdown",
   "metadata": {
    "collapsed": true
   },
   "source": [
    "$$\\hat{y_{i}} = \\hat{\\beta_{0}} + \\hat{\\beta_{1}} x_{i1} + \\hat{\\beta_{2}} x_{i2} + \\cdot\\cdot\\cdot + \\hat{\\beta_{p}} x_{ip} $$"
   ]
  },
  {
   "cell_type": "markdown",
   "metadata": {},
   "source": [
    "**Part B** Reproduce the expression shown below using MathJax: \n",
    "\n",
    "<img src=\"figs/prob1B.png\" width=\"180\">\n",
    "\n",
    "\n"
   ]
  },
  {
   "cell_type": "markdown",
   "metadata": {
    "collapsed": true
   },
   "source": [
    "$$\n",
    "\\begin{bmatrix}\n",
    "    1 & x_{11} \\\\\n",
    "    1 & x_{21} \\\\\n",
    "    1 & x_{31}\n",
    "\\end{bmatrix}\n",
    "\\begin{bmatrix}\n",
    "    \\beta_{0} \\\\\n",
    "    \\beta_{1}\n",
    "\\end{bmatrix}\n",
    "=\n",
    "\\begin{bmatrix}\n",
    "    y_{1} \\\\\n",
    "    y_{2} \\\\\n",
    "    y_{3}\n",
    "\\end{bmatrix}\n",
    "$$"
   ]
  },
  {
   "cell_type": "markdown",
   "metadata": {},
   "source": [
    "**Part C** Reproduce the expression shown below using MathJax: \n",
    "\n",
    "<img src=\"figs/prob1C.png\" width=\"250\">\n",
    "\n",
    "\n"
   ]
  },
  {
   "cell_type": "markdown",
   "metadata": {
    "collapsed": true
   },
   "source": [
    "$$p(y=1 \\hspace{0.1cm} |\\hspace{0.1cm}\\textbf{x}) = \\frac{1}{1+exp(-\\textbf{x}^{T}\\boldsymbol{\\beta})} $$"
   ]
  },
  {
   "cell_type": "markdown",
   "metadata": {},
   "source": [
    "### [30 points] Problem 2 - Building a Data Storage Class \n",
    "***\n",
    "\n",
    "In this exercise you will get some practice constructing classes in Python.  If you are rusty on object-oriented Python, you should check out [this tutorial](https://www.digitalocean.com/community/tutorials/how-to-construct-classes-and-define-objects-in-python-3).  Our goal will be to create a class which takes in a set of labeled data, randomly splits it into training and validation sets, and then stores these sets for later use. You will also implement the ability to mean-center and standardize features, and apply these same transformations to new test data after the fact.  A starting point for RegressionData class appears below.  \n",
    "\n",
    "**Notes**: \n",
    "- This problem will be graded by unit test, so do not change function or method APIs, but feel free to create any additional variables or methods that you think will be helpful. We've given you access to versions of those unit tests down below, so you'll be able to check your work as you go.  \n",
    "- Do not use any additional functions from sklearn.  (There is an sklearn function called train_test_split that does something similar.  You'll be allowed to use it later on.  This exercise is about getting your hands dirty so you can understand how things work under the hood)\n",
    "\n"
   ]
  },
  {
   "cell_type": "code",
   "execution_count": 6,
   "metadata": {},
   "outputs": [],
   "source": [
    "class RegressionData:\n",
    "    \"\"\"\n",
    "    Class to store data for regression problems \n",
    "    \"\"\"\n",
    "    def __init__(self, X, y, train_frac=0.8, center=False, standardize=False, random_state=1234):\n",
    "        \"\"\"\n",
    "        Creates a RegressionData instance\n",
    "\n",
    "        :param X: (n x p) ndarray of feature data \n",
    "        :param y: (n x 1) ndarray of labels/targets  \n",
    "        :param train_frac: float indicating fraction of data to train on \n",
    "        :param center: bool indicating whether to mean-center the features \n",
    "        :param standardize: bool indicating whether to mean_center and standardize \n",
    "        :param random_state: integer seed for random number generators\n",
    "        \"\"\"\n",
    "        \n",
    "        # Set random seed (for testing purposes, don't change this line) \n",
    "        np.random.seed(random_state)\n",
    "        \n",
    "        # These should probably be set, eventually\n",
    "        self.X_train = None\n",
    "        self.y_train = None\n",
    "        self.X_valid = None\n",
    "        self.y_valid = None\n",
    "        \n",
    "        self.X_train_mean = None\n",
    "        self.y_train_mean = None\n",
    "        self.X_train_stand_dev = None\n",
    "        self.y_train_stand_dev = None\n",
    "        self.center = center\n",
    "        self.standardize = standardize\n",
    "    \n",
    "        # Perform train-validation split \n",
    "        self.train_valid_split(X, y, train_frac)\n",
    "            \n",
    "        # standardize and/or center the data if requested\n",
    "        self.transform_train_valid(center, standardize)\n",
    "        \n",
    "    def train_valid_split(self, X, y, train_frac):\n",
    "        \"\"\"\n",
    "        Randomly splits the data into training and validation sets \n",
    "\n",
    "        :param X: (n x p) ndarray of feature data \n",
    "        :param y: (n x 1) ndarray of labels/targets  \n",
    "        :param train_frac: float indicating fraction of data to train on \n",
    "        \"\"\"\n",
    "        train_portion = int(X.shape[0] * train_frac) # Get training portion\n",
    "        row_indexes = np.random.choice(X.shape[0], train_portion, replace=False)\n",
    "        self.X_train = X[row_indexes]\n",
    "        self.y_train = y[row_indexes]\n",
    "        self.X_valid = np.delete(X, row_indexes, 0)\n",
    "        self.y_valid = np.delete(y, row_indexes, 0)\n",
    "        return\n",
    "        \n",
    "    def transform_train_valid(self, center, standardize):\n",
    "        \"\"\"\n",
    "        Standardizes and/or centers train and validation sets, if requested\n",
    "\n",
    "        :param center: bool indicating whether to mean-center the features \n",
    "        :param standardize: bool indicating whether to mean_center and standardize \n",
    "        \"\"\"\n",
    "        \n",
    "        #get mean of columns\n",
    "        self.X_train_mean = self.X_train.mean(axis=0)\n",
    "        self.y_train_mean = self.y_train.mean(axis=0)\n",
    "        \n",
    "        if (center):\n",
    "            self.center = True\n",
    "            \n",
    "            # center training data\n",
    "            for index in range(0, self.X_train.shape[0]):\n",
    "                self.X_train[index] = self.X_train[index] - self.X_train_mean\n",
    "\n",
    "            # center validation data\n",
    "            for index in range(0, self.X_valid.shape[0]):\n",
    "                self.X_valid[index] = self.X_valid[index] - self.X_train_mean\n",
    "            \n",
    "        if (standardize):\n",
    "            self.standardize = True\n",
    "            \n",
    "            # get Stand Dev\n",
    "            self.X_train_stand_dev = self.X_train.std(axis=0)\n",
    "            self.y_train_stand_dev = self.y_train.std(axis=0)\n",
    "            \n",
    "            # center & standardize training data\n",
    "            for index in range(0, self.X_train.shape[0]):\n",
    "                self.X_train[index] = self.X_train[index] / self.X_train_stand_dev\n",
    "                \n",
    "            # center & standardize validation data\n",
    "            for index in range(0, self.X_valid.shape[0]):\n",
    "                self.X_valid[index] = self.X_valid[index] / self.X_train_stand_dev\n",
    "        return\n",
    "        \n",
    "    def transform(self, X):\n",
    "        \"\"\"\n",
    "        Applies transformations performed on training set to \n",
    "        previously unseen data x \n",
    "\n",
    "        :param X: (m x p) ndarray of feature data \n",
    "        \"\"\"\n",
    "        Xt = X.copy()\n",
    "        if (self.center):\n",
    "            for index in range(0, Xt.shape[0]):\n",
    "                Xt[index] = Xt[index] - self.X_train_mean\n",
    "        \n",
    "        if (self.standardize):\n",
    "            for index in range(0, Xt.shape[0]):\n",
    "                Xt[index] = Xt[index] / self.X_train_stand_dev \n",
    "        return Xt "
   ]
  },
  {
   "cell_type": "markdown",
   "metadata": {},
   "source": [
    "**Part A**: Complete the method `train_valid_split` to randomly initialize the train and validation data according to the split proportion indicated by `train_frac`. When you think you're done, execute the unit tests at the end of this problem.  If you're successful, you should pass the first 2 tests.  Don't move on until you've passed them! \n"
   ]
  },
  {
   "cell_type": "code",
   "execution_count": null,
   "metadata": {},
   "outputs": [],
   "source": []
  },
  {
   "cell_type": "markdown",
   "metadata": {},
   "source": [
    "**Part B**: Complete the method `transform_train_valid` function to standardize and/or center the features depending on the values of `center` and `standardize`.  Remember that if both flags are set, each column in the **training data** should be shifted to have mean zero, and then scaled to have standard deviation of 1. Each column of the validation data should then undergo the same shift and scale **based on the training data**.  When you think you're done, execute the unit tests again. If you're successful, you should pass four more unit tests.  Don't move on until you do! \n",
    "\n",
    "**Notes**: \n",
    "\n",
    "- How you implement this method might affect **Part C**.  It's a good idea to read **Part C** now so that you can plan ahead. \n",
    "- It's rare in a regression setting that you would ever standardize a feature without centering it first, so we will not be testing this case. "
   ]
  },
  {
   "cell_type": "code",
   "execution_count": null,
   "metadata": {},
   "outputs": [],
   "source": []
  },
  {
   "cell_type": "markdown",
   "metadata": {},
   "source": [
    "**Part C**: Suppose that later on in your pipeline you collect a new set of data that you would like to test your model on.  Since your model was probably constructed using the transformed features of your training set, you have to apply that same transformation to your new data.  Complete the `transform` function above so that it takes in an ndarray of newly acquired data and returns the appropriately transformed version. When you think you're done, execute the unit tests one more time.  If you're successful, you should pass the final test, at which point you will be done with this problem forever (sorta).   \n"
   ]
  },
  {
   "cell_type": "code",
   "execution_count": null,
   "metadata": {},
   "outputs": [],
   "source": []
  },
  {
   "cell_type": "code",
   "execution_count": 7,
   "metadata": {},
   "outputs": [
    {
     "name": "stderr",
     "output_type": "stream",
     "text": [
      "..\n",
      "----------------------------------------------------------------------\n",
      "Ran 2 tests in 0.004s\n",
      "\n",
      "OK\n",
      "....\n",
      "----------------------------------------------------------------------\n",
      "Ran 4 tests in 0.008s\n",
      "\n",
      "OK\n",
      ".\n",
      "----------------------------------------------------------------------\n",
      "Ran 1 test in 0.002s\n",
      "\n",
      "OK\n"
     ]
    }
   ],
   "source": [
    "# Execute this cell to run unit tests \n",
    "%run -i tests/tests.py"
   ]
  },
  {
   "cell_type": "markdown",
   "metadata": {},
   "source": [
    "### [30 points] Problem 3 - Solving Ridge Regression\n",
    "***\n",
    "\n",
    "In this problem you'll derive a closed form solution for single-feature Ridge Regression and use it to interpret the behavior for different values of the regularization parameter $\\lambda$. Recall that for a model of the form $Y = \\beta_0 + \\beta_1 X + \\epsilon$ and a training set $\\{(x_i, y_i)\\}_{i=1}^n$, the parameter estimates are obtained by minimizing the penalized RSS: \n",
    "\n",
    "$$\n",
    "\\hat{\\boldsymbol{\\beta}} = \\underset{\\boldsymbol{\\beta}}{\\textrm{argmin}} ~\\textrm{RSS}_\\lambda =  \\underset{\\boldsymbol{\\beta}}{\\textrm{argmin}} \\sum_{i=1}^n \\left( \\beta_0 + \\beta_1 x_i - y_i\\right)^2 + \\lambda \\beta_1^2\n",
    "$$\n",
    "\n",
    "In Calc 1 you saw that you can find the value of the parameter that minimizes a function by taking a derivative with respect to that parameter, setting it to 0, and solving. The problem here is that we have **two** parameters we need to minimize over. It turns out, for a certain class of problems, we can solve for two parameters in a similar way.  For two parameters we can take _partial_ derivatives with respect to each parameter, set equal to zero, and solve simultaneously for the optimal parameters.  That is, we want to solve the following two equations for $\\beta_0$ and $\\beta_1$: \n",
    "\n",
    "$$\n",
    "\\dfrac{\\partial~\\textrm{RSS}_\\lambda}{\\partial \\beta_0} = 0 \n",
    "\\quad \\textrm{and} \\quad\n",
    "\\dfrac{\\partial~\\textrm{RSS}_\\lambda}{\\partial \\beta_1} = 0 \n",
    "$$\n",
    "\n",
    "Simple enough, right?  Kinda.  It turns out that even this is a bit tricky, unless you modify your data in a particular way. "
   ]
  },
  {
   "cell_type": "markdown",
   "metadata": {},
   "source": [
    "**Part A**: Suppose that we mean-center our feature $x$ by replacing each $x_i$ by $\\hat{x}_i = x_i - \\bar{x}$. Show that in this case, the Ridge Regression estimate of the bias is $\\hat{\\beta}_0 = \\bar{y}$ (the sample mean of the response $y$) by taking the partial derivative of $\\textrm{RSS}_\\lambda$ with respect to $\\beta_0$, setting it to zero, and solving for $\\beta_0$. "
   ]
  },
  {
   "cell_type": "markdown",
   "metadata": {},
   "source": [
    "Note that taking the partial derivative of the $RSS_{\\lambda}$ with respect to $\\beta_{0}$ yields:  $$\\frac{dRSS_{\\lambda}}{\\beta_{0}} = \\sum_{i=1}^{n} 2 \\cdot (\\beta_{0} + \\beta_{1}x_{i} - y_{i})$$\n",
    "Now setting this partial derivative to zero:\n",
    "$$\\frac{dRSS_{\\lambda}}{\\beta_{0}} =\\sum_{i=1}^{n} 2 \\cdot (\\beta_{0} + \\beta_{1}x_{i} - y_{i}) = 0 $$\n",
    "$$\\sum_{i=1}^{n} 2\\beta_{0} + 2\\beta_{1}x_{i} - 2y_{i} = 0 $$\n",
    "$$\\sum_{i=1}^{n} 2\\beta_{0} + \\sum_{i=1}^{n} 2\\beta_{1}x_{i} - \\sum_{i=1}^{n} 2y_{i} = 0 $$\n",
    "$$ 2n\\beta_{0} = \\sum_{i=1}^{n} 2y_{i} - \\sum_{i=1}^{n} 2\\beta_{1}x_{i} $$\n",
    "$$ 2n\\beta_{0} = 2 (\\sum_{i=1}^{n} y_{i} - \\sum_{i=1}^{n} \\beta_{1}x_{i}) $$\n",
    "$$ n\\beta_{0} = \\sum_{i=1}^{n} y_{i} - \\beta_{1}\\sum_{i=1}^{n}x_{i} $$\n",
    "$$ \\beta_{0} = \\frac{1}{n}\\sum_{i=1}^{n} y_{i} - \\frac{\\beta_{1}}{n}\\sum_{i=1}^{n}x_{i} $$\n",
    "But note that $\\bar{x} = \\frac{1}{n}\\sum_{i=1}^{n}x_{i}$\n",
    "$$ \\beta_{0} = \\frac{1}{n}\\sum_{i=1}^{n} y_{i} - \\beta_{1}\\bar{x} $$\n",
    "Also notice that we replaced each $x_{i}$ by $\\hat{x_{i}} = x_{i} - \\bar{x}$. Which in this case is ends with $\\bar{x} - \\bar{x} = 0$\n",
    "Leaving us with: $$\\beta_{0} = \\frac{1}{n}\\sum_{i=1}^{n} y_{i}$$\n",
    "\n",
    "$$\\boxed{\\beta_{0} = \\bar{y}}$$"
   ]
  },
  {
   "cell_type": "markdown",
   "metadata": {},
   "source": [
    "**Part B**: Next, solve for the Ridge Regression estimate of the slope, $\\hat{\\beta}_1$, by taking the partial derivative of $\\textrm{RSS}_\\lambda$ with respect to $\\beta_1$, setting it to zero, and solving for $\\beta_1$ as a function of the data and of $\\lambda$.  (**Hint**: You'll want to use the value of $\\hat{\\beta}_0$ you found in **Part A**). \n"
   ]
  },
  {
   "cell_type": "markdown",
   "metadata": {},
   "source": [
    "Note that taking the partial derivative of the $RSS_{\\lambda}$ with respect to $\\beta_{1}$ yields:  $$\\frac{dRSS_{\\lambda}}{\\beta_{1}} = \\sum_{i=1}^{n} 2x_{i}  (\\beta_{0} + \\beta_{1}x_{i} - y_{i}) + 2\\lambda \\beta_{1}$$\n",
    "\n",
    "Substituting $\\hat{x_{i}}$ for $x$ and $\\beta_{0} = 1$ Setting this partial derivative to zero yields $$\\sum_{i=1}^{n} 2\\hat{x_{i}}  (\\bar{y} + \\beta_{1}\\hat{x_{i}} - y_{i}) + 2\\lambda \\beta_{1} = 0$$\n",
    "\n",
    "$$\\sum_{i=1}^{n} \\hat{x_{i}}  (\\bar{y} + \\beta_{1}\\hat{x_{i}} - y_{i}) + \\lambda \\beta_{1} = 0$$\n",
    "\n",
    "$$\\sum_{i=1}^{n} (\\bar{y}\\hat{x_{i}} + \\beta_{1}\\hat{x_{i}^2} - y_{i}\\hat{x_{i}}) + \\lambda \\beta_{1} = 0$$\n",
    "\n",
    "$$\\lambda \\beta_{1} + \\sum_{i=1}^{n} (\\bar{y}\\hat{x_{i}} + \\beta_{1}\\hat{x_{i}^2} - y_{i}\\hat{x_{i}})= 0$$\n",
    "\n",
    "$$\\lambda \\beta_{1} + \\sum_{i=1}^{n} \\bar{y}\\hat{x_{i}} + \\sum_{i=1}^{n} \\beta_{1}\\hat{x_{i}^2} - \\sum_{i=1}^{n} y_{i}\\hat{x_{i}}= 0$$\n",
    "\n",
    "Notice that the sum $\\sum_{i=1}^{n}\\hat{x_{i}}$ is the sum of the mean which equals 0. Leaving us with:\n",
    "\n",
    "$$\\lambda \\beta_{1} + \\sum_{i=1}^{n} \\beta_{1}\\hat{x_{i}^2} - \\sum_{i=1}^{n} y_{i}\\hat{x_{i}}= 0$$\n",
    "\n",
    "$$\\beta_{1} (\\lambda + \\sum_{i=1}^{n} \\hat{x_{i}^2}) = \\sum_{i=1}^{n} y_{i}\\hat{x_{i}}$$\n",
    "\n",
    "$$\\beta_{1} (\\lambda + \\sum_{i=1}^{n} \\hat{x_{i}^2}) = \\sum_{i=1}^{n} y_{i}\\hat{x_{i}}$$\n",
    "\n",
    "$$\\boxed{ \\beta_{1} = \\frac{\\sum_{i=1}^{n} y_{i}\\hat{x_{i}}}{\\lambda + \\sum_{i=1}^{n} \\hat{x_{i}^2}} }$$"
   ]
  },
  {
   "cell_type": "markdown",
   "metadata": {},
   "source": [
    "**Part C**: Use the closed-form solution you found in **Part B** to _briefly_ describe the effect of the regularization parameter $\\lambda$ on the slope parameter as $\\lambda \\rightarrow 0$ and $\\lambda \\rightarrow \\infty$. Does this jive with the discussion of regularization from class? "
   ]
  },
  {
   "cell_type": "markdown",
   "metadata": {},
   "source": [
    "#### From **Part B**, as $\\lambda \\rightarrow 0, \\beta_{1} \\rightarrow \\infty$ and as $\\lambda \\rightarrow \\infty, \\beta_{1} \\rightarrow 0$. This correlates exactly to what we said in class."
   ]
  },
  {
   "cell_type": "markdown",
   "metadata": {},
   "source": [
    "**Part D**: Verify that the solution obtained in **Parts A** and **B** are correct by testing it on some simulated data and comparing the results to those obtained by sklearn's [Ridge Regression](http://scikit-learn.org/stable/modules/generated/sklearn.linear_model.Ridge.html) routine.  We've given you some data below, but feel free to mess with the parameters. "
   ]
  },
  {
   "cell_type": "code",
   "execution_count": 8,
   "metadata": {
    "scrolled": false
   },
   "outputs": [
    {
     "name": "stdout",
     "output_type": "stream",
     "text": [
      "beta_0 =  3.3578209831807597\n",
      "beta_1 =  2.412490526470704\n",
      "true beta_0:  3.3578209831807597\n",
      "true beta_1:  2.4124905264707035\n"
     ]
    }
   ],
   "source": [
    "lam = 2.0 \n",
    "X = np.random.uniform(size=(200,1))\n",
    "y = 2 + 3 * X[:,0] + 0.5*np.random.randn(200)\n",
    "\n",
    "# Load the data into our data structure and center it \n",
    "cdata = RegressionData(X, y, center=True)\n",
    "udata = RegressionData(X, y, center=False)\n",
    "\n",
    "def get_beta1(xdata, ydata):\n",
    "    num = 0\n",
    "    dem = 0\n",
    "    for index in range(0, xdata.shape[0]):\n",
    "        num +=  ydata[index] * xdata[index]\n",
    "        dem += xdata[index]**2\n",
    "    return(num/(dem + lam))[0]\n",
    "    \n",
    "# Compute beta_0 and beta_1 using the formulas you derived above\n",
    "b0 = np.mean(cdata.y_train, axis=0)\n",
    "print(\"beta_0 = \", b0)\n",
    "b1 = get_beta1(cdata.X_train, cdata.y_train)\n",
    "print(\"beta_1 = \", b1)\n",
    "\n",
    "# Compute beta_0 and beta_1 by calling Ridge()\n",
    "from sklearn.linear_model import Ridge \n",
    "clf = Ridge(alpha = lam)\n",
    "clf.fit(cdata.X_train, cdata.y_train)\n",
    "print(\"true beta_0: \", clf.intercept_)\n",
    "print(\"true beta_1: \", clf.coef_[0])\n",
    "true_b0, true_b1 = clf.intercept_, clf.coef_[0]"
   ]
  },
  {
   "cell_type": "markdown",
   "metadata": {},
   "source": [
    "**Part E**: We claimed in the class that if you built a regularized regression model based on centered features, the model would make the same prediction as an equivalent model built with un-centered features. Verify this fact by \n",
    "\n",
    "- Predicting the response for your centered Validation set using the model you computed on your own.  \n",
    "- Predicting the response for the equivalent un-centered Validation set using sklearn's Ridge model trained on the un-centered features. \n",
    "- Showing that the predictions are the same for a reasonable subset of the Validation set. \n"
   ]
  },
  {
   "cell_type": "code",
   "execution_count": 9,
   "metadata": {
    "scrolled": true
   },
   "outputs": [
    {
     "name": "stdout",
     "output_type": "stream",
     "text": [
      "cprediction:  [4.53597335 3.60208173 4.0309336  2.87186121 4.37735719 3.85750269\n",
      " 2.77093293 4.16929715 3.38047819 3.33020157 3.24470437 3.71599214\n",
      " 4.45769811 3.03211553 4.25988862 3.76762442 4.411901   3.68795148\n",
      " 4.02821693 4.58320577 3.76837787 4.56528692 3.54768199 2.30342111\n",
      " 2.4844835  3.29336473 2.36503443 2.4808287  2.39572211 2.3818759\n",
      " 3.06809553 3.39335968 3.82358629 3.23587493 4.25198319 2.28919686\n",
      " 2.8144597  4.39074333 2.87072506 2.76582782]\n",
      "\n",
      "uprediction:  [4.53597335 3.60208173 4.0309336  2.87186121 4.37735719 3.85750269\n",
      " 2.77093293 4.16929715 3.38047819 3.33020157 3.24470437 3.71599214\n",
      " 4.45769811 3.03211553 4.25988862 3.76762442 4.411901   3.68795148\n",
      " 4.02821693 4.58320577 3.76837787 4.56528692 3.54768199 2.30342111\n",
      " 2.4844835  3.29336473 2.36503443 2.4808287  2.39572211 2.3818759\n",
      " 3.06809553 3.39335968 3.82358629 3.23587493 4.25198319 2.28919686\n",
      " 2.8144597  4.39074333 2.87072506 2.76582782]\n"
     ]
    }
   ],
   "source": [
    "\n",
    "cpredict = clf.predict(cdata.X_valid)\n",
    "print(\"cprediction: \",cpredict)\n",
    "\n",
    "ulf = Ridge(alpha=lam)\n",
    "ulf.fit(udata.X_train, udata.y_train)\n",
    "upredict = ulf.predict(udata.X_valid)\n",
    "print(\"\\nuprediction: \",upredict)"
   ]
  },
  {
   "cell_type": "markdown",
   "metadata": {},
   "source": [
    "### [30 points] Problem 4 - Polynomial Regression  and the Bias-Variance Trade-Off\n",
    "***\n",
    "\n",
    "In this problem you will use polynomial regression to explore the Bias-Variance Trade-Off. Assume that our data comes from a model of the form \n",
    "\n",
    "$$Y = f(X) + \\epsilon ~~\\textrm{ where }~~ \\epsilon \\sim N(0,\\sigma^2)$$ \n",
    "\n",
    "For our experiments we'll use $f(x) = \\sin(\\pi x)$. The following functions can be used to generate data from this distribution:"
   ]
  },
  {
   "cell_type": "code",
   "execution_count": 10,
   "metadata": {},
   "outputs": [],
   "source": [
    "def true_f(x):\n",
    "    \"\"\"\n",
    "    Returns sin(pi*x) for array of x values\n",
    "    \n",
    "    :@param x: ndarray of feature values\n",
    "    \"\"\"\n",
    "    return np.sin(np.pi * x)"
   ]
  },
  {
   "cell_type": "markdown",
   "metadata": {},
   "source": [
    "**Part A**: Generate a sample of size $n=20$ for $x$-values chosen from a uniform distribution between $0$ and $1$.  Make a scatter plot of the data overlayed with the curve of the true function $f(x) \\sin(\\pi x)$. "
   ]
  },
  {
   "cell_type": "code",
   "execution_count": 11,
   "metadata": {
    "scrolled": true
   },
   "outputs": [
    {
     "data": {
      "image/png": "[encoded data removed]",
      "text/plain": [
       "<matplotlib.figure.Figure at 0x108ab85f8>"
      ]
     },
     "metadata": {},
     "output_type": "display_data"
    }
   ],
   "source": [
    "def scatter():\n",
    "    x = np.sort(np.random.uniform(0,1,20))\n",
    "    y = np.random.normal(0, 0.05, 20)\n",
    "    plt.scatter(x, true_f(x) + y, 50)\n",
    "    plt.plot(x, true_f(x))\n",
    "    plt.show()\n",
    "    \n",
    "scatter()\n",
    "    "
   ]
  },
  {
   "cell_type": "markdown",
   "metadata": {},
   "source": [
    "**Part B**: Next we need to create a function that can fit a polynomial model to training data and make predictions for unseen data.  Complete the function `poly_predict` below to accomplish this.  Note that there are many ways to do this in Python.  Later this week we'll look into doing this with Scikit-Learn.  You're free to implement it using Scikit-Learn, but you might want to look into Numpy's polynomial fitting functions, [polyfit](https://docs.scipy.org/doc/numpy-1.13.0/reference/generated/numpy.polyfit.html) and [polyval](https://docs.scipy.org/doc/numpy-1.13.0/reference/generated/numpy.polyval.html).\n",
    "\n",
    "Demonstrate that your function is working by using it to generate a plot (similar to those shown in lecture) that include the true function $f(x)$, a scatter plot of your training data, and the curve representing your fitted model. "
   ]
  },
  {
   "cell_type": "code",
   "execution_count": 12,
   "metadata": {},
   "outputs": [
    {
     "data": {
      "image/png": "[encoded data removed]",
      "text/plain": [
       "<matplotlib.figure.Figure at 0x113d2ae48>"
      ]
     },
     "metadata": {},
     "output_type": "display_data"
    }
   ],
   "source": [
    "def poly_predict(x_train, y_train, x_valid, deg):\n",
    "    \"\"\"\n",
    "    Function to train polynomial regression model on training data\n",
    "    and then return a vector of predictions on validation data\n",
    "    \n",
    "    :@param x_train: vector of training features\n",
    "    :@param y_train: vector of training responses\n",
    "    :@param x_valid: vector of validation features to make predictions with\n",
    "    :@param deg: degree of the polynomial model \n",
    "    \"\"\"\n",
    "    coefs = np.polynomial.polynomial.polyfit(x_train, y_train, deg)\n",
    "    ffit = np.polynomial.polynomial.Polynomial(coefs)\n",
    "    prediction = ffit(x_valid)\n",
    "    return prediction\n",
    "\n",
    "\n",
    "x = np.linspace(1,5,75)\n",
    "y = true_f(x)\n",
    "zdata = RegressionData(x, y)\n",
    "\n",
    "\n",
    "predicts = poly_predict(zdata.X_train, zdata.y_train, zdata.X_valid, 13)\n",
    "\n",
    "plt.scatter(zdata.X_train, zdata.y_train, 50)\n",
    "plt.scatter(zdata.X_valid, zdata.y_valid, 50)\n",
    "plt.plot(zdata.X_valid, predicts)\n",
    "plt.show()"
   ]
  },
  {
   "cell_type": "markdown",
   "metadata": {},
   "source": [
    "**Part C**: Our goal now will be to make a plot of the decomposition of the expected validation MSE into it's constituent parts.  Recall that we showed in lecture that the expected test MSE can be written as \n",
    "\n",
    "$$\n",
    "\\textrm{E}\\left[\\left(y_0 - \\hat{f}(x_0) \\right)^2\\right] = \\left[~f(x_0) - \\textrm{E}[~\\hat{f}(x_0)~] \\right]^2\n",
    "+ \\textrm{E}\\left[ ~ \\textrm{E}[~\\hat{f}(x_0)]-\\hat{f}(x_0)~\\right]^2 + \\textrm{Var}(\\epsilon)\n",
    "= \\left[\\textrm{Bias}(~\\hat{f}(x_0)\\right]^2 + \\textrm{Var}(~\\hat{f}(x_0)~) + \\textrm{Var}(\\epsilon)\n",
    "$$\n",
    "\n",
    "where $x_0$ represents unseen validation data. We're going to run simulations to estimate $\\left[\\textrm{Bias}(~\\hat{f}(x_0)\\right]^2$ and $\\textrm{Var}(~\\hat{f}(x_0)~)$ for different polynomial models and then plot them against estimates of the true validation MSE. The function `bias_variance_study` below will help you do this.  You just need to fill in a few key parts.  At the end of the day, you should have a plot that looks like this for certain choices of the simulation parameters. \n",
    "\n",
    "The $\\textrm{Bias}^2$ term is given by \n",
    "\n",
    "$$\n",
    "\\left[\\textrm{Bias}(~\\hat{f}(x_0)\\right]^2 = \\left[~f(x_0) - \\textrm{E}[~\\hat{f}(x_0)~] \\right]^2\n",
    "$$\n",
    "\n",
    "The first term inside the square is simply the true function $f$ evaluated on the validation data.  The second term inside the square, $\\textrm{E}[~\\hat{f}(x_0)~]$, is the expected value of all estimated models evaluated on the validation data.  We can estimate this by sampling many many training sets, fitting models, evaluating them on many validation sets, and then taking the average. Complete the `squared_bias` function below to do this computation.  \n",
    "\n",
    "The next step is to estimate the $\\textrm{Variance}$.  Let's unpack it \n",
    "\n",
    "$$\n",
    "\\textrm{E}\\left[ ~ \\hat{f}(x_0) - \\textrm{E}[~\\hat{f}(x_0)]~\\right]^2\n",
    "$$\n",
    "\n",
    "Note that $\\textrm{E}[~\\hat{f}(x_0)]$ is the `mean_model` we got from the `squared_bias` function. The other term, $\\hat{f}(x_0)$, is a model estimated on a random training set, and then evaluated on the validation set.  Since we're wrapping this whole thing in an expectation, we're going to sample many many training sets, estimate $\\hat{f}(x_0)$, and then compute the mean squared deviation between these and the `mean_model`.  You will add code to the function below to accomplish this. \n",
    "\n",
    "We'll also estimate the validation MSE so we can compare this to the bias-variance decomposition, but this portion of the code is completed for you. \n",
    "\n",
    "Note that there are only three lines in the code that you need to modify (though, feel free to be more verbose if you like), each marked with a `#TODO`.  When everything is done, running the function call given below should produce a plot similar to [this](https://github.com/chrisketelsen/CSCI-4622-Machine-Learning/blob/master/hmwk/hmwk01/figs/bias_var_plot.png). "
   ]
  },
  {
   "cell_type": "code",
   "execution_count": 13,
   "metadata": {},
   "outputs": [],
   "source": [
    "def bias_variance_study(num_data, num_sims, train_frac=0.8, noiseSTD=0.4, max_deg=10, random_state=1234):\n",
    "    '''\n",
    "    Function to run simulations and estimate the squared-bias, variance, and \n",
    "    validation error of polynomial regression models. \n",
    "    \n",
    "    :@param num_data: number of points in simulated data set \n",
    "    :@param num_sims: number of simulations to run \n",
    "    :@param train_frac: fraction of total data in training set\n",
    "    :@param noiseSTD: standard deviation of noise in data \n",
    "    :@param max_deg: largest degree polynomial to analyze\n",
    "    :@param random_state: seed for random state, for reproducibility\n",
    "    '''\n",
    "    # Set random seed \n",
    "    np.random.seed(random_state)\n",
    "    \n",
    "    # array of polynomial degrees\n",
    "    degrees = range(1,max_deg+1)\n",
    "    \n",
    "    # train/valid split sizes \n",
    "    nTrain = int(np.ceil(train_frac * num_data))\n",
    "    nValid = num_data - nTrain\n",
    "    \n",
    "    # Generate grid of features and shuffle them \n",
    "    xGrid = np.linspace(-1,1,num_data)\n",
    "    np.random.shuffle(xGrid)\n",
    "    \n",
    "    # Spit into training and validation sets \n",
    "    xTrain = xGrid[:nTrain]\n",
    "    xValid = xGrid[nTrain:]\n",
    "    \n",
    "    # Dictionaries for predictions and MSE measurements\n",
    "    # Keys are polynomial degree. Each prediction is column \n",
    "    # of nValid x num_sims array. Each mse is entry in vector\n",
    "    # of length num_sims \n",
    "    yHatValid = {deg: np.zeros((nValid, num_sims)) for deg in degrees}\n",
    "    msesValid = {deg: np.zeros(num_sims) for deg in degrees}\n",
    "    varMean = {deg: np.zeros(num_sims) for deg in degrees}\n",
    "    \n",
    "    # Loop over num_sims simulated data sets\n",
    "    for tsID in range(num_sims):\n",
    "        \n",
    "        # Generate training and validation responses \n",
    "        yTrain = true_f(xTrain) + noiseSTD*np.random.randn(nTrain)\n",
    "        yValid = true_f(xValid) + noiseSTD*np.random.randn(nValid)\n",
    "        \n",
    "        # Loop over polynomial degree.  Use function from part B \n",
    "        # to fit to training set and predict on validation set.\n",
    "        # Store predictions those predictions in yHatValid[deg]\n",
    "        for deg in degrees:\n",
    "            yHatValid[deg][:,tsID] = poly_predict(xTrain, yTrain, xValid, deg)\n",
    "            msesValid[deg][tsID] = np.mean((yValid-yHatValid[deg][:,tsID])**2)\n",
    "    \n",
    "\n",
    "    # Loop over each polynomial degree and compute squared-bias, variance, \n",
    "    # and mean MSE on validation set.  \n",
    "    sqBias, variance, mseValid = np.zeros(max_deg), np.zeros(max_deg), np.zeros(max_deg) \n",
    "    \n",
    "    for ii, deg in enumerate(degrees):\n",
    "        \n",
    "        meanValues= []\n",
    "        for obj in yHatValid[deg]:\n",
    "            meanValues.append(np.mean(obj))\n",
    "            \n",
    "        sqBias[ii] = np.mean((true_f(xValid)- meanValues)**2)\n",
    "        \n",
    "        for tsID in range(num_sims):\n",
    "            varMean[deg][tsID] = np.mean((meanValues - yHatValid[deg][:,tsID])**2)\n",
    "            \n",
    "        variance[ii] = np.mean(varMean[deg])\n",
    "        mseValid[ii] = np.mean(msesValid[deg])\n",
    "        \n",
    "    # Plot squared bias, variance, and validation MSE \n",
    "    fig, ax = plt.subplots(nrows=1, ncols=1, figsize=(8,6))\n",
    "    ax.plot(degrees, sqBias, color=\"steelblue\", lw=3, label=\"Bias**2\")\n",
    "    ax.plot(degrees, variance, color=\"#a76c6e\", lw=3, label=\"Variance\")\n",
    "    ax.plot(degrees, mseValid, color=\"black\", lw=3, label=\"Valid MSE\")\n",
    "    ax.grid(alpha=0.25)\n",
    "    ax.set_xlabel(\"Model Complexity (Poly Degree)\", fontsize=16)\n",
    "    ax.set_ylabel(\"Error\", fontsize=16)\n",
    "    ax.legend(loc=\"upper center\", fontsize=12)\n",
    "    \n",
    "    # Return arrays of squared-Bias, variance, and MSE \n",
    "    return sqBias, variance, mseValid"
   ]
  },
  {
   "cell_type": "code",
   "execution_count": null,
   "metadata": {},
   "outputs": [],
   "source": [
    "sqBias, variance, mseValid = bias_variance_study(30, 100, train_frac=0.80, random_state=1241)\n",
    "sqBias, variance, mseValid = bias_variance_study(30, 100, train_frac=0.50, random_state=1241)\n",
    "sqBias, variance, mseValid = bias_variance_study(300, 100, train_frac=0.70, random_state=1241)"
   ]
  },
  {
   "cell_type": "markdown",
   "metadata": {},
   "source": [
    "**Part D**: When everything is working, increase the size of the simulated data sets and the number of simulation runs and compare the difference between the validation MSE and the sum of the squared-Bias the Variance for each polynomial degree.  Try this for several values of the standard deviation of the model noise.  What do you notice?  How can you explain this result using the notions of Bias-Variance and Reducible and Irreducible error discussed in class?  "
   ]
  },
  {
   "cell_type": "markdown",
   "metadata": {},
   "source": [
    "#### As the value of the of the polynomial degree increases, the Bias^2 and Valid MSE are extremley similair in shapes of their lines. The biggest difference is that the MSE is shifted higher along the y-axis. Like we dicussed in class for the Bias-Variance trade-off, we noticed that as the model becomes more complex (higher polynomial degrees), the Bias^2 will decrease but the MSE (total error) increases. However initially when the polynomial degree is low, both Bias^2 and MSE decrease until they hit the Optimum Model Complexity point and from then on, the Bias^2 keeps decreasing but the MSE increases. And in some cases, like if there is many more points added to the data, both lines (MSE & Bias^2) will flatline and you can only make your model better to a certain degree. This relation is clearly reflected in the graph above as the Model Complexity changes."
   ]
  },
  {
   "cell_type": "code",
   "execution_count": null,
   "metadata": {},
   "outputs": [],
   "source": []
  }
 ],
 "metadata": {
  "kernelspec": {
   "display_name": "Python 3",
   "language": "python",
   "name": "python3"
  },
  "language_info": {
   "codemirror_mode": {
    "name": "ipython",
    "version": 3
   },
   "file_extension": ".py",
   "mimetype": "text/x-python",
   "name": "python",
   "nbconvert_exporter": "python",
   "pygments_lexer": "ipython3",
   "version": "3.6.0"
  }
 },
 "nbformat": 4,
 "nbformat_minor": 2
}
